{
 "cells": [
  {
   "cell_type": "code",
   "execution_count": 1,
   "id": "53fefa77",
   "metadata": {
    "execution": {
     "iopub.execute_input": "2022-03-20T12:50:17.055637Z",
     "iopub.status.busy": "2022-03-20T12:50:17.054756Z",
     "iopub.status.idle": "2022-03-20T12:50:18.190285Z",
     "shell.execute_reply": "2022-03-20T12:50:18.189412Z",
     "shell.execute_reply.started": "2022-03-20T12:43:27.711423Z"
    },
    "papermill": {
     "duration": 1.170447,
     "end_time": "2022-03-20T12:50:18.190470",
     "exception": false,
     "start_time": "2022-03-20T12:50:17.020023",
     "status": "completed"
    },
    "tags": []
   },
   "outputs": [],
   "source": [
    "import pandas as pd\n",
    "import numpy as np\n",
    "import matplotlib.pyplot as plt\n",
    "import seaborn as sns"
   ]
  },
  {
   "cell_type": "code",
   "execution_count": 2,
   "id": "0a4f40d2",
   "metadata": {
    "execution": {
     "iopub.execute_input": "2022-03-20T12:50:18.239017Z",
     "iopub.status.busy": "2022-03-20T12:50:18.238253Z",
     "iopub.status.idle": "2022-03-20T12:50:18.269934Z",
     "shell.execute_reply": "2022-03-20T12:50:18.269293Z",
     "shell.execute_reply.started": "2022-03-20T12:43:28.809719Z"
    },
    "papermill": {
     "duration": 0.056824,
     "end_time": "2022-03-20T12:50:18.270089",
     "exception": false,
     "start_time": "2022-03-20T12:50:18.213265",
     "status": "completed"
    },
    "tags": []
   },
   "outputs": [],
   "source": [
    "data = pd.read_csv('../input/road-traffic-deaths-1990-to-2019/output.csv')"
   ]
  },
  {
   "cell_type": "code",
   "execution_count": 3,
   "id": "0b06bb6b",
   "metadata": {
    "execution": {
     "iopub.execute_input": "2022-03-20T12:50:18.312965Z",
     "iopub.status.busy": "2022-03-20T12:50:18.312276Z",
     "iopub.status.idle": "2022-03-20T12:50:18.332420Z",
     "shell.execute_reply": "2022-03-20T12:50:18.333013Z",
     "shell.execute_reply.started": "2022-03-20T12:43:28.844945Z"
    },
    "papermill": {
     "duration": 0.04338,
     "end_time": "2022-03-20T12:50:18.333211",
     "exception": false,
     "start_time": "2022-03-20T12:50:18.289831",
     "status": "completed"
    },
    "tags": []
   },
   "outputs": [
    {
     "data": {
      "text/html": [
       "<div>\n",
       "<style scoped>\n",
       "    .dataframe tbody tr th:only-of-type {\n",
       "        vertical-align: middle;\n",
       "    }\n",
       "\n",
       "    .dataframe tbody tr th {\n",
       "        vertical-align: top;\n",
       "    }\n",
       "\n",
       "    .dataframe thead th {\n",
       "        text-align: right;\n",
       "    }\n",
       "</style>\n",
       "<table border=\"1\" class=\"dataframe\">\n",
       "  <thead>\n",
       "    <tr style=\"text-align: right;\">\n",
       "      <th></th>\n",
       "      <th>Unnamed: 0</th>\n",
       "      <th>Entity</th>\n",
       "      <th>Code</th>\n",
       "      <th>Year</th>\n",
       "      <th>Deaths</th>\n",
       "      <th>Sidedness</th>\n",
       "    </tr>\n",
       "  </thead>\n",
       "  <tbody>\n",
       "    <tr>\n",
       "      <th>0</th>\n",
       "      <td>0</td>\n",
       "      <td>Afghanistan</td>\n",
       "      <td>AFG</td>\n",
       "      <td>1990</td>\n",
       "      <td>4154</td>\n",
       "      <td>0</td>\n",
       "    </tr>\n",
       "    <tr>\n",
       "      <th>1</th>\n",
       "      <td>1</td>\n",
       "      <td>Afghanistan</td>\n",
       "      <td>AFG</td>\n",
       "      <td>1991</td>\n",
       "      <td>4472</td>\n",
       "      <td>0</td>\n",
       "    </tr>\n",
       "    <tr>\n",
       "      <th>2</th>\n",
       "      <td>2</td>\n",
       "      <td>Afghanistan</td>\n",
       "      <td>AFG</td>\n",
       "      <td>1992</td>\n",
       "      <td>5106</td>\n",
       "      <td>0</td>\n",
       "    </tr>\n",
       "    <tr>\n",
       "      <th>3</th>\n",
       "      <td>3</td>\n",
       "      <td>Afghanistan</td>\n",
       "      <td>AFG</td>\n",
       "      <td>1993</td>\n",
       "      <td>5681</td>\n",
       "      <td>0</td>\n",
       "    </tr>\n",
       "    <tr>\n",
       "      <th>4</th>\n",
       "      <td>4</td>\n",
       "      <td>Afghanistan</td>\n",
       "      <td>AFG</td>\n",
       "      <td>1994</td>\n",
       "      <td>6001</td>\n",
       "      <td>0</td>\n",
       "    </tr>\n",
       "  </tbody>\n",
       "</table>\n",
       "</div>"
      ],
      "text/plain": [
       "   Unnamed: 0       Entity Code  Year  Deaths  Sidedness\n",
       "0           0  Afghanistan  AFG  1990    4154          0\n",
       "1           1  Afghanistan  AFG  1991    4472          0\n",
       "2           2  Afghanistan  AFG  1992    5106          0\n",
       "3           3  Afghanistan  AFG  1993    5681          0\n",
       "4           4  Afghanistan  AFG  1994    6001          0"
      ]
     },
     "execution_count": 3,
     "metadata": {},
     "output_type": "execute_result"
    }
   ],
   "source": [
    "data.head()"
   ]
  },
  {
   "cell_type": "code",
   "execution_count": 4,
   "id": "16df8893",
   "metadata": {
    "execution": {
     "iopub.execute_input": "2022-03-20T12:50:18.376999Z",
     "iopub.status.busy": "2022-03-20T12:50:18.376314Z",
     "iopub.status.idle": "2022-03-20T12:50:18.387707Z",
     "shell.execute_reply": "2022-03-20T12:50:18.387136Z",
     "shell.execute_reply.started": "2022-03-20T12:43:28.868423Z"
    },
    "papermill": {
     "duration": 0.034246,
     "end_time": "2022-03-20T12:50:18.387865",
     "exception": false,
     "start_time": "2022-03-20T12:50:18.353619",
     "status": "completed"
    },
    "tags": []
   },
   "outputs": [
    {
     "data": {
      "text/plain": [
       "Unnamed: 0       0\n",
       "Entity           0\n",
       "Code          1860\n",
       "Year             0\n",
       "Deaths           0\n",
       "Sidedness        0\n",
       "dtype: int64"
      ]
     },
     "execution_count": 4,
     "metadata": {},
     "output_type": "execute_result"
    }
   ],
   "source": [
    "data.isnull().sum()"
   ]
  },
  {
   "cell_type": "code",
   "execution_count": 5,
   "id": "0ee8871e",
   "metadata": {
    "execution": {
     "iopub.execute_input": "2022-03-20T12:50:18.445984Z",
     "iopub.status.busy": "2022-03-20T12:50:18.445238Z",
     "iopub.status.idle": "2022-03-20T12:50:18.459530Z",
     "shell.execute_reply": "2022-03-20T12:50:18.460125Z",
     "shell.execute_reply.started": "2022-03-20T12:43:28.879843Z"
    },
    "papermill": {
     "duration": 0.051684,
     "end_time": "2022-03-20T12:50:18.460322",
     "exception": false,
     "start_time": "2022-03-20T12:50:18.408638",
     "status": "completed"
    },
    "tags": []
   },
   "outputs": [
    {
     "name": "stdout",
     "output_type": "stream",
     "text": [
      "<class 'pandas.core.frame.DataFrame'>\n",
      "RangeIndex: 8010 entries, 0 to 8009\n",
      "Data columns (total 6 columns):\n",
      " #   Column      Non-Null Count  Dtype \n",
      "---  ------      --------------  ----- \n",
      " 0   Unnamed: 0  8010 non-null   int64 \n",
      " 1   Entity      8010 non-null   object\n",
      " 2   Code        6150 non-null   object\n",
      " 3   Year        8010 non-null   int64 \n",
      " 4   Deaths      8010 non-null   int64 \n",
      " 5   Sidedness   8010 non-null   int64 \n",
      "dtypes: int64(4), object(2)\n",
      "memory usage: 375.6+ KB\n"
     ]
    }
   ],
   "source": [
    "data.info()"
   ]
  },
  {
   "cell_type": "markdown",
   "id": "14ae043f",
   "metadata": {
    "papermill": {
     "duration": 0.021378,
     "end_time": "2022-03-20T12:50:18.503311",
     "exception": false,
     "start_time": "2022-03-20T12:50:18.481933",
     "status": "completed"
    },
    "tags": []
   },
   "source": [
    "# Year of deaths"
   ]
  },
  {
   "cell_type": "code",
   "execution_count": 6,
   "id": "f8c5ae6a",
   "metadata": {
    "execution": {
     "iopub.execute_input": "2022-03-20T12:50:18.549781Z",
     "iopub.status.busy": "2022-03-20T12:50:18.549099Z",
     "iopub.status.idle": "2022-03-20T12:50:18.556143Z",
     "shell.execute_reply": "2022-03-20T12:50:18.556648Z",
     "shell.execute_reply.started": "2022-03-20T12:43:28.910578Z"
    },
    "papermill": {
     "duration": 0.031708,
     "end_time": "2022-03-20T12:50:18.556861",
     "exception": false,
     "start_time": "2022-03-20T12:50:18.525153",
     "status": "completed"
    },
    "tags": []
   },
   "outputs": [],
   "source": [
    "death_year = data.groupby(['Year'])['Deaths'].sum().reset_index()"
   ]
  },
  {
   "cell_type": "code",
   "execution_count": 7,
   "id": "d952462c",
   "metadata": {
    "execution": {
     "iopub.execute_input": "2022-03-20T12:50:18.602785Z",
     "iopub.status.busy": "2022-03-20T12:50:18.602064Z",
     "iopub.status.idle": "2022-03-20T12:50:19.213646Z",
     "shell.execute_reply": "2022-03-20T12:50:19.212981Z",
     "shell.execute_reply.started": "2022-03-20T12:43:28.919463Z"
    },
    "papermill": {
     "duration": 0.636054,
     "end_time": "2022-03-20T12:50:19.213801",
     "exception": false,
     "start_time": "2022-03-20T12:50:18.577747",
     "status": "completed"
    },
    "tags": []
   },
   "outputs": [
    {
     "data": {
      "text/plain": [
       "Text(0.5, 1.0, 'Year of Deaths')"
      ]
     },
     "execution_count": 7,
     "metadata": {},
     "output_type": "execute_result"
    },
    {
     "data": {
      "image/png": "[encoded data removed]",
      "text/plain": [
       "<Figure size 1224x576 with 1 Axes>"
      ]
     },
     "metadata": {
      "needs_background": "light"
     },
     "output_type": "display_data"
    }
   ],
   "source": [
    "color = ['#800000','#8B0000','#A52A2A','#B22222','#DC143C','#FF0000','#FF6347','#FF7F50']\n",
    "fig = plt.figure(figsize=(17,8))\n",
    "sns.barplot(x=death_year['Year'],y=death_year['Deaths'],palette = color)\n",
    "plt.xlabel('Year',weight='bold')\n",
    "plt.title('Year of Deaths',fontsize=20)"
   ]
  },
  {
   "cell_type": "code",
   "execution_count": 8,
   "id": "534dd3b7",
   "metadata": {
    "execution": {
     "iopub.execute_input": "2022-03-20T12:50:19.267817Z",
     "iopub.status.busy": "2022-03-20T12:50:19.266892Z",
     "iopub.status.idle": "2022-03-20T12:50:19.270149Z",
     "shell.execute_reply": "2022-03-20T12:50:19.269512Z",
     "shell.execute_reply.started": "2022-03-20T12:43:29.394034Z"
    },
    "papermill": {
     "duration": 0.033228,
     "end_time": "2022-03-20T12:50:19.270316",
     "exception": false,
     "start_time": "2022-03-20T12:50:19.237088",
     "status": "completed"
    },
    "tags": []
   },
   "outputs": [],
   "source": [
    "year_2019 = data[data['Year'] ==2019]"
   ]
  },
  {
   "cell_type": "code",
   "execution_count": 9,
   "id": "5bf21857",
   "metadata": {
    "execution": {
     "iopub.execute_input": "2022-03-20T12:50:19.321751Z",
     "iopub.status.busy": "2022-03-20T12:50:19.321047Z",
     "iopub.status.idle": "2022-03-20T12:50:19.324052Z",
     "shell.execute_reply": "2022-03-20T12:50:19.324704Z",
     "shell.execute_reply.started": "2022-03-20T12:43:29.402151Z"
    },
    "papermill": {
     "duration": 0.032242,
     "end_time": "2022-03-20T12:50:19.324922",
     "exception": false,
     "start_time": "2022-03-20T12:50:19.292680",
     "status": "completed"
    },
    "tags": []
   },
   "outputs": [
    {
     "data": {
      "text/plain": [
       "43754.43071161049"
      ]
     },
     "execution_count": 9,
     "metadata": {},
     "output_type": "execute_result"
    }
   ],
   "source": [
    "year_2019['Deaths'].mean()"
   ]
  },
  {
   "cell_type": "markdown",
   "id": "00c86000",
   "metadata": {
    "papermill": {
     "duration": 0.022691,
     "end_time": "2022-03-20T12:50:19.370516",
     "exception": false,
     "start_time": "2022-03-20T12:50:19.347825",
     "status": "completed"
    },
    "tags": []
   },
   "source": [
    "# 43754 averege of death in 2019,find the probability of more then 1 people death in this year?"
   ]
  },
  {
   "cell_type": "markdown",
   "id": "9b4d326b",
   "metadata": {
    "papermill": {
     "duration": 0.022694,
     "end_time": "2022-03-20T12:50:19.416797",
     "exception": false,
     "start_time": "2022-03-20T12:50:19.394103",
     "status": "completed"
    },
    "tags": []
   },
   "source": [
    "![](https://www.investopedia.com/thmb/IM1qQJ4Cejz0h0L0bqDDKLgTunk=/1504x632/filters:no_upscale():max_bytes(150000):strip_icc()/poisson-56a8fa9e3df78cf772a26eb0.jpg)# "
   ]
  },
  {
   "cell_type": "code",
   "execution_count": 10,
   "id": "fe56471e",
   "metadata": {
    "execution": {
     "iopub.execute_input": "2022-03-20T12:50:19.465996Z",
     "iopub.status.busy": "2022-03-20T12:50:19.465171Z",
     "iopub.status.idle": "2022-03-20T12:50:19.469192Z",
     "shell.execute_reply": "2022-03-20T12:50:19.469805Z",
     "shell.execute_reply.started": "2022-03-20T12:43:29.416579Z"
    },
    "papermill": {
     "duration": 0.030503,
     "end_time": "2022-03-20T12:50:19.470056",
     "exception": false,
     "start_time": "2022-03-20T12:50:19.439553",
     "status": "completed"
    },
    "tags": []
   },
   "outputs": [],
   "source": [
    "import math"
   ]
  },
  {
   "cell_type": "code",
   "execution_count": 11,
   "id": "523507be",
   "metadata": {
    "execution": {
     "iopub.execute_input": "2022-03-20T12:50:19.521716Z",
     "iopub.status.busy": "2022-03-20T12:50:19.520591Z",
     "iopub.status.idle": "2022-03-20T12:50:19.523532Z",
     "shell.execute_reply": "2022-03-20T12:50:19.522967Z",
     "shell.execute_reply.started": "2022-03-20T12:45:04.932348Z"
    },
    "papermill": {
     "duration": 0.030314,
     "end_time": "2022-03-20T12:50:19.523687",
     "exception": false,
     "start_time": "2022-03-20T12:50:19.493373",
     "status": "completed"
    },
    "tags": []
   },
   "outputs": [],
   "source": [
    "#mean = 43754\n",
    "#x >0,1"
   ]
  },
  {
   "cell_type": "code",
   "execution_count": 12,
   "id": "59bd7c3b",
   "metadata": {
    "execution": {
     "iopub.execute_input": "2022-03-20T12:50:19.574954Z",
     "iopub.status.busy": "2022-03-20T12:50:19.574096Z",
     "iopub.status.idle": "2022-03-20T12:50:19.577030Z",
     "shell.execute_reply": "2022-03-20T12:50:19.576439Z",
     "shell.execute_reply.started": "2022-03-20T12:44:33.752121Z"
    },
    "papermill": {
     "duration": 0.03037,
     "end_time": "2022-03-20T12:50:19.577181",
     "exception": false,
     "start_time": "2022-03-20T12:50:19.546811",
     "status": "completed"
    },
    "tags": []
   },
   "outputs": [],
   "source": [
    "#find x =0 \n",
    "zero = math.exp(-43754) * 43754**0"
   ]
  },
  {
   "cell_type": "code",
   "execution_count": 13,
   "id": "ab3c0ba3",
   "metadata": {
    "execution": {
     "iopub.execute_input": "2022-03-20T12:50:19.627455Z",
     "iopub.status.busy": "2022-03-20T12:50:19.626780Z",
     "iopub.status.idle": "2022-03-20T12:50:19.630627Z",
     "shell.execute_reply": "2022-03-20T12:50:19.631318Z",
     "shell.execute_reply.started": "2022-03-20T12:44:31.311003Z"
    },
    "papermill": {
     "duration": 0.030525,
     "end_time": "2022-03-20T12:50:19.631500",
     "exception": false,
     "start_time": "2022-03-20T12:50:19.600975",
     "status": "completed"
    },
    "tags": []
   },
   "outputs": [],
   "source": [
    "one = math.exp(-43754) * 43754**1"
   ]
  },
  {
   "cell_type": "code",
   "execution_count": 14,
   "id": "d864196b",
   "metadata": {
    "execution": {
     "iopub.execute_input": "2022-03-20T12:50:19.681491Z",
     "iopub.status.busy": "2022-03-20T12:50:19.680715Z",
     "iopub.status.idle": "2022-03-20T12:50:19.685988Z",
     "shell.execute_reply": "2022-03-20T12:50:19.686645Z",
     "shell.execute_reply.started": "2022-03-20T12:45:00.038129Z"
    },
    "papermill": {
     "duration": 0.032049,
     "end_time": "2022-03-20T12:50:19.686838",
     "exception": false,
     "start_time": "2022-03-20T12:50:19.654789",
     "status": "completed"
    },
    "tags": []
   },
   "outputs": [
    {
     "data": {
      "text/plain": [
       "1.0"
      ]
     },
     "execution_count": 14,
     "metadata": {},
     "output_type": "execute_result"
    }
   ],
   "source": [
    "probability = 1-zero+one\n",
    "probability"
   ]
  },
  {
   "cell_type": "code",
   "execution_count": null,
   "id": "c2557894",
   "metadata": {
    "papermill": {
     "duration": 0.023269,
     "end_time": "2022-03-20T12:50:19.733784",
     "exception": false,
     "start_time": "2022-03-20T12:50:19.710515",
     "status": "completed"
    },
    "tags": []
   },
   "outputs": [],
   "source": []
  }
 ],
 "metadata": {
  "kernelspec": {
   "display_name": "Python 3",
   "language": "python",
   "name": "python3"
  },
  "language_info": {
   "codemirror_mode": {
    "name": "ipython",
    "version": 3
   },
   "file_extension": ".py",
   "mimetype": "text/x-python",
   "name": "python",
   "nbconvert_exporter": "python",
   "pygments_lexer": "ipython3",
   "version": "3.7.12"
  },
  "papermill": {
   "default_parameters": {},
   "duration": 14.760202,
   "end_time": "2022-03-20T12:50:20.569385",
   "environment_variables": {},
   "exception": null,
   "input_path": "__notebook__.ipynb",
   "output_path": "__notebook__.ipynb",
   "parameters": {},
   "start_time": "2022-03-20T12:50:05.809183",
   "version": "2.3.3"
  }
 },
 "nbformat": 4,
 "nbformat_minor": 5
}
