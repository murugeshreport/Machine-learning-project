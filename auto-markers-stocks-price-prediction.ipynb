{
 "cells": [
  {
   "cell_type": "markdown",
   "id": "f4a7200b",
   "metadata": {
    "papermill": {
     "duration": 0.038758,
     "end_time": "2022-03-11T10:28:21.776630",
     "exception": false,
     "start_time": "2022-03-11T10:28:21.737872",
     "status": "completed"
    },
    "tags": []
   },
   "source": [
    "# AUTO MARKERS STOCKS PRICE PREDICTION"
   ]
  },
  {
   "cell_type": "code",
   "execution_count": 1,
   "id": "f63c61a7",
   "metadata": {
    "execution": {
     "iopub.execute_input": "2022-03-11T10:28:21.877054Z",
     "iopub.status.busy": "2022-03-11T10:28:21.876205Z",
     "iopub.status.idle": "2022-03-11T10:28:22.844403Z",
     "shell.execute_reply": "2022-03-11T10:28:22.845066Z",
     "shell.execute_reply.started": "2022-03-11T09:50:34.992187Z"
    },
    "papermill": {
     "duration": 1.025943,
     "end_time": "2022-03-11T10:28:22.845365",
     "exception": false,
     "start_time": "2022-03-11T10:28:21.819422",
     "status": "completed"
    },
    "tags": []
   },
   "outputs": [],
   "source": [
    "import pandas as pd\n",
    "import numpy as np\n",
    "import matplotlib.pyplot as plt\n",
    "import seaborn as sns"
   ]
  },
  {
   "cell_type": "code",
   "execution_count": 2,
   "id": "6018e4c8",
   "metadata": {
    "execution": {
     "iopub.execute_input": "2022-03-11T10:28:22.921366Z",
     "iopub.status.busy": "2022-03-11T10:28:22.920718Z",
     "iopub.status.idle": "2022-03-11T10:28:23.188362Z",
     "shell.execute_reply": "2022-03-11T10:28:23.188892Z",
     "shell.execute_reply.started": "2022-03-11T09:50:34.998821Z"
    },
    "papermill": {
     "duration": 0.308208,
     "end_time": "2022-03-11T10:28:23.189066",
     "exception": false,
     "start_time": "2022-03-11T10:28:22.880858",
     "status": "completed"
    },
    "tags": []
   },
   "outputs": [],
   "source": [
    "df = pd.read_csv('../input/top-48-automakers-daily-stock-prices-20102022/automakers stocks 2010-2022.csv')"
   ]
  },
  {
   "cell_type": "code",
   "execution_count": 3,
   "id": "abcecefb",
   "metadata": {
    "execution": {
     "iopub.execute_input": "2022-03-11T10:28:23.263372Z",
     "iopub.status.busy": "2022-03-11T10:28:23.262811Z",
     "iopub.status.idle": "2022-03-11T10:28:23.284036Z",
     "shell.execute_reply": "2022-03-11T10:28:23.284494Z",
     "shell.execute_reply.started": "2022-03-11T09:50:35.144263Z"
    },
    "papermill": {
     "duration": 0.059876,
     "end_time": "2022-03-11T10:28:23.284667",
     "exception": false,
     "start_time": "2022-03-11T10:28:23.224791",
     "status": "completed"
    },
    "tags": []
   },
   "outputs": [
    {
     "data": {
      "text/html": [
       "<div>\n",
       "<style scoped>\n",
       "    .dataframe tbody tr th:only-of-type {\n",
       "        vertical-align: middle;\n",
       "    }\n",
       "\n",
       "    .dataframe tbody tr th {\n",
       "        vertical-align: top;\n",
       "    }\n",
       "\n",
       "    .dataframe thead th {\n",
       "        text-align: right;\n",
       "    }\n",
       "</style>\n",
       "<table border=\"1\" class=\"dataframe\">\n",
       "  <thead>\n",
       "    <tr style=\"text-align: right;\">\n",
       "      <th></th>\n",
       "      <th>Date</th>\n",
       "      <th>Symbol</th>\n",
       "      <th>Adj Close</th>\n",
       "      <th>Close</th>\n",
       "      <th>High</th>\n",
       "      <th>Low</th>\n",
       "      <th>Open</th>\n",
       "      <th>Volume</th>\n",
       "    </tr>\n",
       "  </thead>\n",
       "  <tbody>\n",
       "    <tr>\n",
       "      <th>0</th>\n",
       "      <td>2009-12-31</td>\n",
       "      <td>TM</td>\n",
       "      <td>71.532616</td>\n",
       "      <td>84.160004</td>\n",
       "      <td>85.160004</td>\n",
       "      <td>84.160004</td>\n",
       "      <td>85.160004</td>\n",
       "      <td>223400.0</td>\n",
       "    </tr>\n",
       "    <tr>\n",
       "      <th>1</th>\n",
       "      <td>2009-12-31</td>\n",
       "      <td>F</td>\n",
       "      <td>6.710280</td>\n",
       "      <td>10.000000</td>\n",
       "      <td>10.060000</td>\n",
       "      <td>9.920000</td>\n",
       "      <td>10.040000</td>\n",
       "      <td>31253700.0</td>\n",
       "    </tr>\n",
       "    <tr>\n",
       "      <th>2</th>\n",
       "      <td>2009-12-31</td>\n",
       "      <td>HMC</td>\n",
       "      <td>33.738770</td>\n",
       "      <td>33.900002</td>\n",
       "      <td>34.040001</td>\n",
       "      <td>33.840000</td>\n",
       "      <td>33.840000</td>\n",
       "      <td>567400.0</td>\n",
       "    </tr>\n",
       "    <tr>\n",
       "      <th>3</th>\n",
       "      <td>2009-12-31</td>\n",
       "      <td>HYMTF</td>\n",
       "      <td>17.000000</td>\n",
       "      <td>17.000000</td>\n",
       "      <td>17.000000</td>\n",
       "      <td>17.000000</td>\n",
       "      <td>17.000000</td>\n",
       "      <td>0.0</td>\n",
       "    </tr>\n",
       "    <tr>\n",
       "      <th>4</th>\n",
       "      <td>2009-12-31</td>\n",
       "      <td>TTM</td>\n",
       "      <td>15.805059</td>\n",
       "      <td>16.860001</td>\n",
       "      <td>17.080000</td>\n",
       "      <td>16.830000</td>\n",
       "      <td>16.940001</td>\n",
       "      <td>586100.0</td>\n",
       "    </tr>\n",
       "  </tbody>\n",
       "</table>\n",
       "</div>"
      ],
      "text/plain": [
       "         Date Symbol  Adj Close      Close       High        Low       Open  \\\n",
       "0  2009-12-31     TM  71.532616  84.160004  85.160004  84.160004  85.160004   \n",
       "1  2009-12-31      F   6.710280  10.000000  10.060000   9.920000  10.040000   \n",
       "2  2009-12-31    HMC  33.738770  33.900002  34.040001  33.840000  33.840000   \n",
       "3  2009-12-31  HYMTF  17.000000  17.000000  17.000000  17.000000  17.000000   \n",
       "4  2009-12-31    TTM  15.805059  16.860001  17.080000  16.830000  16.940001   \n",
       "\n",
       "       Volume  \n",
       "0    223400.0  \n",
       "1  31253700.0  \n",
       "2    567400.0  \n",
       "3         0.0  \n",
       "4    586100.0  "
      ]
     },
     "execution_count": 3,
     "metadata": {},
     "output_type": "execute_result"
    }
   ],
   "source": [
    "df.head()"
   ]
  },
  {
   "cell_type": "code",
   "execution_count": 4,
   "id": "ad241152",
   "metadata": {
    "execution": {
     "iopub.execute_input": "2022-03-11T10:28:23.361287Z",
     "iopub.status.busy": "2022-03-11T10:28:23.360709Z",
     "iopub.status.idle": "2022-03-11T10:28:23.376485Z",
     "shell.execute_reply": "2022-03-11T10:28:23.376919Z",
     "shell.execute_reply.started": "2022-03-11T09:50:35.165039Z"
    },
    "papermill": {
     "duration": 0.056047,
     "end_time": "2022-03-11T10:28:23.377102",
     "exception": false,
     "start_time": "2022-03-11T10:28:23.321055",
     "status": "completed"
    },
    "tags": []
   },
   "outputs": [
    {
     "data": {
      "text/plain": [
       "Date         0\n",
       "Symbol       0\n",
       "Adj Close    0\n",
       "Close        0\n",
       "High         0\n",
       "Low          0\n",
       "Open         0\n",
       "Volume       0\n",
       "dtype: int64"
      ]
     },
     "execution_count": 4,
     "metadata": {},
     "output_type": "execute_result"
    }
   ],
   "source": [
    "df.isnull().sum()"
   ]
  },
  {
   "cell_type": "code",
   "execution_count": 5,
   "id": "1e27ad48",
   "metadata": {
    "execution": {
     "iopub.execute_input": "2022-03-11T10:28:23.454530Z",
     "iopub.status.busy": "2022-03-11T10:28:23.453947Z",
     "iopub.status.idle": "2022-03-11T10:28:23.480935Z",
     "shell.execute_reply": "2022-03-11T10:28:23.480356Z",
     "shell.execute_reply.started": "2022-03-11T09:50:35.184580Z"
    },
    "papermill": {
     "duration": 0.066566,
     "end_time": "2022-03-11T10:28:23.481064",
     "exception": false,
     "start_time": "2022-03-11T10:28:23.414498",
     "status": "completed"
    },
    "tags": []
   },
   "outputs": [
    {
     "data": {
      "text/html": [
       "<div>\n",
       "<style scoped>\n",
       "    .dataframe tbody tr th:only-of-type {\n",
       "        vertical-align: middle;\n",
       "    }\n",
       "\n",
       "    .dataframe tbody tr th {\n",
       "        vertical-align: top;\n",
       "    }\n",
       "\n",
       "    .dataframe thead th {\n",
       "        text-align: right;\n",
       "    }\n",
       "</style>\n",
       "<table border=\"1\" class=\"dataframe\">\n",
       "  <thead>\n",
       "    <tr style=\"text-align: right;\">\n",
       "      <th></th>\n",
       "      <th>index</th>\n",
       "      <th>Symbol</th>\n",
       "    </tr>\n",
       "  </thead>\n",
       "  <tbody>\n",
       "    <tr>\n",
       "      <th>0</th>\n",
       "      <td>VOW3.DE</td>\n",
       "      <td>3071</td>\n",
       "    </tr>\n",
       "    <tr>\n",
       "      <th>1</th>\n",
       "      <td>DAI.DE</td>\n",
       "      <td>3071</td>\n",
       "    </tr>\n",
       "    <tr>\n",
       "      <th>2</th>\n",
       "      <td>BMW.DE</td>\n",
       "      <td>3071</td>\n",
       "    </tr>\n",
       "    <tr>\n",
       "      <th>3</th>\n",
       "      <td>TM</td>\n",
       "      <td>3047</td>\n",
       "    </tr>\n",
       "    <tr>\n",
       "      <th>4</th>\n",
       "      <td>HMC</td>\n",
       "      <td>3047</td>\n",
       "    </tr>\n",
       "    <tr>\n",
       "      <th>5</th>\n",
       "      <td>HYMTF</td>\n",
       "      <td>3047</td>\n",
       "    </tr>\n",
       "    <tr>\n",
       "      <th>6</th>\n",
       "      <td>TTM</td>\n",
       "      <td>3047</td>\n",
       "    </tr>\n",
       "    <tr>\n",
       "      <th>7</th>\n",
       "      <td>PII</td>\n",
       "      <td>3047</td>\n",
       "    </tr>\n",
       "    <tr>\n",
       "      <th>8</th>\n",
       "      <td>F</td>\n",
       "      <td>3047</td>\n",
       "    </tr>\n",
       "    <tr>\n",
       "      <th>9</th>\n",
       "      <td>M&amp;M.NS</td>\n",
       "      <td>2987</td>\n",
       "    </tr>\n",
       "    <tr>\n",
       "      <th>10</th>\n",
       "      <td>MARUTI.NS</td>\n",
       "      <td>2987</td>\n",
       "    </tr>\n",
       "    <tr>\n",
       "      <th>11</th>\n",
       "      <td>0175.HK</td>\n",
       "      <td>2985</td>\n",
       "    </tr>\n",
       "    <tr>\n",
       "      <th>12</th>\n",
       "      <td>0489.HK</td>\n",
       "      <td>2985</td>\n",
       "    </tr>\n",
       "    <tr>\n",
       "      <th>13</th>\n",
       "      <td>000270.KS</td>\n",
       "      <td>2984</td>\n",
       "    </tr>\n",
       "    <tr>\n",
       "      <th>14</th>\n",
       "      <td>003620.KS</td>\n",
       "      <td>2983</td>\n",
       "    </tr>\n",
       "    <tr>\n",
       "      <th>15</th>\n",
       "      <td>7201.T</td>\n",
       "      <td>2981</td>\n",
       "    </tr>\n",
       "    <tr>\n",
       "      <th>16</th>\n",
       "      <td>7269.T</td>\n",
       "      <td>2981</td>\n",
       "    </tr>\n",
       "    <tr>\n",
       "      <th>17</th>\n",
       "      <td>7261.T</td>\n",
       "      <td>2981</td>\n",
       "    </tr>\n",
       "    <tr>\n",
       "      <th>18</th>\n",
       "      <td>7270.T</td>\n",
       "      <td>2981</td>\n",
       "    </tr>\n",
       "    <tr>\n",
       "      <th>19</th>\n",
       "      <td>7202.T</td>\n",
       "      <td>2981</td>\n",
       "    </tr>\n",
       "    <tr>\n",
       "      <th>20</th>\n",
       "      <td>2207.TW</td>\n",
       "      <td>2964</td>\n",
       "    </tr>\n",
       "    <tr>\n",
       "      <th>21</th>\n",
       "      <td>STLA</td>\n",
       "      <td>2938</td>\n",
       "    </tr>\n",
       "    <tr>\n",
       "      <th>22</th>\n",
       "      <td>000625.SZ</td>\n",
       "      <td>2937</td>\n",
       "    </tr>\n",
       "    <tr>\n",
       "      <th>23</th>\n",
       "      <td>000800.SZ</td>\n",
       "      <td>2934</td>\n",
       "    </tr>\n",
       "    <tr>\n",
       "      <th>24</th>\n",
       "      <td>600104.SS</td>\n",
       "      <td>2931</td>\n",
       "    </tr>\n",
       "    <tr>\n",
       "      <th>25</th>\n",
       "      <td>TSLA</td>\n",
       "      <td>2924</td>\n",
       "    </tr>\n",
       "    <tr>\n",
       "      <th>26</th>\n",
       "      <td>GM</td>\n",
       "      <td>2824</td>\n",
       "    </tr>\n",
       "    <tr>\n",
       "      <th>27</th>\n",
       "      <td>002594.SZ</td>\n",
       "      <td>2575</td>\n",
       "    </tr>\n",
       "    <tr>\n",
       "      <th>28</th>\n",
       "      <td>601633.SS</td>\n",
       "      <td>2513</td>\n",
       "    </tr>\n",
       "    <tr>\n",
       "      <th>29</th>\n",
       "      <td>RNSDF</td>\n",
       "      <td>2394</td>\n",
       "    </tr>\n",
       "    <tr>\n",
       "      <th>30</th>\n",
       "      <td>CENN</td>\n",
       "      <td>2358</td>\n",
       "    </tr>\n",
       "    <tr>\n",
       "      <th>31</th>\n",
       "      <td>RACE</td>\n",
       "      <td>1586</td>\n",
       "    </tr>\n",
       "    <tr>\n",
       "      <th>32</th>\n",
       "      <td>FUV</td>\n",
       "      <td>1103</td>\n",
       "    </tr>\n",
       "    <tr>\n",
       "      <th>33</th>\n",
       "      <td>NKLA</td>\n",
       "      <td>923</td>\n",
       "    </tr>\n",
       "    <tr>\n",
       "      <th>34</th>\n",
       "      <td>SOLO</td>\n",
       "      <td>881</td>\n",
       "    </tr>\n",
       "    <tr>\n",
       "      <th>35</th>\n",
       "      <td>NIO</td>\n",
       "      <td>858</td>\n",
       "    </tr>\n",
       "    <tr>\n",
       "      <th>36</th>\n",
       "      <td>A5SA.F</td>\n",
       "      <td>845</td>\n",
       "    </tr>\n",
       "    <tr>\n",
       "      <th>37</th>\n",
       "      <td>FSR</td>\n",
       "      <td>844</td>\n",
       "    </tr>\n",
       "    <tr>\n",
       "      <th>38</th>\n",
       "      <td>GOEV</td>\n",
       "      <td>710</td>\n",
       "    </tr>\n",
       "    <tr>\n",
       "      <th>39</th>\n",
       "      <td>RIDE</td>\n",
       "      <td>708</td>\n",
       "    </tr>\n",
       "    <tr>\n",
       "      <th>40</th>\n",
       "      <td>ARVL</td>\n",
       "      <td>509</td>\n",
       "    </tr>\n",
       "    <tr>\n",
       "      <th>41</th>\n",
       "      <td>LI</td>\n",
       "      <td>385</td>\n",
       "    </tr>\n",
       "    <tr>\n",
       "      <th>42</th>\n",
       "      <td>XPEV</td>\n",
       "      <td>365</td>\n",
       "    </tr>\n",
       "    <tr>\n",
       "      <th>43</th>\n",
       "      <td>LCID</td>\n",
       "      <td>350</td>\n",
       "    </tr>\n",
       "    <tr>\n",
       "      <th>44</th>\n",
       "      <td>REE</td>\n",
       "      <td>270</td>\n",
       "    </tr>\n",
       "    <tr>\n",
       "      <th>45</th>\n",
       "      <td>VOLCAR-B.ST</td>\n",
       "      <td>69</td>\n",
       "    </tr>\n",
       "    <tr>\n",
       "      <th>46</th>\n",
       "      <td>RIVN</td>\n",
       "      <td>61</td>\n",
       "    </tr>\n",
       "    <tr>\n",
       "      <th>47</th>\n",
       "      <td>SEV</td>\n",
       "      <td>56</td>\n",
       "    </tr>\n",
       "  </tbody>\n",
       "</table>\n",
       "</div>"
      ],
      "text/plain": [
       "          index  Symbol\n",
       "0       VOW3.DE    3071\n",
       "1        DAI.DE    3071\n",
       "2        BMW.DE    3071\n",
       "3            TM    3047\n",
       "4           HMC    3047\n",
       "5         HYMTF    3047\n",
       "6           TTM    3047\n",
       "7           PII    3047\n",
       "8             F    3047\n",
       "9        M&M.NS    2987\n",
       "10    MARUTI.NS    2987\n",
       "11      0175.HK    2985\n",
       "12      0489.HK    2985\n",
       "13    000270.KS    2984\n",
       "14    003620.KS    2983\n",
       "15       7201.T    2981\n",
       "16       7269.T    2981\n",
       "17       7261.T    2981\n",
       "18       7270.T    2981\n",
       "19       7202.T    2981\n",
       "20      2207.TW    2964\n",
       "21         STLA    2938\n",
       "22    000625.SZ    2937\n",
       "23    000800.SZ    2934\n",
       "24    600104.SS    2931\n",
       "25         TSLA    2924\n",
       "26           GM    2824\n",
       "27    002594.SZ    2575\n",
       "28    601633.SS    2513\n",
       "29        RNSDF    2394\n",
       "30         CENN    2358\n",
       "31         RACE    1586\n",
       "32          FUV    1103\n",
       "33         NKLA     923\n",
       "34         SOLO     881\n",
       "35          NIO     858\n",
       "36       A5SA.F     845\n",
       "37          FSR     844\n",
       "38         GOEV     710\n",
       "39         RIDE     708\n",
       "40         ARVL     509\n",
       "41           LI     385\n",
       "42         XPEV     365\n",
       "43         LCID     350\n",
       "44          REE     270\n",
       "45  VOLCAR-B.ST      69\n",
       "46         RIVN      61\n",
       "47          SEV      56"
      ]
     },
     "execution_count": 5,
     "metadata": {},
     "output_type": "execute_result"
    }
   ],
   "source": [
    "Sy = df['Symbol'].value_counts().reset_index()\n",
    "Sy"
   ]
  },
  {
   "cell_type": "code",
   "execution_count": 6,
   "id": "2261ba23",
   "metadata": {
    "execution": {
     "iopub.execute_input": "2022-03-11T10:28:23.564254Z",
     "iopub.status.busy": "2022-03-11T10:28:23.563452Z",
     "iopub.status.idle": "2022-03-11T10:28:23.566378Z",
     "shell.execute_reply": "2022-03-11T10:28:23.565798Z",
     "shell.execute_reply.started": "2022-03-11T09:50:35.203246Z"
    },
    "papermill": {
     "duration": 0.04832,
     "end_time": "2022-03-11T10:28:23.566513",
     "exception": false,
     "start_time": "2022-03-11T10:28:23.518193",
     "status": "completed"
    },
    "tags": []
   },
   "outputs": [],
   "source": [
    "symbol = Sy[Sy['Symbol']  >=1000]"
   ]
  },
  {
   "cell_type": "code",
   "execution_count": 7,
   "id": "47a69d59",
   "metadata": {
    "execution": {
     "iopub.execute_input": "2022-03-11T10:28:23.645509Z",
     "iopub.status.busy": "2022-03-11T10:28:23.643588Z",
     "iopub.status.idle": "2022-03-11T10:28:23.648549Z",
     "shell.execute_reply": "2022-03-11T10:28:23.647971Z",
     "shell.execute_reply.started": "2022-03-11T09:50:35.209373Z"
    },
    "papermill": {
     "duration": 0.044857,
     "end_time": "2022-03-11T10:28:23.648682",
     "exception": false,
     "start_time": "2022-03-11T10:28:23.603825",
     "status": "completed"
    },
    "tags": []
   },
   "outputs": [],
   "source": [
    "symbol.columns=['Symbol','counts']"
   ]
  },
  {
   "cell_type": "code",
   "execution_count": 8,
   "id": "a84a03c5",
   "metadata": {
    "execution": {
     "iopub.execute_input": "2022-03-11T10:28:23.726783Z",
     "iopub.status.busy": "2022-03-11T10:28:23.726182Z",
     "iopub.status.idle": "2022-03-11T10:28:23.734741Z",
     "shell.execute_reply": "2022-03-11T10:28:23.735266Z",
     "shell.execute_reply.started": "2022-03-11T09:50:35.223214Z"
    },
    "papermill": {
     "duration": 0.049192,
     "end_time": "2022-03-11T10:28:23.735442",
     "exception": false,
     "start_time": "2022-03-11T10:28:23.686250",
     "status": "completed"
    },
    "tags": []
   },
   "outputs": [
    {
     "data": {
      "text/html": [
       "<div>\n",
       "<style scoped>\n",
       "    .dataframe tbody tr th:only-of-type {\n",
       "        vertical-align: middle;\n",
       "    }\n",
       "\n",
       "    .dataframe tbody tr th {\n",
       "        vertical-align: top;\n",
       "    }\n",
       "\n",
       "    .dataframe thead th {\n",
       "        text-align: right;\n",
       "    }\n",
       "</style>\n",
       "<table border=\"1\" class=\"dataframe\">\n",
       "  <thead>\n",
       "    <tr style=\"text-align: right;\">\n",
       "      <th></th>\n",
       "      <th>Symbol</th>\n",
       "      <th>counts</th>\n",
       "    </tr>\n",
       "  </thead>\n",
       "  <tbody>\n",
       "    <tr>\n",
       "      <th>0</th>\n",
       "      <td>VOW3.DE</td>\n",
       "      <td>3071</td>\n",
       "    </tr>\n",
       "    <tr>\n",
       "      <th>1</th>\n",
       "      <td>DAI.DE</td>\n",
       "      <td>3071</td>\n",
       "    </tr>\n",
       "    <tr>\n",
       "      <th>2</th>\n",
       "      <td>BMW.DE</td>\n",
       "      <td>3071</td>\n",
       "    </tr>\n",
       "    <tr>\n",
       "      <th>3</th>\n",
       "      <td>TM</td>\n",
       "      <td>3047</td>\n",
       "    </tr>\n",
       "    <tr>\n",
       "      <th>4</th>\n",
       "      <td>HMC</td>\n",
       "      <td>3047</td>\n",
       "    </tr>\n",
       "    <tr>\n",
       "      <th>5</th>\n",
       "      <td>HYMTF</td>\n",
       "      <td>3047</td>\n",
       "    </tr>\n",
       "    <tr>\n",
       "      <th>6</th>\n",
       "      <td>TTM</td>\n",
       "      <td>3047</td>\n",
       "    </tr>\n",
       "    <tr>\n",
       "      <th>7</th>\n",
       "      <td>PII</td>\n",
       "      <td>3047</td>\n",
       "    </tr>\n",
       "    <tr>\n",
       "      <th>8</th>\n",
       "      <td>F</td>\n",
       "      <td>3047</td>\n",
       "    </tr>\n",
       "    <tr>\n",
       "      <th>9</th>\n",
       "      <td>M&amp;M.NS</td>\n",
       "      <td>2987</td>\n",
       "    </tr>\n",
       "    <tr>\n",
       "      <th>10</th>\n",
       "      <td>MARUTI.NS</td>\n",
       "      <td>2987</td>\n",
       "    </tr>\n",
       "    <tr>\n",
       "      <th>11</th>\n",
       "      <td>0175.HK</td>\n",
       "      <td>2985</td>\n",
       "    </tr>\n",
       "    <tr>\n",
       "      <th>12</th>\n",
       "      <td>0489.HK</td>\n",
       "      <td>2985</td>\n",
       "    </tr>\n",
       "    <tr>\n",
       "      <th>13</th>\n",
       "      <td>000270.KS</td>\n",
       "      <td>2984</td>\n",
       "    </tr>\n",
       "    <tr>\n",
       "      <th>14</th>\n",
       "      <td>003620.KS</td>\n",
       "      <td>2983</td>\n",
       "    </tr>\n",
       "    <tr>\n",
       "      <th>15</th>\n",
       "      <td>7201.T</td>\n",
       "      <td>2981</td>\n",
       "    </tr>\n",
       "    <tr>\n",
       "      <th>16</th>\n",
       "      <td>7269.T</td>\n",
       "      <td>2981</td>\n",
       "    </tr>\n",
       "    <tr>\n",
       "      <th>17</th>\n",
       "      <td>7261.T</td>\n",
       "      <td>2981</td>\n",
       "    </tr>\n",
       "    <tr>\n",
       "      <th>18</th>\n",
       "      <td>7270.T</td>\n",
       "      <td>2981</td>\n",
       "    </tr>\n",
       "    <tr>\n",
       "      <th>19</th>\n",
       "      <td>7202.T</td>\n",
       "      <td>2981</td>\n",
       "    </tr>\n",
       "    <tr>\n",
       "      <th>20</th>\n",
       "      <td>2207.TW</td>\n",
       "      <td>2964</td>\n",
       "    </tr>\n",
       "    <tr>\n",
       "      <th>21</th>\n",
       "      <td>STLA</td>\n",
       "      <td>2938</td>\n",
       "    </tr>\n",
       "    <tr>\n",
       "      <th>22</th>\n",
       "      <td>000625.SZ</td>\n",
       "      <td>2937</td>\n",
       "    </tr>\n",
       "    <tr>\n",
       "      <th>23</th>\n",
       "      <td>000800.SZ</td>\n",
       "      <td>2934</td>\n",
       "    </tr>\n",
       "    <tr>\n",
       "      <th>24</th>\n",
       "      <td>600104.SS</td>\n",
       "      <td>2931</td>\n",
       "    </tr>\n",
       "    <tr>\n",
       "      <th>25</th>\n",
       "      <td>TSLA</td>\n",
       "      <td>2924</td>\n",
       "    </tr>\n",
       "    <tr>\n",
       "      <th>26</th>\n",
       "      <td>GM</td>\n",
       "      <td>2824</td>\n",
       "    </tr>\n",
       "    <tr>\n",
       "      <th>27</th>\n",
       "      <td>002594.SZ</td>\n",
       "      <td>2575</td>\n",
       "    </tr>\n",
       "    <tr>\n",
       "      <th>28</th>\n",
       "      <td>601633.SS</td>\n",
       "      <td>2513</td>\n",
       "    </tr>\n",
       "    <tr>\n",
       "      <th>29</th>\n",
       "      <td>RNSDF</td>\n",
       "      <td>2394</td>\n",
       "    </tr>\n",
       "    <tr>\n",
       "      <th>30</th>\n",
       "      <td>CENN</td>\n",
       "      <td>2358</td>\n",
       "    </tr>\n",
       "    <tr>\n",
       "      <th>31</th>\n",
       "      <td>RACE</td>\n",
       "      <td>1586</td>\n",
       "    </tr>\n",
       "    <tr>\n",
       "      <th>32</th>\n",
       "      <td>FUV</td>\n",
       "      <td>1103</td>\n",
       "    </tr>\n",
       "  </tbody>\n",
       "</table>\n",
       "</div>"
      ],
      "text/plain": [
       "       Symbol  counts\n",
       "0     VOW3.DE    3071\n",
       "1      DAI.DE    3071\n",
       "2      BMW.DE    3071\n",
       "3          TM    3047\n",
       "4         HMC    3047\n",
       "5       HYMTF    3047\n",
       "6         TTM    3047\n",
       "7         PII    3047\n",
       "8           F    3047\n",
       "9      M&M.NS    2987\n",
       "10  MARUTI.NS    2987\n",
       "11    0175.HK    2985\n",
       "12    0489.HK    2985\n",
       "13  000270.KS    2984\n",
       "14  003620.KS    2983\n",
       "15     7201.T    2981\n",
       "16     7269.T    2981\n",
       "17     7261.T    2981\n",
       "18     7270.T    2981\n",
       "19     7202.T    2981\n",
       "20    2207.TW    2964\n",
       "21       STLA    2938\n",
       "22  000625.SZ    2937\n",
       "23  000800.SZ    2934\n",
       "24  600104.SS    2931\n",
       "25       TSLA    2924\n",
       "26         GM    2824\n",
       "27  002594.SZ    2575\n",
       "28  601633.SS    2513\n",
       "29      RNSDF    2394\n",
       "30       CENN    2358\n",
       "31       RACE    1586\n",
       "32        FUV    1103"
      ]
     },
     "execution_count": 8,
     "metadata": {},
     "output_type": "execute_result"
    }
   ],
   "source": [
    "symbol"
   ]
  },
  {
   "cell_type": "code",
   "execution_count": 9,
   "id": "9bfda0d7",
   "metadata": {
    "execution": {
     "iopub.execute_input": "2022-03-11T10:28:23.813359Z",
     "iopub.status.busy": "2022-03-11T10:28:23.812788Z",
     "iopub.status.idle": "2022-03-11T10:28:24.233508Z",
     "shell.execute_reply": "2022-03-11T10:28:24.232939Z",
     "shell.execute_reply.started": "2022-03-11T09:50:35.236554Z"
    },
    "papermill": {
     "duration": 0.460592,
     "end_time": "2022-03-11T10:28:24.233640",
     "exception": false,
     "start_time": "2022-03-11T10:28:23.773048",
     "status": "completed"
    },
    "tags": []
   },
   "outputs": [
    {
     "data": {
      "text/plain": [
       "Text(0.5, 0, 'Symble')"
      ]
     },
     "execution_count": 9,
     "metadata": {},
     "output_type": "execute_result"
    },
    {
     "data": {
      "image/png": "[encoded data removed]",
      "text/plain": [
       "<Figure size 1080x432 with 1 Axes>"
      ]
     },
     "metadata": {
      "needs_background": "light"
     },
     "output_type": "display_data"
    }
   ],
   "source": [
    "color = ['#800000','#A52A2A','#DC143C','#FF6347','#CD5C5C']\n",
    "fig = plt.figure(figsize=(15,6))\n",
    "sns.barplot(x=symbol['Symbol'],y=symbol['counts'],palette = color)\n",
    "plt.tick_params(axis = 'x',rotation = 90)\n",
    "plt.xlabel('Symble')"
   ]
  },
  {
   "cell_type": "code",
   "execution_count": 10,
   "id": "a56ceaea",
   "metadata": {
    "execution": {
     "iopub.execute_input": "2022-03-11T10:28:24.315387Z",
     "iopub.status.busy": "2022-03-11T10:28:24.314818Z",
     "iopub.status.idle": "2022-03-11T10:28:24.328006Z",
     "shell.execute_reply": "2022-03-11T10:28:24.327485Z",
     "shell.execute_reply.started": "2022-03-11T09:50:35.673658Z"
    },
    "papermill": {
     "duration": 0.055284,
     "end_time": "2022-03-11T10:28:24.328150",
     "exception": false,
     "start_time": "2022-03-11T10:28:24.272866",
     "status": "completed"
    },
    "tags": []
   },
   "outputs": [
    {
     "data": {
      "text/html": [
       "<div>\n",
       "<style scoped>\n",
       "    .dataframe tbody tr th:only-of-type {\n",
       "        vertical-align: middle;\n",
       "    }\n",
       "\n",
       "    .dataframe tbody tr th {\n",
       "        vertical-align: top;\n",
       "    }\n",
       "\n",
       "    .dataframe thead th {\n",
       "        text-align: right;\n",
       "    }\n",
       "</style>\n",
       "<table border=\"1\" class=\"dataframe\">\n",
       "  <thead>\n",
       "    <tr style=\"text-align: right;\">\n",
       "      <th></th>\n",
       "      <th>Date</th>\n",
       "      <th>Close</th>\n",
       "    </tr>\n",
       "  </thead>\n",
       "  <tbody>\n",
       "    <tr>\n",
       "      <th>0</th>\n",
       "      <td>2009-12-31</td>\n",
       "      <td>84.160004</td>\n",
       "    </tr>\n",
       "    <tr>\n",
       "      <th>1</th>\n",
       "      <td>2009-12-31</td>\n",
       "      <td>10.000000</td>\n",
       "    </tr>\n",
       "    <tr>\n",
       "      <th>2</th>\n",
       "      <td>2009-12-31</td>\n",
       "      <td>33.900002</td>\n",
       "    </tr>\n",
       "    <tr>\n",
       "      <th>3</th>\n",
       "      <td>2009-12-31</td>\n",
       "      <td>17.000000</td>\n",
       "    </tr>\n",
       "    <tr>\n",
       "      <th>4</th>\n",
       "      <td>2009-12-31</td>\n",
       "      <td>16.860001</td>\n",
       "    </tr>\n",
       "    <tr>\n",
       "      <th>...</th>\n",
       "      <td>...</td>\n",
       "      <td>...</td>\n",
       "    </tr>\n",
       "    <tr>\n",
       "      <th>101121</th>\n",
       "      <td>2022-02-08</td>\n",
       "      <td>609.000000</td>\n",
       "    </tr>\n",
       "    <tr>\n",
       "      <th>101122</th>\n",
       "      <td>2022-02-08</td>\n",
       "      <td>1471.000000</td>\n",
       "    </tr>\n",
       "    <tr>\n",
       "      <th>101123</th>\n",
       "      <td>2022-02-08</td>\n",
       "      <td>7.160000</td>\n",
       "    </tr>\n",
       "    <tr>\n",
       "      <th>101124</th>\n",
       "      <td>2022-02-08</td>\n",
       "      <td>9.580000</td>\n",
       "    </tr>\n",
       "    <tr>\n",
       "      <th>101125</th>\n",
       "      <td>2022-02-08</td>\n",
       "      <td>897.000000</td>\n",
       "    </tr>\n",
       "  </tbody>\n",
       "</table>\n",
       "<p>101126 rows × 2 columns</p>\n",
       "</div>"
      ],
      "text/plain": [
       "              Date        Close\n",
       "0       2009-12-31    84.160004\n",
       "1       2009-12-31    10.000000\n",
       "2       2009-12-31    33.900002\n",
       "3       2009-12-31    17.000000\n",
       "4       2009-12-31    16.860001\n",
       "...            ...          ...\n",
       "101121  2022-02-08   609.000000\n",
       "101122  2022-02-08  1471.000000\n",
       "101123  2022-02-08     7.160000\n",
       "101124  2022-02-08     9.580000\n",
       "101125  2022-02-08   897.000000\n",
       "\n",
       "[101126 rows x 2 columns]"
      ]
     },
     "execution_count": 10,
     "metadata": {},
     "output_type": "execute_result"
    }
   ],
   "source": [
    "data = df[['Date','Close']]\n",
    "data"
   ]
  },
  {
   "cell_type": "code",
   "execution_count": 11,
   "id": "de6e311d",
   "metadata": {
    "execution": {
     "iopub.execute_input": "2022-03-11T10:28:24.414255Z",
     "iopub.status.busy": "2022-03-11T10:28:24.413635Z",
     "iopub.status.idle": "2022-03-11T10:28:24.430530Z",
     "shell.execute_reply": "2022-03-11T10:28:24.431002Z",
     "shell.execute_reply.started": "2022-03-11T09:50:35.691043Z"
    },
    "papermill": {
     "duration": 0.062067,
     "end_time": "2022-03-11T10:28:24.431176",
     "exception": false,
     "start_time": "2022-03-11T10:28:24.369109",
     "status": "completed"
    },
    "tags": []
   },
   "outputs": [
    {
     "name": "stdout",
     "output_type": "stream",
     "text": [
      "<class 'pandas.core.frame.DataFrame'>\n",
      "RangeIndex: 101126 entries, 0 to 101125\n",
      "Data columns (total 2 columns):\n",
      " #   Column  Non-Null Count   Dtype  \n",
      "---  ------  --------------   -----  \n",
      " 0   Date    101126 non-null  object \n",
      " 1   Close   101126 non-null  float64\n",
      "dtypes: float64(1), object(1)\n",
      "memory usage: 1.5+ MB\n"
     ]
    }
   ],
   "source": [
    "data.info()"
   ]
  },
  {
   "cell_type": "code",
   "execution_count": 12,
   "id": "ddafe691",
   "metadata": {
    "execution": {
     "iopub.execute_input": "2022-03-11T10:28:24.513269Z",
     "iopub.status.busy": "2022-03-11T10:28:24.512718Z",
     "iopub.status.idle": "2022-03-11T10:28:24.533366Z",
     "shell.execute_reply": "2022-03-11T10:28:24.533848Z",
     "shell.execute_reply.started": "2022-03-11T09:50:35.711980Z"
    },
    "papermill": {
     "duration": 0.063133,
     "end_time": "2022-03-11T10:28:24.534010",
     "exception": false,
     "start_time": "2022-03-11T10:28:24.470877",
     "status": "completed"
    },
    "tags": []
   },
   "outputs": [
    {
     "name": "stderr",
     "output_type": "stream",
     "text": [
      "/opt/conda/lib/python3.7/site-packages/ipykernel_launcher.py:1: SettingWithCopyWarning: \n",
      "A value is trying to be set on a copy of a slice from a DataFrame.\n",
      "Try using .loc[row_indexer,col_indexer] = value instead\n",
      "\n",
      "See the caveats in the documentation: https://pandas.pydata.org/pandas-docs/stable/user_guide/indexing.html#returning-a-view-versus-a-copy\n",
      "  \"\"\"Entry point for launching an IPython kernel.\n"
     ]
    }
   ],
   "source": [
    "data['Date'] = pd.to_datetime(data['Date'])"
   ]
  },
  {
   "cell_type": "code",
   "execution_count": 13,
   "id": "6bea9903",
   "metadata": {
    "execution": {
     "iopub.execute_input": "2022-03-11T10:28:24.619634Z",
     "iopub.status.busy": "2022-03-11T10:28:24.617783Z",
     "iopub.status.idle": "2022-03-11T10:28:24.633955Z",
     "shell.execute_reply": "2022-03-11T10:28:24.634500Z",
     "shell.execute_reply.started": "2022-03-11T09:50:35.733280Z"
    },
    "papermill": {
     "duration": 0.059861,
     "end_time": "2022-03-11T10:28:24.634671",
     "exception": false,
     "start_time": "2022-03-11T10:28:24.574810",
     "status": "completed"
    },
    "tags": []
   },
   "outputs": [
    {
     "name": "stderr",
     "output_type": "stream",
     "text": [
      "/opt/conda/lib/python3.7/site-packages/ipykernel_launcher.py:1: SettingWithCopyWarning: \n",
      "A value is trying to be set on a copy of a slice from a DataFrame.\n",
      "Try using .loc[row_indexer,col_indexer] = value instead\n",
      "\n",
      "See the caveats in the documentation: https://pandas.pydata.org/pandas-docs/stable/user_guide/indexing.html#returning-a-view-versus-a-copy\n",
      "  \"\"\"Entry point for launching an IPython kernel.\n"
     ]
    }
   ],
   "source": [
    "data['year'] = data['Date'].dt.year"
   ]
  },
  {
   "cell_type": "code",
   "execution_count": 14,
   "id": "89cd0e3c",
   "metadata": {
    "execution": {
     "iopub.execute_input": "2022-03-11T10:28:24.728171Z",
     "iopub.status.busy": "2022-03-11T10:28:24.721621Z",
     "iopub.status.idle": "2022-03-11T10:28:24.732059Z",
     "shell.execute_reply": "2022-03-11T10:28:24.732531Z",
     "shell.execute_reply.started": "2022-03-11T09:50:35.751470Z"
    },
    "papermill": {
     "duration": 0.057783,
     "end_time": "2022-03-11T10:28:24.732696",
     "exception": false,
     "start_time": "2022-03-11T10:28:24.674913",
     "status": "completed"
    },
    "tags": []
   },
   "outputs": [
    {
     "name": "stdout",
     "output_type": "stream",
     "text": [
      "<class 'pandas.core.frame.DataFrame'>\n",
      "RangeIndex: 101126 entries, 0 to 101125\n",
      "Data columns (total 3 columns):\n",
      " #   Column  Non-Null Count   Dtype         \n",
      "---  ------  --------------   -----         \n",
      " 0   Date    101126 non-null  datetime64[ns]\n",
      " 1   Close   101126 non-null  float64       \n",
      " 2   year    101126 non-null  int64         \n",
      "dtypes: datetime64[ns](1), float64(1), int64(1)\n",
      "memory usage: 2.3 MB\n"
     ]
    }
   ],
   "source": [
    "data.info()"
   ]
  },
  {
   "cell_type": "code",
   "execution_count": 15,
   "id": "3bacd218",
   "metadata": {
    "execution": {
     "iopub.execute_input": "2022-03-11T10:28:24.818032Z",
     "iopub.status.busy": "2022-03-11T10:28:24.817396Z",
     "iopub.status.idle": "2022-03-11T10:28:24.822408Z",
     "shell.execute_reply": "2022-03-11T10:28:24.822866Z",
     "shell.execute_reply.started": "2022-03-11T09:50:35.766790Z"
    },
    "papermill": {
     "duration": 0.048663,
     "end_time": "2022-03-11T10:28:24.823030",
     "exception": false,
     "start_time": "2022-03-11T10:28:24.774367",
     "status": "completed"
    },
    "tags": []
   },
   "outputs": [],
   "source": [
    "data = data.set_index('year')"
   ]
  },
  {
   "cell_type": "code",
   "execution_count": 16,
   "id": "19070e0e",
   "metadata": {
    "execution": {
     "iopub.execute_input": "2022-03-11T10:28:24.907411Z",
     "iopub.status.busy": "2022-03-11T10:28:24.906853Z",
     "iopub.status.idle": "2022-03-11T10:28:24.914110Z",
     "shell.execute_reply": "2022-03-11T10:28:24.914582Z",
     "shell.execute_reply.started": "2022-03-11T09:50:35.774603Z"
    },
    "papermill": {
     "duration": 0.050797,
     "end_time": "2022-03-11T10:28:24.914740",
     "exception": false,
     "start_time": "2022-03-11T10:28:24.863943",
     "status": "completed"
    },
    "tags": []
   },
   "outputs": [
    {
     "data": {
      "text/plain": [
       "Date     0\n",
       "Close    0\n",
       "dtype: int64"
      ]
     },
     "execution_count": 16,
     "metadata": {},
     "output_type": "execute_result"
    }
   ],
   "source": [
    "data.isnull().sum()"
   ]
  },
  {
   "cell_type": "code",
   "execution_count": 17,
   "id": "1d243415",
   "metadata": {
    "execution": {
     "iopub.execute_input": "2022-03-11T10:28:25.001312Z",
     "iopub.status.busy": "2022-03-11T10:28:25.000735Z",
     "iopub.status.idle": "2022-03-11T10:28:25.003841Z",
     "shell.execute_reply": "2022-03-11T10:28:25.004315Z",
     "shell.execute_reply.started": "2022-03-11T09:50:35.789548Z"
    },
    "papermill": {
     "duration": 0.048688,
     "end_time": "2022-03-11T10:28:25.004494",
     "exception": false,
     "start_time": "2022-03-11T10:28:24.955806",
     "status": "completed"
    },
    "tags": []
   },
   "outputs": [],
   "source": [
    "data = data.drop(columns='Date',axis=1)"
   ]
  },
  {
   "cell_type": "code",
   "execution_count": 18,
   "id": "ce3711b2",
   "metadata": {
    "execution": {
     "iopub.execute_input": "2022-03-11T10:28:25.089815Z",
     "iopub.status.busy": "2022-03-11T10:28:25.089188Z",
     "iopub.status.idle": "2022-03-11T10:28:25.097842Z",
     "shell.execute_reply": "2022-03-11T10:28:25.098337Z",
     "shell.execute_reply.started": "2022-03-11T09:50:35.797357Z"
    },
    "papermill": {
     "duration": 0.053245,
     "end_time": "2022-03-11T10:28:25.098502",
     "exception": false,
     "start_time": "2022-03-11T10:28:25.045257",
     "status": "completed"
    },
    "tags": []
   },
   "outputs": [
    {
     "data": {
      "text/html": [
       "<div>\n",
       "<style scoped>\n",
       "    .dataframe tbody tr th:only-of-type {\n",
       "        vertical-align: middle;\n",
       "    }\n",
       "\n",
       "    .dataframe tbody tr th {\n",
       "        vertical-align: top;\n",
       "    }\n",
       "\n",
       "    .dataframe thead th {\n",
       "        text-align: right;\n",
       "    }\n",
       "</style>\n",
       "<table border=\"1\" class=\"dataframe\">\n",
       "  <thead>\n",
       "    <tr style=\"text-align: right;\">\n",
       "      <th></th>\n",
       "      <th>Close</th>\n",
       "    </tr>\n",
       "    <tr>\n",
       "      <th>year</th>\n",
       "      <th></th>\n",
       "    </tr>\n",
       "  </thead>\n",
       "  <tbody>\n",
       "    <tr>\n",
       "      <th>2009</th>\n",
       "      <td>84.160004</td>\n",
       "    </tr>\n",
       "    <tr>\n",
       "      <th>2009</th>\n",
       "      <td>10.000000</td>\n",
       "    </tr>\n",
       "    <tr>\n",
       "      <th>2009</th>\n",
       "      <td>33.900002</td>\n",
       "    </tr>\n",
       "    <tr>\n",
       "      <th>2009</th>\n",
       "      <td>17.000000</td>\n",
       "    </tr>\n",
       "    <tr>\n",
       "      <th>2009</th>\n",
       "      <td>16.860001</td>\n",
       "    </tr>\n",
       "    <tr>\n",
       "      <th>...</th>\n",
       "      <td>...</td>\n",
       "    </tr>\n",
       "    <tr>\n",
       "      <th>2022</th>\n",
       "      <td>609.000000</td>\n",
       "    </tr>\n",
       "    <tr>\n",
       "      <th>2022</th>\n",
       "      <td>1471.000000</td>\n",
       "    </tr>\n",
       "    <tr>\n",
       "      <th>2022</th>\n",
       "      <td>7.160000</td>\n",
       "    </tr>\n",
       "    <tr>\n",
       "      <th>2022</th>\n",
       "      <td>9.580000</td>\n",
       "    </tr>\n",
       "    <tr>\n",
       "      <th>2022</th>\n",
       "      <td>897.000000</td>\n",
       "    </tr>\n",
       "  </tbody>\n",
       "</table>\n",
       "<p>101126 rows × 1 columns</p>\n",
       "</div>"
      ],
      "text/plain": [
       "            Close\n",
       "year             \n",
       "2009    84.160004\n",
       "2009    10.000000\n",
       "2009    33.900002\n",
       "2009    17.000000\n",
       "2009    16.860001\n",
       "...           ...\n",
       "2022   609.000000\n",
       "2022  1471.000000\n",
       "2022     7.160000\n",
       "2022     9.580000\n",
       "2022   897.000000\n",
       "\n",
       "[101126 rows x 1 columns]"
      ]
     },
     "execution_count": 18,
     "metadata": {},
     "output_type": "execute_result"
    }
   ],
   "source": [
    "data"
   ]
  },
  {
   "cell_type": "code",
   "execution_count": 19,
   "id": "74a62c95",
   "metadata": {
    "execution": {
     "iopub.execute_input": "2022-03-11T10:28:25.184289Z",
     "iopub.status.busy": "2022-03-11T10:28:25.183651Z",
     "iopub.status.idle": "2022-03-11T10:28:25.187994Z",
     "shell.execute_reply": "2022-03-11T10:28:25.188498Z",
     "shell.execute_reply.started": "2022-03-11T09:50:35.814597Z"
    },
    "papermill": {
     "duration": 0.048987,
     "end_time": "2022-03-11T10:28:25.188712",
     "exception": false,
     "start_time": "2022-03-11T10:28:25.139725",
     "status": "completed"
    },
    "tags": []
   },
   "outputs": [],
   "source": [
    "data = np.log(data)"
   ]
  },
  {
   "cell_type": "code",
   "execution_count": 20,
   "id": "5c55f54e",
   "metadata": {
    "execution": {
     "iopub.execute_input": "2022-03-11T10:28:25.274609Z",
     "iopub.status.busy": "2022-03-11T10:28:25.274035Z",
     "iopub.status.idle": "2022-03-11T10:28:25.453834Z",
     "shell.execute_reply": "2022-03-11T10:28:25.453349Z",
     "shell.execute_reply.started": "2022-03-11T09:50:35.826874Z"
    },
    "papermill": {
     "duration": 0.223744,
     "end_time": "2022-03-11T10:28:25.453974",
     "exception": false,
     "start_time": "2022-03-11T10:28:25.230230",
     "status": "completed"
    },
    "tags": []
   },
   "outputs": [
    {
     "data": {
      "text/plain": [
       "[<matplotlib.lines.Line2D at 0x7f8d572fbd50>]"
      ]
     },
     "execution_count": 20,
     "metadata": {},
     "output_type": "execute_result"
    },
    {
     "data": {
      "image/png": "[encoded data removed]",
      "text/plain": [
       "<Figure size 1224x432 with 1 Axes>"
      ]
     },
     "metadata": {
      "needs_background": "light"
     },
     "output_type": "display_data"
    }
   ],
   "source": [
    "fig = plt.figure(figsize=(17,6))\n",
    "plt.plot(data)"
   ]
  },
  {
   "cell_type": "code",
   "execution_count": 21,
   "id": "9e27bd6a",
   "metadata": {
    "execution": {
     "iopub.execute_input": "2022-03-11T10:28:25.543635Z",
     "iopub.status.busy": "2022-03-11T10:28:25.542680Z",
     "iopub.status.idle": "2022-03-11T10:28:25.545915Z",
     "shell.execute_reply": "2022-03-11T10:28:25.546454Z",
     "shell.execute_reply.started": "2022-03-11T09:50:36.071384Z"
    },
    "papermill": {
     "duration": 0.049674,
     "end_time": "2022-03-11T10:28:25.546612",
     "exception": false,
     "start_time": "2022-03-11T10:28:25.496938",
     "status": "completed"
    },
    "tags": []
   },
   "outputs": [],
   "source": [
    "# this data is not stationary,you convert the stationary ofter predict the next year "
   ]
  },
  {
   "cell_type": "code",
   "execution_count": 22,
   "id": "127992f1",
   "metadata": {
    "execution": {
     "iopub.execute_input": "2022-03-11T10:28:25.636198Z",
     "iopub.status.busy": "2022-03-11T10:28:25.635284Z",
     "iopub.status.idle": "2022-03-11T10:28:25.637265Z",
     "shell.execute_reply": "2022-03-11T10:28:25.637810Z",
     "shell.execute_reply.started": "2022-03-11T09:50:36.077323Z"
    },
    "papermill": {
     "duration": 0.048906,
     "end_time": "2022-03-11T10:28:25.637965",
     "exception": false,
     "start_time": "2022-03-11T10:28:25.589059",
     "status": "completed"
    },
    "tags": []
   },
   "outputs": [],
   "source": [
    "#1.rolling methods"
   ]
  },
  {
   "cell_type": "code",
   "execution_count": 23,
   "id": "18a2caf3",
   "metadata": {
    "execution": {
     "iopub.execute_input": "2022-03-11T10:28:25.727177Z",
     "iopub.status.busy": "2022-03-11T10:28:25.726645Z",
     "iopub.status.idle": "2022-03-11T10:28:25.729387Z",
     "shell.execute_reply": "2022-03-11T10:28:25.729930Z",
     "shell.execute_reply.started": "2022-03-11T09:50:36.088594Z"
    },
    "papermill": {
     "duration": 0.049559,
     "end_time": "2022-03-11T10:28:25.730092",
     "exception": false,
     "start_time": "2022-03-11T10:28:25.680533",
     "status": "completed"
    },
    "tags": []
   },
   "outputs": [],
   "source": [
    "#stationary is mean ,std is constant "
   ]
  },
  {
   "cell_type": "code",
   "execution_count": 24,
   "id": "f86b8b96",
   "metadata": {
    "execution": {
     "iopub.execute_input": "2022-03-11T10:28:25.819719Z",
     "iopub.status.busy": "2022-03-11T10:28:25.819126Z",
     "iopub.status.idle": "2022-03-11T10:28:25.842794Z",
     "shell.execute_reply": "2022-03-11T10:28:25.842105Z",
     "shell.execute_reply.started": "2022-03-11T09:50:36.097726Z"
    },
    "papermill": {
     "duration": 0.069365,
     "end_time": "2022-03-11T10:28:25.842945",
     "exception": false,
     "start_time": "2022-03-11T10:28:25.773580",
     "status": "completed"
    },
    "tags": []
   },
   "outputs": [],
   "source": [
    "rolling_mean = data.rolling(12).mean()\n",
    "rolling_std = data.rolling(12).std()\n",
    "rollmean = rolling_mean.dropna()\n",
    "rollstd = rolling_std.dropna()"
   ]
  },
  {
   "cell_type": "code",
   "execution_count": 25,
   "id": "87f57cdd",
   "metadata": {
    "execution": {
     "iopub.execute_input": "2022-03-11T10:28:25.936083Z",
     "iopub.status.busy": "2022-03-11T10:28:25.935436Z",
     "iopub.status.idle": "2022-03-11T10:28:26.023975Z",
     "shell.execute_reply": "2022-03-11T10:28:26.023353Z",
     "shell.execute_reply.started": "2022-03-11T09:50:36.123495Z"
    },
    "papermill": {
     "duration": 0.136837,
     "end_time": "2022-03-11T10:28:26.024260",
     "exception": true,
     "start_time": "2022-03-11T10:28:25.887423",
     "status": "failed"
    },
    "tags": []
   },
   "outputs": [
    {
     "ename": "NameError",
     "evalue": "name 'ax' is not defined",
     "output_type": "error",
     "traceback": [
      "\u001b[0;31m---------------------------------------------------------------------------\u001b[0m",
      "\u001b[0;31mNameError\u001b[0m                                 Traceback (most recent call last)",
      "\u001b[0;32m/tmp/ipykernel_21/2245294629.py\u001b[0m in \u001b[0;36m<module>\u001b[0;34m\u001b[0m\n\u001b[0;32m----> 1\u001b[0;31m \u001b[0max\u001b[0m\u001b[0;34m.\u001b[0m\u001b[0mlegend\u001b[0m\u001b[0;34m=\u001b[0m\u001b[0;34m(\u001b[0m\u001b[0;34m[\u001b[0m\u001b[0;34m'Rolling mean'\u001b[0m\u001b[0;34m,\u001b[0m\u001b[0;34m'Rolling std'\u001b[0m\u001b[0;34m,\u001b[0m\u001b[0;34m'Original'\u001b[0m\u001b[0;34m]\u001b[0m\u001b[0;34m)\u001b[0m\u001b[0;34m\u001b[0m\u001b[0;34m\u001b[0m\u001b[0m\n\u001b[0m\u001b[1;32m      2\u001b[0m \u001b[0mfig\u001b[0m \u001b[0;34m=\u001b[0m \u001b[0mplt\u001b[0m\u001b[0;34m.\u001b[0m\u001b[0mfigure\u001b[0m\u001b[0;34m(\u001b[0m\u001b[0mfigsize\u001b[0m\u001b[0;34m=\u001b[0m\u001b[0;34m(\u001b[0m\u001b[0;36m17\u001b[0m\u001b[0;34m,\u001b[0m\u001b[0;36m6\u001b[0m\u001b[0;34m)\u001b[0m\u001b[0;34m)\u001b[0m\u001b[0;34m\u001b[0m\u001b[0;34m\u001b[0m\u001b[0m\n\u001b[1;32m      3\u001b[0m \u001b[0mfig\u001b[0m\u001b[0;34m,\u001b[0m\u001b[0max\u001b[0m \u001b[0;34m=\u001b[0m \u001b[0mplt\u001b[0m\u001b[0;34m.\u001b[0m\u001b[0msubplots\u001b[0m\u001b[0;34m(\u001b[0m\u001b[0mfigsize\u001b[0m\u001b[0;34m=\u001b[0m\u001b[0;34m(\u001b[0m\u001b[0;36m17\u001b[0m\u001b[0;34m,\u001b[0m\u001b[0;36m8\u001b[0m\u001b[0;34m)\u001b[0m\u001b[0;34m)\u001b[0m\u001b[0;34m\u001b[0m\u001b[0;34m\u001b[0m\u001b[0m\n\u001b[1;32m      4\u001b[0m \u001b[0max1\u001b[0m \u001b[0;34m=\u001b[0m \u001b[0mplt\u001b[0m\u001b[0;34m.\u001b[0m\u001b[0mplot\u001b[0m\u001b[0;34m(\u001b[0m\u001b[0mrollmean\u001b[0m\u001b[0;34m)\u001b[0m\u001b[0;34m\u001b[0m\u001b[0;34m\u001b[0m\u001b[0m\n\u001b[1;32m      5\u001b[0m \u001b[0max2\u001b[0m \u001b[0;34m=\u001b[0m \u001b[0mplt\u001b[0m\u001b[0;34m.\u001b[0m\u001b[0mplot\u001b[0m\u001b[0;34m(\u001b[0m\u001b[0mrollstd\u001b[0m\u001b[0;34m)\u001b[0m\u001b[0;34m\u001b[0m\u001b[0;34m\u001b[0m\u001b[0m\n",
      "\u001b[0;31mNameError\u001b[0m: name 'ax' is not defined"
     ]
    }
   ],
   "source": [
    "ax.legend=(['Rolling mean','Rolling std','Original'])\n",
    "fig = plt.figure(figsize=(17,6))\n",
    "fig,ax = plt.subplots(figsize=(17,8))\n",
    "ax1 = plt.plot(rollmean)\n",
    "ax2 = plt.plot(rollstd)\n",
    "ax3 = plt.plot(data)\n",
    "ax.legend(['Rolling mean','Rolling std','Original'])\n"
   ]
  },
  {
   "cell_type": "code",
   "execution_count": null,
   "id": "b3749c53",
   "metadata": {
    "execution": {
     "iopub.execute_input": "2022-03-11T09:50:36.718277Z",
     "iopub.status.busy": "2022-03-11T09:50:36.717932Z",
     "iopub.status.idle": "2022-03-11T09:50:36.721439Z",
     "shell.execute_reply": "2022-03-11T09:50:36.720764Z",
     "shell.execute_reply.started": "2022-03-11T09:50:36.718238Z"
    },
    "papermill": {
     "duration": null,
     "end_time": null,
     "exception": null,
     "start_time": null,
     "status": "pending"
    },
    "tags": []
   },
   "outputs": [],
   "source": [
    "#adufuller test"
   ]
  },
  {
   "cell_type": "code",
   "execution_count": null,
   "id": "52eb8dfb",
   "metadata": {
    "execution": {
     "iopub.execute_input": "2022-03-11T09:50:36.723044Z",
     "iopub.status.busy": "2022-03-11T09:50:36.722374Z",
     "iopub.status.idle": "2022-03-11T09:50:36.731927Z",
     "shell.execute_reply": "2022-03-11T09:50:36.731362Z",
     "shell.execute_reply.started": "2022-03-11T09:50:36.723015Z"
    },
    "papermill": {
     "duration": null,
     "end_time": null,
     "exception": null,
     "start_time": null,
     "status": "pending"
    },
    "tags": []
   },
   "outputs": [],
   "source": [
    "from statsmodels.tsa.stattools import adfuller"
   ]
  },
  {
   "cell_type": "code",
   "execution_count": null,
   "id": "3ab2135d",
   "metadata": {
    "execution": {
     "iopub.execute_input": "2022-03-11T09:50:36.733427Z",
     "iopub.status.busy": "2022-03-11T09:50:36.733002Z",
     "iopub.status.idle": "2022-03-11T09:51:02.240003Z",
     "shell.execute_reply": "2022-03-11T09:51:02.239116Z",
     "shell.execute_reply.started": "2022-03-11T09:50:36.733395Z"
    },
    "papermill": {
     "duration": null,
     "end_time": null,
     "exception": null,
     "start_time": null,
     "status": "pending"
    },
    "tags": []
   },
   "outputs": [],
   "source": [
    "result = adfuller(data)"
   ]
  },
  {
   "cell_type": "code",
   "execution_count": null,
   "id": "2f091cd8",
   "metadata": {
    "execution": {
     "iopub.execute_input": "2022-03-11T09:51:02.242109Z",
     "iopub.status.busy": "2022-03-11T09:51:02.241693Z",
     "iopub.status.idle": "2022-03-11T09:51:02.256397Z",
     "shell.execute_reply": "2022-03-11T09:51:02.255510Z",
     "shell.execute_reply.started": "2022-03-11T09:51:02.242062Z"
    },
    "papermill": {
     "duration": null,
     "end_time": null,
     "exception": null,
     "start_time": null,
     "status": "pending"
    },
    "tags": []
   },
   "outputs": [],
   "source": [
    "def adfuller_test(data):\n",
    "    result = adfuller(data)\n",
    "    print(result)\n",
    "if result[1] <= 0.05:\n",
    "    print(result[1] ,'is statonary')\n",
    "    \n",
    "else:\n",
    "    print('is not statonary')"
   ]
  },
  {
   "cell_type": "code",
   "execution_count": null,
   "id": "1efb8f96",
   "metadata": {
    "execution": {
     "iopub.execute_input": "2022-03-11T09:51:02.259305Z",
     "iopub.status.busy": "2022-03-11T09:51:02.258302Z",
     "iopub.status.idle": "2022-03-11T09:51:02.265062Z",
     "shell.execute_reply": "2022-03-11T09:51:02.264259Z",
     "shell.execute_reply.started": "2022-03-11T09:51:02.259244Z"
    },
    "papermill": {
     "duration": null,
     "end_time": null,
     "exception": null,
     "start_time": null,
     "status": "pending"
    },
    "tags": []
   },
   "outputs": [],
   "source": [
    "#defferencing"
   ]
  },
  {
   "cell_type": "code",
   "execution_count": null,
   "id": "7927eb75",
   "metadata": {
    "execution": {
     "iopub.execute_input": "2022-03-11T09:51:02.267599Z",
     "iopub.status.busy": "2022-03-11T09:51:02.266919Z",
     "iopub.status.idle": "2022-03-11T09:51:02.298204Z",
     "shell.execute_reply": "2022-03-11T09:51:02.297267Z",
     "shell.execute_reply.started": "2022-03-11T09:51:02.267552Z"
    },
    "papermill": {
     "duration": null,
     "end_time": null,
     "exception": null,
     "start_time": null,
     "status": "pending"
    },
    "tags": []
   },
   "outputs": [],
   "source": [
    "datashift1 = data-data.shift(1)\n",
    "datashift1 = datashift1.dropna()"
   ]
  },
  {
   "cell_type": "code",
   "execution_count": null,
   "id": "13479c7d",
   "metadata": {
    "execution": {
     "iopub.execute_input": "2022-03-11T09:51:02.299651Z",
     "iopub.status.busy": "2022-03-11T09:51:02.299360Z",
     "iopub.status.idle": "2022-03-11T09:51:02.522863Z",
     "shell.execute_reply": "2022-03-11T09:51:02.522083Z",
     "shell.execute_reply.started": "2022-03-11T09:51:02.299614Z"
    },
    "papermill": {
     "duration": null,
     "end_time": null,
     "exception": null,
     "start_time": null,
     "status": "pending"
    },
    "tags": []
   },
   "outputs": [],
   "source": [
    "fig = plt.figure(figsize=(18,7))\n",
    "plt.plot(datashift1)"
   ]
  },
  {
   "cell_type": "code",
   "execution_count": null,
   "id": "4bee40df",
   "metadata": {
    "execution": {
     "iopub.execute_input": "2022-03-11T09:51:02.524790Z",
     "iopub.status.busy": "2022-03-11T09:51:02.524038Z",
     "iopub.status.idle": "2022-03-11T09:51:02.528271Z",
     "shell.execute_reply": "2022-03-11T09:51:02.527420Z",
     "shell.execute_reply.started": "2022-03-11T09:51:02.524745Z"
    },
    "papermill": {
     "duration": null,
     "end_time": null,
     "exception": null,
     "start_time": null,
     "status": "pending"
    },
    "tags": []
   },
   "outputs": [],
   "source": [
    "#is stotinory"
   ]
  },
  {
   "cell_type": "code",
   "execution_count": null,
   "id": "1dafb5cf",
   "metadata": {
    "execution": {
     "iopub.execute_input": "2022-03-11T09:51:02.529632Z",
     "iopub.status.busy": "2022-03-11T09:51:02.529408Z",
     "iopub.status.idle": "2022-03-11T09:51:02.537876Z",
     "shell.execute_reply": "2022-03-11T09:51:02.537366Z",
     "shell.execute_reply.started": "2022-03-11T09:51:02.529600Z"
    },
    "papermill": {
     "duration": null,
     "end_time": null,
     "exception": null,
     "start_time": null,
     "status": "pending"
    },
    "tags": []
   },
   "outputs": [],
   "source": [
    "#plot acf,pacf plot chack correlation"
   ]
  },
  {
   "cell_type": "code",
   "execution_count": null,
   "id": "bbd4a573",
   "metadata": {
    "execution": {
     "iopub.execute_input": "2022-03-11T09:51:02.539388Z",
     "iopub.status.busy": "2022-03-11T09:51:02.538956Z",
     "iopub.status.idle": "2022-03-11T09:51:02.546739Z",
     "shell.execute_reply": "2022-03-11T09:51:02.546248Z",
     "shell.execute_reply.started": "2022-03-11T09:51:02.539351Z"
    },
    "papermill": {
     "duration": null,
     "end_time": null,
     "exception": null,
     "start_time": null,
     "status": "pending"
    },
    "tags": []
   },
   "outputs": [],
   "source": [
    "from statsmodels.graphics.tsaplots import plot_acf,plot_pacf\n",
    "import statsmodels.api as sm"
   ]
  },
  {
   "cell_type": "code",
   "execution_count": null,
   "id": "dcd6c678",
   "metadata": {
    "execution": {
     "iopub.execute_input": "2022-03-11T09:51:02.548243Z",
     "iopub.status.busy": "2022-03-11T09:51:02.547800Z",
     "iopub.status.idle": "2022-03-11T09:51:04.625912Z",
     "shell.execute_reply": "2022-03-11T09:51:04.625112Z",
     "shell.execute_reply.started": "2022-03-11T09:51:02.548186Z"
    },
    "papermill": {
     "duration": null,
     "end_time": null,
     "exception": null,
     "start_time": null,
     "status": "pending"
    },
    "tags": []
   },
   "outputs": [],
   "source": [
    "fig = plt.figure(figsize=(17,7))\n",
    "plot_acf(data)"
   ]
  },
  {
   "cell_type": "markdown",
   "id": "f5d9526d",
   "metadata": {
    "papermill": {
     "duration": null,
     "end_time": null,
     "exception": null,
     "start_time": null,
     "status": "pending"
    },
    "tags": []
   },
   "source": [
    "#q = 5 "
   ]
  },
  {
   "cell_type": "code",
   "execution_count": null,
   "id": "0d2512c5",
   "metadata": {
    "execution": {
     "iopub.execute_input": "2022-03-11T09:51:04.627636Z",
     "iopub.status.busy": "2022-03-11T09:51:04.627122Z",
     "iopub.status.idle": "2022-03-11T09:51:05.168135Z",
     "shell.execute_reply": "2022-03-11T09:51:05.167279Z",
     "shell.execute_reply.started": "2022-03-11T09:51:04.627594Z"
    },
    "papermill": {
     "duration": null,
     "end_time": null,
     "exception": null,
     "start_time": null,
     "status": "pending"
    },
    "tags": []
   },
   "outputs": [],
   "source": [
    "plot_pacf(data)"
   ]
  },
  {
   "cell_type": "code",
   "execution_count": null,
   "id": "5fea8cde",
   "metadata": {
    "execution": {
     "iopub.execute_input": "2022-03-11T09:51:05.169856Z",
     "iopub.status.busy": "2022-03-11T09:51:05.169411Z",
     "iopub.status.idle": "2022-03-11T09:51:05.173818Z",
     "shell.execute_reply": "2022-03-11T09:51:05.172891Z",
     "shell.execute_reply.started": "2022-03-11T09:51:05.169815Z"
    },
    "papermill": {
     "duration": null,
     "end_time": null,
     "exception": null,
     "start_time": null,
     "status": "pending"
    },
    "tags": []
   },
   "outputs": [],
   "source": [
    "#p= 2"
   ]
  },
  {
   "cell_type": "markdown",
   "id": "8bae9ec4",
   "metadata": {
    "papermill": {
     "duration": null,
     "end_time": null,
     "exception": null,
     "start_time": null,
     "status": "pending"
    },
    "tags": []
   },
   "source": [
    "ARIMA Model "
   ]
  },
  {
   "cell_type": "code",
   "execution_count": null,
   "id": "e873bbec",
   "metadata": {
    "execution": {
     "iopub.execute_input": "2022-03-11T09:51:05.175749Z",
     "iopub.status.busy": "2022-03-11T09:51:05.175083Z",
     "iopub.status.idle": "2022-03-11T09:51:05.183900Z",
     "shell.execute_reply": "2022-03-11T09:51:05.183446Z",
     "shell.execute_reply.started": "2022-03-11T09:51:05.175704Z"
    },
    "papermill": {
     "duration": null,
     "end_time": null,
     "exception": null,
     "start_time": null,
     "status": "pending"
    },
    "tags": []
   },
   "outputs": [],
   "source": [
    "from statsmodels.tsa.arima_model import ARIMA"
   ]
  },
  {
   "cell_type": "code",
   "execution_count": null,
   "id": "0923d749",
   "metadata": {
    "execution": {
     "iopub.execute_input": "2022-03-11T09:51:05.185362Z",
     "iopub.status.busy": "2022-03-11T09:51:05.184944Z",
     "iopub.status.idle": "2022-03-11T09:54:45.775259Z",
     "shell.execute_reply": "2022-03-11T09:54:45.774132Z",
     "shell.execute_reply.started": "2022-03-11T09:51:05.185334Z"
    },
    "papermill": {
     "duration": null,
     "end_time": null,
     "exception": null,
     "start_time": null,
     "status": "pending"
    },
    "tags": []
   },
   "outputs": [],
   "source": [
    "model = sm.tsa.arima.ARIMA(data, order=(5,0,5)) #p=5,d = 0,q =5\n",
    "result = model.fit()"
   ]
  },
  {
   "cell_type": "code",
   "execution_count": null,
   "id": "8b0b2c63",
   "metadata": {
    "execution": {
     "iopub.execute_input": "2022-03-11T09:54:45.777479Z",
     "iopub.status.busy": "2022-03-11T09:54:45.776956Z",
     "iopub.status.idle": "2022-03-11T09:54:45.783837Z",
     "shell.execute_reply": "2022-03-11T09:54:45.782996Z",
     "shell.execute_reply.started": "2022-03-11T09:54:45.777433Z"
    },
    "papermill": {
     "duration": null,
     "end_time": null,
     "exception": null,
     "start_time": null,
     "status": "pending"
    },
    "tags": []
   },
   "outputs": [],
   "source": [
    "data.shape"
   ]
  },
  {
   "cell_type": "code",
   "execution_count": null,
   "id": "881753d4",
   "metadata": {
    "execution": {
     "iopub.execute_input": "2022-03-11T09:54:45.786037Z",
     "iopub.status.busy": "2022-03-11T09:54:45.785410Z",
     "iopub.status.idle": "2022-03-11T09:54:45.794969Z",
     "shell.execute_reply": "2022-03-11T09:54:45.794236Z",
     "shell.execute_reply.started": "2022-03-11T09:54:45.785991Z"
    },
    "papermill": {
     "duration": null,
     "end_time": null,
     "exception": null,
     "start_time": null,
     "status": "pending"
    },
    "tags": []
   },
   "outputs": [],
   "source": [
    "original = data[1:10]"
   ]
  },
  {
   "cell_type": "markdown",
   "id": "36da58e1",
   "metadata": {
    "papermill": {
     "duration": null,
     "end_time": null,
     "exception": null,
     "start_time": null,
     "status": "pending"
    },
    "tags": []
   },
   "source": [
    "Original value predict value compare"
   ]
  },
  {
   "cell_type": "code",
   "execution_count": null,
   "id": "45f1835c",
   "metadata": {
    "execution": {
     "iopub.execute_input": "2022-03-11T09:54:45.796904Z",
     "iopub.status.busy": "2022-03-11T09:54:45.796442Z",
     "iopub.status.idle": "2022-03-11T09:54:45.812373Z",
     "shell.execute_reply": "2022-03-11T09:54:45.811623Z",
     "shell.execute_reply.started": "2022-03-11T09:54:45.796864Z"
    },
    "papermill": {
     "duration": null,
     "end_time": null,
     "exception": null,
     "start_time": null,
     "status": "pending"
    },
    "tags": []
   },
   "outputs": [],
   "source": [
    "pridiction = result.predict(1,10)\n",
    "pridiction"
   ]
  },
  {
   "cell_type": "code",
   "execution_count": null,
   "id": "92513ec5",
   "metadata": {
    "execution": {
     "iopub.execute_input": "2022-03-11T09:54:45.815779Z",
     "iopub.status.busy": "2022-03-11T09:54:45.814168Z",
     "iopub.status.idle": "2022-03-11T09:54:46.077586Z",
     "shell.execute_reply": "2022-03-11T09:54:46.076747Z",
     "shell.execute_reply.started": "2022-03-11T09:54:45.815732Z"
    },
    "papermill": {
     "duration": null,
     "end_time": null,
     "exception": null,
     "start_time": null,
     "status": "pending"
    },
    "tags": []
   },
   "outputs": [],
   "source": [
    "ax.legend=(['l1','l2'])\n",
    "fig = plt.figure(figsize=(17,8))\n",
    "fig,ax = plt.subplots(figsize=(17,8))\n",
    "ax1 = plt.plot(original,color = 'red')\n",
    "ax2 = plt.plot(pridiction,color = 'blue')\n",
    "ax.legend(['Original','Prediction'])\n"
   ]
  },
  {
   "cell_type": "markdown",
   "id": "eb472e4e",
   "metadata": {
    "papermill": {
     "duration": null,
     "end_time": null,
     "exception": null,
     "start_time": null,
     "status": "pending"
    },
    "tags": []
   },
   "source": [
    "# Future Prediction"
   ]
  },
  {
   "cell_type": "code",
   "execution_count": null,
   "id": "58f38e74",
   "metadata": {
    "execution": {
     "iopub.execute_input": "2022-03-11T09:54:46.079065Z",
     "iopub.status.busy": "2022-03-11T09:54:46.078824Z",
     "iopub.status.idle": "2022-03-11T09:54:46.085364Z",
     "shell.execute_reply": "2022-03-11T09:54:46.084543Z",
     "shell.execute_reply.started": "2022-03-11T09:54:46.079038Z"
    },
    "papermill": {
     "duration": null,
     "end_time": null,
     "exception": null,
     "start_time": null,
     "status": "pending"
    },
    "tags": []
   },
   "outputs": [],
   "source": [
    "data.shape"
   ]
  },
  {
   "cell_type": "code",
   "execution_count": null,
   "id": "3628572e",
   "metadata": {
    "execution": {
     "iopub.execute_input": "2022-03-11T09:54:46.086548Z",
     "iopub.status.busy": "2022-03-11T09:54:46.086349Z",
     "iopub.status.idle": "2022-03-11T09:54:46.122517Z",
     "shell.execute_reply": "2022-03-11T09:54:46.121592Z",
     "shell.execute_reply.started": "2022-03-11T09:54:46.086525Z"
    },
    "papermill": {
     "duration": null,
     "end_time": null,
     "exception": null,
     "start_time": null,
     "status": "pending"
    },
    "tags": []
   },
   "outputs": [],
   "source": [
    "future_predict = result.predict(101126,101134)\n",
    "future_predict"
   ]
  },
  {
   "cell_type": "code",
   "execution_count": null,
   "id": "aa40a015",
   "metadata": {
    "papermill": {
     "duration": null,
     "end_time": null,
     "exception": null,
     "start_time": null,
     "status": "pending"
    },
    "tags": []
   },
   "outputs": [],
   "source": []
  }
 ],
 "metadata": {
  "kernelspec": {
   "display_name": "Python 3",
   "language": "python",
   "name": "python3"
  },
  "language_info": {
   "codemirror_mode": {
    "name": "ipython",
    "version": 3
   },
   "file_extension": ".py",
   "mimetype": "text/x-python",
   "name": "python",
   "nbconvert_exporter": "python",
   "pygments_lexer": "ipython3",
   "version": "3.7.12"
  },
  "papermill": {
   "default_parameters": {},
   "duration": 13.673985,
   "end_time": "2022-03-11T10:28:26.779211",
   "environment_variables": {},
   "exception": true,
   "input_path": "__notebook__.ipynb",
   "output_path": "__notebook__.ipynb",
   "parameters": {},
   "start_time": "2022-03-11T10:28:13.105226",
   "version": "2.3.3"
  }
 },
 "nbformat": 4,
 "nbformat_minor": 5
}
