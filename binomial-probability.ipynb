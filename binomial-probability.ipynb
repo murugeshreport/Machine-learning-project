{
 "cells": [
  {
   "cell_type": "code",
   "execution_count": 1,
   "id": "f1624eed",
   "metadata": {
    "execution": {
     "iopub.execute_input": "2022-03-18T10:51:03.629196Z",
     "iopub.status.busy": "2022-03-18T10:51:03.627962Z",
     "iopub.status.idle": "2022-03-18T10:51:04.737416Z",
     "shell.execute_reply": "2022-03-18T10:51:04.736703Z",
     "shell.execute_reply.started": "2022-03-18T10:45:35.861190Z"
    },
    "papermill": {
     "duration": 1.136211,
     "end_time": "2022-03-18T10:51:04.737618",
     "exception": false,
     "start_time": "2022-03-18T10:51:03.601407",
     "status": "completed"
    },
    "tags": []
   },
   "outputs": [],
   "source": [
    "import pandas as pd\n",
    "import numpy as np\n",
    "import matplotlib.pyplot as plt\n",
    "import seaborn as sns\n"
   ]
  },
  {
   "cell_type": "code",
   "execution_count": 2,
   "id": "84469844",
   "metadata": {
    "execution": {
     "iopub.execute_input": "2022-03-18T10:51:04.784427Z",
     "iopub.status.busy": "2022-03-18T10:51:04.781696Z",
     "iopub.status.idle": "2022-03-18T10:51:04.983892Z",
     "shell.execute_reply": "2022-03-18T10:51:04.984419Z",
     "shell.execute_reply.started": "2022-03-18T10:46:04.881757Z"
    },
    "papermill": {
     "duration": 0.226154,
     "end_time": "2022-03-18T10:51:04.984610",
     "exception": false,
     "start_time": "2022-03-18T10:51:04.758456",
     "status": "completed"
    },
    "tags": []
   },
   "outputs": [],
   "source": [
    "data = pd.read_csv('../input/geeksforgeeks-articles/articles.csv')"
   ]
  },
  {
   "cell_type": "code",
   "execution_count": 3,
   "id": "41086cfe",
   "metadata": {
    "execution": {
     "iopub.execute_input": "2022-03-18T10:51:05.029295Z",
     "iopub.status.busy": "2022-03-18T10:51:05.028630Z",
     "iopub.status.idle": "2022-03-18T10:51:05.048605Z",
     "shell.execute_reply": "2022-03-18T10:51:05.049092Z",
     "shell.execute_reply.started": "2022-03-18T10:46:13.472283Z"
    },
    "papermill": {
     "duration": 0.044282,
     "end_time": "2022-03-18T10:51:05.049268",
     "exception": false,
     "start_time": "2022-03-18T10:51:05.004986",
     "status": "completed"
    },
    "tags": []
   },
   "outputs": [
    {
     "data": {
      "text/html": [
       "<div>\n",
       "<style scoped>\n",
       "    .dataframe tbody tr th:only-of-type {\n",
       "        vertical-align: middle;\n",
       "    }\n",
       "\n",
       "    .dataframe tbody tr th {\n",
       "        vertical-align: top;\n",
       "    }\n",
       "\n",
       "    .dataframe thead th {\n",
       "        text-align: right;\n",
       "    }\n",
       "</style>\n",
       "<table border=\"1\" class=\"dataframe\">\n",
       "  <thead>\n",
       "    <tr style=\"text-align: right;\">\n",
       "      <th></th>\n",
       "      <th>title</th>\n",
       "      <th>author_id</th>\n",
       "      <th>last_updated</th>\n",
       "      <th>link</th>\n",
       "      <th>category</th>\n",
       "    </tr>\n",
       "  </thead>\n",
       "  <tbody>\n",
       "    <tr>\n",
       "      <th>0</th>\n",
       "      <td>5 Best Practices For Writing SQL Joins</td>\n",
       "      <td>priyankab14</td>\n",
       "      <td>21 Feb, 2022</td>\n",
       "      <td>https://www.geeksforgeeks.org/5-best-practices...</td>\n",
       "      <td>easy</td>\n",
       "    </tr>\n",
       "    <tr>\n",
       "      <th>1</th>\n",
       "      <td>Foundation CSS Dropdown Menu</td>\n",
       "      <td>ishankhandelwals</td>\n",
       "      <td>20 Feb, 2022</td>\n",
       "      <td>https://www.geeksforgeeks.org/foundation-css-d...</td>\n",
       "      <td>easy</td>\n",
       "    </tr>\n",
       "    <tr>\n",
       "      <th>2</th>\n",
       "      <td>Top 20 Excel Shortcuts That You Need To Know</td>\n",
       "      <td>priyankab14</td>\n",
       "      <td>17 Feb, 2022</td>\n",
       "      <td>https://www.geeksforgeeks.org/top-20-excel-sho...</td>\n",
       "      <td>easy</td>\n",
       "    </tr>\n",
       "    <tr>\n",
       "      <th>3</th>\n",
       "      <td>Servlet – Fetching Result</td>\n",
       "      <td>nishatiwari1719</td>\n",
       "      <td>17 Feb, 2022</td>\n",
       "      <td>https://www.geeksforgeeks.org/servlet-fetching...</td>\n",
       "      <td>easy</td>\n",
       "    </tr>\n",
       "    <tr>\n",
       "      <th>4</th>\n",
       "      <td>Suffix Sum Array</td>\n",
       "      <td>rohit768</td>\n",
       "      <td>21 Feb, 2022</td>\n",
       "      <td>https://www.geeksforgeeks.org/suffix-sum-array/</td>\n",
       "      <td>easy</td>\n",
       "    </tr>\n",
       "  </tbody>\n",
       "</table>\n",
       "</div>"
      ],
      "text/plain": [
       "                                          title         author_id  \\\n",
       "0        5 Best Practices For Writing SQL Joins       priyankab14   \n",
       "1                  Foundation CSS Dropdown Menu  ishankhandelwals   \n",
       "2  Top 20 Excel Shortcuts That You Need To Know       priyankab14   \n",
       "3                     Servlet – Fetching Result   nishatiwari1719   \n",
       "4                              Suffix Sum Array          rohit768   \n",
       "\n",
       "   last_updated                                               link category  \n",
       "0  21 Feb, 2022  https://www.geeksforgeeks.org/5-best-practices...     easy  \n",
       "1  20 Feb, 2022  https://www.geeksforgeeks.org/foundation-css-d...     easy  \n",
       "2  17 Feb, 2022  https://www.geeksforgeeks.org/top-20-excel-sho...     easy  \n",
       "3  17 Feb, 2022  https://www.geeksforgeeks.org/servlet-fetching...     easy  \n",
       "4  21 Feb, 2022    https://www.geeksforgeeks.org/suffix-sum-array/     easy  "
      ]
     },
     "execution_count": 3,
     "metadata": {},
     "output_type": "execute_result"
    }
   ],
   "source": [
    "data.head()"
   ]
  },
  {
   "cell_type": "code",
   "execution_count": 4,
   "id": "857a6524",
   "metadata": {
    "execution": {
     "iopub.execute_input": "2022-03-18T10:51:05.094944Z",
     "iopub.status.busy": "2022-03-18T10:51:05.094247Z",
     "iopub.status.idle": "2022-03-18T10:51:05.135049Z",
     "shell.execute_reply": "2022-03-18T10:51:05.135659Z",
     "shell.execute_reply.started": "2022-03-18T10:46:22.844999Z"
    },
    "papermill": {
     "duration": 0.065585,
     "end_time": "2022-03-18T10:51:05.135843",
     "exception": false,
     "start_time": "2022-03-18T10:51:05.070258",
     "status": "completed"
    },
    "tags": []
   },
   "outputs": [
    {
     "data": {
      "text/plain": [
       "GATE | GATE CS 2013 | Question 65                                    19\n",
       "GATE | GATE-CS-2015 (Set 1) | Question 65                            18\n",
       "Amazon Interview Experience for SDE-1                                18\n",
       "GATE | GATE-CS-2014-(Set-1) | Question 65                            17\n",
       "GATE | GATE-CS-2014-(Set-3) | Question 65                            14\n",
       "                                                                     ..\n",
       "Trust Based Energy-Efficient and Secure Routing Protocols for IoT     1\n",
       "Architecture of Internet of Things (IoT)                              1\n",
       "Internet of Things (IoT) Gateways                                     1\n",
       "Getting Started with System Design                                    1\n",
       "Data Structures and Algorithms | Set 21                               1\n",
       "Name: title, Length: 34099, dtype: int64"
      ]
     },
     "execution_count": 4,
     "metadata": {},
     "output_type": "execute_result"
    }
   ],
   "source": [
    "data['title'].value_counts()"
   ]
  },
  {
   "cell_type": "markdown",
   "id": "dda8f5d1",
   "metadata": {
    "papermill": {
     "duration": 0.020891,
     "end_time": "2022-03-18T10:51:05.178902",
     "exception": false,
     "start_time": "2022-03-18T10:51:05.158011",
     "status": "completed"
    },
    "tags": []
   },
   "source": [
    "# i am select one question GATE | GATE CS 2013 | Question 65'  how much read?"
   ]
  },
  {
   "cell_type": "code",
   "execution_count": 5,
   "id": "4c5bcc38",
   "metadata": {
    "execution": {
     "iopub.execute_input": "2022-03-18T10:51:05.226592Z",
     "iopub.status.busy": "2022-03-18T10:51:05.225927Z",
     "iopub.status.idle": "2022-03-18T10:51:05.238511Z",
     "shell.execute_reply": "2022-03-18T10:51:05.239404Z",
     "shell.execute_reply.started": "2022-03-18T10:46:48.596434Z"
    },
    "papermill": {
     "duration": 0.039468,
     "end_time": "2022-03-18T10:51:05.239636",
     "exception": false,
     "start_time": "2022-03-18T10:51:05.200168",
     "status": "completed"
    },
    "tags": []
   },
   "outputs": [],
   "source": [
    "df = data[data['title'] == 'GATE | GATE CS 2013 | Question 65']"
   ]
  },
  {
   "cell_type": "code",
   "execution_count": 6,
   "id": "5a344879",
   "metadata": {
    "execution": {
     "iopub.execute_input": "2022-03-18T10:51:05.286596Z",
     "iopub.status.busy": "2022-03-18T10:51:05.285911Z",
     "iopub.status.idle": "2022-03-18T10:51:05.293902Z",
     "shell.execute_reply": "2022-03-18T10:51:05.294432Z",
     "shell.execute_reply.started": "2022-03-18T10:46:53.875303Z"
    },
    "papermill": {
     "duration": 0.033042,
     "end_time": "2022-03-18T10:51:05.294602",
     "exception": false,
     "start_time": "2022-03-18T10:51:05.261560",
     "status": "completed"
    },
    "tags": []
   },
   "outputs": [
    {
     "data": {
      "text/plain": [
       "hard      6\n",
       "basic     4\n",
       "medium    4\n",
       "easy      3\n",
       "expert    2\n",
       "Name: category, dtype: int64"
      ]
     },
     "execution_count": 6,
     "metadata": {},
     "output_type": "execute_result"
    }
   ],
   "source": [
    "df['category'].value_counts()"
   ]
  },
  {
   "cell_type": "code",
   "execution_count": 7,
   "id": "2d5d5d78",
   "metadata": {
    "execution": {
     "iopub.execute_input": "2022-03-18T10:51:05.345648Z",
     "iopub.status.busy": "2022-03-18T10:51:05.342660Z",
     "iopub.status.idle": "2022-03-18T10:51:05.348086Z",
     "shell.execute_reply": "2022-03-18T10:51:05.348589Z",
     "shell.execute_reply.started": "2022-03-18T10:46:59.185710Z"
    },
    "papermill": {
     "duration": 0.032211,
     "end_time": "2022-03-18T10:51:05.348781",
     "exception": false,
     "start_time": "2022-03-18T10:51:05.316570",
     "status": "completed"
    },
    "tags": []
   },
   "outputs": [
    {
     "data": {
      "text/plain": [
       "(19, 5)"
      ]
     },
     "execution_count": 7,
     "metadata": {},
     "output_type": "execute_result"
    }
   ],
   "source": [
    "df.shape"
   ]
  },
  {
   "cell_type": "code",
   "execution_count": 8,
   "id": "dd340ca2",
   "metadata": {
    "execution": {
     "iopub.execute_input": "2022-03-18T10:51:05.399776Z",
     "iopub.status.busy": "2022-03-18T10:51:05.399089Z",
     "iopub.status.idle": "2022-03-18T10:51:05.404574Z",
     "shell.execute_reply": "2022-03-18T10:51:05.405093Z",
     "shell.execute_reply.started": "2022-03-18T10:47:07.504793Z"
    },
    "papermill": {
     "duration": 0.034227,
     "end_time": "2022-03-18T10:51:05.405287",
     "exception": false,
     "start_time": "2022-03-18T10:51:05.371060",
     "status": "completed"
    },
    "tags": []
   },
   "outputs": [
    {
     "data": {
      "text/plain": [
       "28 Jun, 2021    11\n",
       "19 Nov, 2018     2\n",
       "09 Oct, 2019     1\n",
       "20 Sep, 2021     1\n",
       "29 Sep, 2021     1\n",
       "31 May, 2021     1\n",
       "10 Sep, 2021     1\n",
       "13 Aug, 2019     1\n",
       "Name: last_updated, dtype: int64"
      ]
     },
     "execution_count": 8,
     "metadata": {},
     "output_type": "execute_result"
    }
   ],
   "source": [
    "df['last_updated'].value_counts()"
   ]
  },
  {
   "cell_type": "markdown",
   "id": "68f22d21",
   "metadata": {
    "papermill": {
     "duration": 0.022204,
     "end_time": "2022-03-18T10:51:05.449876",
     "exception": false,
     "start_time": "2022-03-18T10:51:05.427672",
     "status": "completed"
    },
    "tags": []
   },
   "source": [
    "# jan 28 2021 11 person is read this question "
   ]
  },
  {
   "cell_type": "markdown",
   "id": "886f9457",
   "metadata": {
    "papermill": {
     "duration": 0.022514,
     "end_time": "2022-03-18T10:51:05.496801",
     "exception": false,
     "start_time": "2022-03-18T10:51:05.474287",
     "status": "completed"
    },
    "tags": []
   },
   "source": [
    "# Now jan 28 2021 11 person is read this question, randomly select 5 person find the probability of exactly 2 person is read this page?"
   ]
  },
  {
   "cell_type": "code",
   "execution_count": 9,
   "id": "93e66361",
   "metadata": {
    "execution": {
     "iopub.execute_input": "2022-03-18T10:51:05.549340Z",
     "iopub.status.busy": "2022-03-18T10:51:05.548629Z",
     "iopub.status.idle": "2022-03-18T10:51:05.551224Z",
     "shell.execute_reply": "2022-03-18T10:51:05.550624Z",
     "shell.execute_reply.started": "2022-03-18T10:47:53.996589Z"
    },
    "papermill": {
     "duration": 0.030855,
     "end_time": "2022-03-18T10:51:05.551381",
     "exception": false,
     "start_time": "2022-03-18T10:51:05.520526",
     "status": "completed"
    },
    "tags": []
   },
   "outputs": [],
   "source": [
    "# this binomial Probability"
   ]
  },
  {
   "cell_type": "code",
   "execution_count": 10,
   "id": "98d06111",
   "metadata": {
    "execution": {
     "iopub.execute_input": "2022-03-18T10:51:05.602847Z",
     "iopub.status.busy": "2022-03-18T10:51:05.601769Z",
     "iopub.status.idle": "2022-03-18T10:51:05.603830Z",
     "shell.execute_reply": "2022-03-18T10:51:05.604451Z",
     "shell.execute_reply.started": "2022-03-18T09:20:36.628849Z"
    },
    "papermill": {
     "duration": 0.029964,
     "end_time": "2022-03-18T10:51:05.604625",
     "exception": false,
     "start_time": "2022-03-18T10:51:05.574661",
     "status": "completed"
    },
    "tags": []
   },
   "outputs": [],
   "source": [
    "#n=5 ,x=2 ,p=1/11 ,q = 10/11"
   ]
  },
  {
   "cell_type": "markdown",
   "id": "91b12153",
   "metadata": {
    "papermill": {
     "duration": 0.022993,
     "end_time": "2022-03-18T10:51:05.649941",
     "exception": false,
     "start_time": "2022-03-18T10:51:05.626948",
     "status": "completed"
    },
    "tags": []
   },
   "source": [
    "  #    n!\n",
    "  # ------------- px * qn-x\n",
    "#   (n - x)! x!"
   ]
  },
  {
   "cell_type": "markdown",
   "id": "83d32918",
   "metadata": {
    "papermill": {
     "duration": 0.022182,
     "end_time": "2022-03-18T10:51:05.694783",
     "exception": false,
     "start_time": "2022-03-18T10:51:05.672601",
     "status": "completed"
    },
    "tags": []
   },
   "source": [
    "[](https://www.google.com/url?sa=i&url=https%3A%2F%2Fwww.datasciencemadesimple.com%2Fbinomdist-function-in-excel%2F&psig=AOvVaw1dgP9TzsmbpzT7A-vgfzES&ust=1647681581468000&source=images&cd=vfe&ved=0CAsQjRxqFwoTCKDK77Oqz_YCFQAAAAAdAAAAABAK)"
   ]
  },
  {
   "cell_type": "code",
   "execution_count": 11,
   "id": "d1ba9f3a",
   "metadata": {
    "execution": {
     "iopub.execute_input": "2022-03-18T10:51:05.743836Z",
     "iopub.status.busy": "2022-03-18T10:51:05.742850Z",
     "iopub.status.idle": "2022-03-18T10:51:05.746084Z",
     "shell.execute_reply": "2022-03-18T10:51:05.746709Z",
     "shell.execute_reply.started": "2022-03-18T10:48:41.194414Z"
    },
    "papermill": {
     "duration": 0.029274,
     "end_time": "2022-03-18T10:51:05.746878",
     "exception": false,
     "start_time": "2022-03-18T10:51:05.717604",
     "status": "completed"
    },
    "tags": []
   },
   "outputs": [],
   "source": [
    "#n!  = 5*4*3*2*1"
   ]
  },
  {
   "cell_type": "code",
   "execution_count": 12,
   "id": "8303639b",
   "metadata": {
    "execution": {
     "iopub.execute_input": "2022-03-18T10:51:05.796633Z",
     "iopub.status.busy": "2022-03-18T10:51:05.795903Z",
     "iopub.status.idle": "2022-03-18T10:51:05.801576Z",
     "shell.execute_reply": "2022-03-18T10:51:05.802131Z",
     "shell.execute_reply.started": "2022-03-18T10:48:55.214965Z"
    },
    "papermill": {
     "duration": 0.03219,
     "end_time": "2022-03-18T10:51:05.802379",
     "exception": false,
     "start_time": "2022-03-18T10:51:05.770189",
     "status": "completed"
    },
    "tags": []
   },
   "outputs": [
    {
     "data": {
      "text/plain": [
       "20.0"
      ]
     },
     "execution_count": 12,
     "metadata": {},
     "output_type": "execute_result"
    }
   ],
   "source": [
    "a = 5*4*3*2*1\n",
    "# a/(5-2)*2*1\n",
    "#a/ 3*2*1\n",
    "b = 3*2*1\n",
    "dum = a/b\n",
    "dum"
   ]
  },
  {
   "cell_type": "code",
   "execution_count": 13,
   "id": "c78d9d50",
   "metadata": {
    "execution": {
     "iopub.execute_input": "2022-03-18T10:51:05.853145Z",
     "iopub.status.busy": "2022-03-18T10:51:05.852543Z",
     "iopub.status.idle": "2022-03-18T10:51:05.856895Z",
     "shell.execute_reply": "2022-03-18T10:51:05.857396Z",
     "shell.execute_reply.started": "2022-03-18T10:49:02.984749Z"
    },
    "papermill": {
     "duration": 0.031599,
     "end_time": "2022-03-18T10:51:05.857572",
     "exception": false,
     "start_time": "2022-03-18T10:51:05.825973",
     "status": "completed"
    },
    "tags": []
   },
   "outputs": [
    {
     "data": {
      "text/plain": [
       "0.008264462809917356"
      ]
     },
     "execution_count": 13,
     "metadata": {},
     "output_type": "execute_result"
    }
   ],
   "source": [
    " p = (1/11)**2 \n",
    "p"
   ]
  },
  {
   "cell_type": "code",
   "execution_count": 14,
   "id": "8c23a719",
   "metadata": {
    "execution": {
     "iopub.execute_input": "2022-03-18T10:51:05.911566Z",
     "iopub.status.busy": "2022-03-18T10:51:05.910804Z",
     "iopub.status.idle": "2022-03-18T10:51:05.913544Z",
     "shell.execute_reply": "2022-03-18T10:51:05.914049Z",
     "shell.execute_reply.started": "2022-03-18T10:49:07.895541Z"
    },
    "papermill": {
     "duration": 0.033295,
     "end_time": "2022-03-18T10:51:05.914225",
     "exception": false,
     "start_time": "2022-03-18T10:51:05.880930",
     "status": "completed"
    },
    "tags": []
   },
   "outputs": [
    {
     "data": {
      "text/plain": [
       "0.7513148009015777"
      ]
     },
     "execution_count": 14,
     "metadata": {},
     "output_type": "execute_result"
    }
   ],
   "source": [
    "q = (10/11)**3\n",
    "q"
   ]
  },
  {
   "cell_type": "code",
   "execution_count": 15,
   "id": "9aa381d6",
   "metadata": {
    "execution": {
     "iopub.execute_input": "2022-03-18T10:51:05.968952Z",
     "iopub.status.busy": "2022-03-18T10:51:05.968201Z",
     "iopub.status.idle": "2022-03-18T10:51:05.971697Z",
     "shell.execute_reply": "2022-03-18T10:51:05.972181Z",
     "shell.execute_reply.started": "2022-03-18T10:49:14.224396Z"
    },
    "papermill": {
     "duration": 0.034025,
     "end_time": "2022-03-18T10:51:05.972408",
     "exception": false,
     "start_time": "2022-03-18T10:51:05.938383",
     "status": "completed"
    },
    "tags": []
   },
   "outputs": [
    {
     "data": {
      "text/plain": [
       "0.12418426461183102"
      ]
     },
     "execution_count": 15,
     "metadata": {},
     "output_type": "execute_result"
    }
   ],
   "source": [
    "dum*p*q"
   ]
  },
  {
   "cell_type": "markdown",
   "id": "e601dd95",
   "metadata": {
    "papermill": {
     "duration": 0.024014,
     "end_time": "2022-03-18T10:51:06.020541",
     "exception": false,
     "start_time": "2022-03-18T10:51:05.996527",
     "status": "completed"
    },
    "tags": []
   },
   "source": [
    "# 0.124 probability of 2 person read this page in rondomly selected 5 person"
   ]
  },
  {
   "cell_type": "code",
   "execution_count": null,
   "id": "ad287360",
   "metadata": {
    "papermill": {
     "duration": 0.023871,
     "end_time": "2022-03-18T10:51:06.068654",
     "exception": false,
     "start_time": "2022-03-18T10:51:06.044783",
     "status": "completed"
    },
    "tags": []
   },
   "outputs": [],
   "source": []
  }
 ],
 "metadata": {
  "kernelspec": {
   "display_name": "Python 3",
   "language": "python",
   "name": "python3"
  },
  "language_info": {
   "codemirror_mode": {
    "name": "ipython",
    "version": 3
   },
   "file_extension": ".py",
   "mimetype": "text/x-python",
   "name": "python",
   "nbconvert_exporter": "python",
   "pygments_lexer": "ipython3",
   "version": "3.7.12"
  },
  "papermill": {
   "default_parameters": {},
   "duration": 13.645229,
   "end_time": "2022-03-18T10:51:06.804279",
   "environment_variables": {},
   "exception": null,
   "input_path": "__notebook__.ipynb",
   "output_path": "__notebook__.ipynb",
   "parameters": {},
   "start_time": "2022-03-18T10:50:53.159050",
   "version": "2.3.3"
  }
 },
 "nbformat": 4,
 "nbformat_minor": 5
}
