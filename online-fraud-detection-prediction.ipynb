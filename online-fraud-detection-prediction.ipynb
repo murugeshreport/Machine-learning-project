{
 "cells": [
  {
   "cell_type": "code",
   "execution_count": null,
   "id": "dc6e4305",
   "metadata": {
    "papermill": {
     "duration": 0.029595,
     "end_time": "2022-03-22T13:23:09.975314",
     "exception": false,
     "start_time": "2022-03-22T13:23:09.945719",
     "status": "completed"
    },
    "tags": []
   },
   "outputs": [],
   "source": []
  },
  {
   "cell_type": "markdown",
   "id": "f041258f",
   "metadata": {
    "papermill": {
     "duration": 0.033962,
     "end_time": "2022-03-22T13:23:10.037690",
     "exception": false,
     "start_time": "2022-03-22T13:23:10.003728",
     "status": "completed"
    },
    "tags": []
   },
   "source": [
    "# # Online Fraud Detection prediction model"
   ]
  },
  {
   "cell_type": "code",
   "execution_count": 1,
   "id": "ace758f1",
   "metadata": {
    "execution": {
     "iopub.execute_input": "2022-03-22T13:23:10.124095Z",
     "iopub.status.busy": "2022-03-22T13:23:10.123176Z",
     "iopub.status.idle": "2022-03-22T13:23:11.120037Z",
     "shell.execute_reply": "2022-03-22T13:23:11.119312Z",
     "shell.execute_reply.started": "2022-03-22T12:45:58.569182Z"
    },
    "papermill": {
     "duration": 1.042997,
     "end_time": "2022-03-22T13:23:11.120208",
     "exception": false,
     "start_time": "2022-03-22T13:23:10.077211",
     "status": "completed"
    },
    "tags": []
   },
   "outputs": [],
   "source": [
    "import pandas as pd\n",
    "import numpy as np\n",
    "import matplotlib.pyplot as plt\n",
    "import seaborn as sns"
   ]
  },
  {
   "cell_type": "code",
   "execution_count": 2,
   "id": "c7816a2e",
   "metadata": {
    "execution": {
     "iopub.execute_input": "2022-03-22T13:23:11.181706Z",
     "iopub.status.busy": "2022-03-22T13:23:11.180928Z",
     "iopub.status.idle": "2022-03-22T13:23:29.466602Z",
     "shell.execute_reply": "2022-03-22T13:23:29.465505Z",
     "shell.execute_reply.started": "2022-03-22T12:46:25.849705Z"
    },
    "papermill": {
     "duration": 18.318341,
     "end_time": "2022-03-22T13:23:29.466767",
     "exception": false,
     "start_time": "2022-03-22T13:23:11.148426",
     "status": "completed"
    },
    "tags": []
   },
   "outputs": [],
   "source": [
    "data = pd.read_csv('../input/paysim1/PS_20174392719_1491204439457_log.csv')"
   ]
  },
  {
   "cell_type": "code",
   "execution_count": 3,
   "id": "a7e942be",
   "metadata": {
    "execution": {
     "iopub.execute_input": "2022-03-22T13:23:29.533781Z",
     "iopub.status.busy": "2022-03-22T13:23:29.532987Z",
     "iopub.status.idle": "2022-03-22T13:23:29.553191Z",
     "shell.execute_reply": "2022-03-22T13:23:29.552665Z",
     "shell.execute_reply.started": "2022-03-22T12:46:50.778457Z"
    },
    "papermill": {
     "duration": 0.05703,
     "end_time": "2022-03-22T13:23:29.553323",
     "exception": false,
     "start_time": "2022-03-22T13:23:29.496293",
     "status": "completed"
    },
    "tags": []
   },
   "outputs": [
    {
     "data": {
      "text/html": [
       "<div>\n",
       "<style scoped>\n",
       "    .dataframe tbody tr th:only-of-type {\n",
       "        vertical-align: middle;\n",
       "    }\n",
       "\n",
       "    .dataframe tbody tr th {\n",
       "        vertical-align: top;\n",
       "    }\n",
       "\n",
       "    .dataframe thead th {\n",
       "        text-align: right;\n",
       "    }\n",
       "</style>\n",
       "<table border=\"1\" class=\"dataframe\">\n",
       "  <thead>\n",
       "    <tr style=\"text-align: right;\">\n",
       "      <th></th>\n",
       "      <th>step</th>\n",
       "      <th>type</th>\n",
       "      <th>amount</th>\n",
       "      <th>nameOrig</th>\n",
       "      <th>oldbalanceOrg</th>\n",
       "      <th>newbalanceOrig</th>\n",
       "      <th>nameDest</th>\n",
       "      <th>oldbalanceDest</th>\n",
       "      <th>newbalanceDest</th>\n",
       "      <th>isFraud</th>\n",
       "      <th>isFlaggedFraud</th>\n",
       "    </tr>\n",
       "  </thead>\n",
       "  <tbody>\n",
       "    <tr>\n",
       "      <th>0</th>\n",
       "      <td>1</td>\n",
       "      <td>PAYMENT</td>\n",
       "      <td>9839.64</td>\n",
       "      <td>C1231006815</td>\n",
       "      <td>170136.0</td>\n",
       "      <td>160296.36</td>\n",
       "      <td>M1979787155</td>\n",
       "      <td>0.0</td>\n",
       "      <td>0.0</td>\n",
       "      <td>0</td>\n",
       "      <td>0</td>\n",
       "    </tr>\n",
       "    <tr>\n",
       "      <th>1</th>\n",
       "      <td>1</td>\n",
       "      <td>PAYMENT</td>\n",
       "      <td>1864.28</td>\n",
       "      <td>C1666544295</td>\n",
       "      <td>21249.0</td>\n",
       "      <td>19384.72</td>\n",
       "      <td>M2044282225</td>\n",
       "      <td>0.0</td>\n",
       "      <td>0.0</td>\n",
       "      <td>0</td>\n",
       "      <td>0</td>\n",
       "    </tr>\n",
       "    <tr>\n",
       "      <th>2</th>\n",
       "      <td>1</td>\n",
       "      <td>TRANSFER</td>\n",
       "      <td>181.00</td>\n",
       "      <td>C1305486145</td>\n",
       "      <td>181.0</td>\n",
       "      <td>0.00</td>\n",
       "      <td>C553264065</td>\n",
       "      <td>0.0</td>\n",
       "      <td>0.0</td>\n",
       "      <td>1</td>\n",
       "      <td>0</td>\n",
       "    </tr>\n",
       "    <tr>\n",
       "      <th>3</th>\n",
       "      <td>1</td>\n",
       "      <td>CASH_OUT</td>\n",
       "      <td>181.00</td>\n",
       "      <td>C840083671</td>\n",
       "      <td>181.0</td>\n",
       "      <td>0.00</td>\n",
       "      <td>C38997010</td>\n",
       "      <td>21182.0</td>\n",
       "      <td>0.0</td>\n",
       "      <td>1</td>\n",
       "      <td>0</td>\n",
       "    </tr>\n",
       "    <tr>\n",
       "      <th>4</th>\n",
       "      <td>1</td>\n",
       "      <td>PAYMENT</td>\n",
       "      <td>11668.14</td>\n",
       "      <td>C2048537720</td>\n",
       "      <td>41554.0</td>\n",
       "      <td>29885.86</td>\n",
       "      <td>M1230701703</td>\n",
       "      <td>0.0</td>\n",
       "      <td>0.0</td>\n",
       "      <td>0</td>\n",
       "      <td>0</td>\n",
       "    </tr>\n",
       "  </tbody>\n",
       "</table>\n",
       "</div>"
      ],
      "text/plain": [
       "   step      type    amount     nameOrig  oldbalanceOrg  newbalanceOrig  \\\n",
       "0     1   PAYMENT   9839.64  C1231006815       170136.0       160296.36   \n",
       "1     1   PAYMENT   1864.28  C1666544295        21249.0        19384.72   \n",
       "2     1  TRANSFER    181.00  C1305486145          181.0            0.00   \n",
       "3     1  CASH_OUT    181.00   C840083671          181.0            0.00   \n",
       "4     1   PAYMENT  11668.14  C2048537720        41554.0        29885.86   \n",
       "\n",
       "      nameDest  oldbalanceDest  newbalanceDest  isFraud  isFlaggedFraud  \n",
       "0  M1979787155             0.0             0.0        0               0  \n",
       "1  M2044282225             0.0             0.0        0               0  \n",
       "2   C553264065             0.0             0.0        1               0  \n",
       "3    C38997010         21182.0             0.0        1               0  \n",
       "4  M1230701703             0.0             0.0        0               0  "
      ]
     },
     "execution_count": 3,
     "metadata": {},
     "output_type": "execute_result"
    }
   ],
   "source": [
    "data.head()"
   ]
  },
  {
   "cell_type": "code",
   "execution_count": 4,
   "id": "c08d5e5b",
   "metadata": {
    "execution": {
     "iopub.execute_input": "2022-03-22T13:23:29.614616Z",
     "iopub.status.busy": "2022-03-22T13:23:29.613988Z",
     "iopub.status.idle": "2022-03-22T13:23:31.704513Z",
     "shell.execute_reply": "2022-03-22T13:23:31.703691Z",
     "shell.execute_reply.started": "2022-03-22T12:48:08.419603Z"
    },
    "papermill": {
     "duration": 2.121768,
     "end_time": "2022-03-22T13:23:31.704721",
     "exception": false,
     "start_time": "2022-03-22T13:23:29.582953",
     "status": "completed"
    },
    "tags": []
   },
   "outputs": [
    {
     "data": {
      "text/plain": [
       "step              0\n",
       "type              0\n",
       "amount            0\n",
       "nameOrig          0\n",
       "oldbalanceOrg     0\n",
       "newbalanceOrig    0\n",
       "nameDest          0\n",
       "oldbalanceDest    0\n",
       "newbalanceDest    0\n",
       "isFraud           0\n",
       "isFlaggedFraud    0\n",
       "dtype: int64"
      ]
     },
     "execution_count": 4,
     "metadata": {},
     "output_type": "execute_result"
    }
   ],
   "source": [
    "data.isnull().sum()"
   ]
  },
  {
   "cell_type": "code",
   "execution_count": 5,
   "id": "52228e3d",
   "metadata": {
    "execution": {
     "iopub.execute_input": "2022-03-22T13:23:31.782227Z",
     "iopub.status.busy": "2022-03-22T13:23:31.781579Z",
     "iopub.status.idle": "2022-03-22T13:23:31.801625Z",
     "shell.execute_reply": "2022-03-22T13:23:31.802118Z",
     "shell.execute_reply.started": "2022-03-22T12:48:42.610930Z"
    },
    "papermill": {
     "duration": 0.061074,
     "end_time": "2022-03-22T13:23:31.802303",
     "exception": false,
     "start_time": "2022-03-22T13:23:31.741229",
     "status": "completed"
    },
    "tags": []
   },
   "outputs": [
    {
     "name": "stdout",
     "output_type": "stream",
     "text": [
      "<class 'pandas.core.frame.DataFrame'>\n",
      "RangeIndex: 6362620 entries, 0 to 6362619\n",
      "Data columns (total 11 columns):\n",
      " #   Column          Dtype  \n",
      "---  ------          -----  \n",
      " 0   step            int64  \n",
      " 1   type            object \n",
      " 2   amount          float64\n",
      " 3   nameOrig        object \n",
      " 4   oldbalanceOrg   float64\n",
      " 5   newbalanceOrig  float64\n",
      " 6   nameDest        object \n",
      " 7   oldbalanceDest  float64\n",
      " 8   newbalanceDest  float64\n",
      " 9   isFraud         int64  \n",
      " 10  isFlaggedFraud  int64  \n",
      "dtypes: float64(5), int64(3), object(3)\n",
      "memory usage: 534.0+ MB\n"
     ]
    }
   ],
   "source": [
    "data.info()"
   ]
  },
  {
   "cell_type": "code",
   "execution_count": 6,
   "id": "299cd1aa",
   "metadata": {
    "execution": {
     "iopub.execute_input": "2022-03-22T13:23:31.872910Z",
     "iopub.status.busy": "2022-03-22T13:23:31.872153Z",
     "iopub.status.idle": "2022-03-22T13:23:32.906691Z",
     "shell.execute_reply": "2022-03-22T13:23:32.906176Z",
     "shell.execute_reply.started": "2022-03-22T12:49:07.700102Z"
    },
    "papermill": {
     "duration": 1.06952,
     "end_time": "2022-03-22T13:23:32.906827",
     "exception": false,
     "start_time": "2022-03-22T13:23:31.837307",
     "status": "completed"
    },
    "tags": []
   },
   "outputs": [
    {
     "data": {
      "text/plain": [
       "CASH_OUT    2237500\n",
       "PAYMENT     2151495\n",
       "CASH_IN     1399284\n",
       "TRANSFER     532909\n",
       "DEBIT         41432\n",
       "Name: type, dtype: int64"
      ]
     },
     "execution_count": 6,
     "metadata": {},
     "output_type": "execute_result"
    }
   ],
   "source": [
    "data['type'].value_counts()"
   ]
  },
  {
   "cell_type": "code",
   "execution_count": 7,
   "id": "55d0c7cc",
   "metadata": {
    "execution": {
     "iopub.execute_input": "2022-03-22T13:23:34.932996Z",
     "iopub.status.busy": "2022-03-22T13:23:34.932242Z",
     "iopub.status.idle": "2022-03-22T13:23:35.082278Z",
     "shell.execute_reply": "2022-03-22T13:23:35.083156Z",
     "shell.execute_reply.started": "2022-03-22T12:58:52.746620Z"
    },
    "papermill": {
     "duration": 2.143897,
     "end_time": "2022-03-22T13:23:35.083463",
     "exception": false,
     "start_time": "2022-03-22T13:23:32.939566",
     "status": "completed"
    },
    "tags": []
   },
   "outputs": [
    {
     "data": {
      "text/plain": [
       "Text(0.5, 1.0, 'Transaction types')"
      ]
     },
     "execution_count": 7,
     "metadata": {},
     "output_type": "execute_result"
    },
    {
     "data": {
      "image/png": "[encoded data removed]",
      "text/plain": [
       "<Figure size 432x288 with 1 Axes>"
      ]
     },
     "metadata": {},
     "output_type": "display_data"
    }
   ],
   "source": [
    "colors = ['#006400','#008000','#00FF00','#2E8B57','#2F4F4F']\n",
    "plt.pie(data['type'].value_counts().values,labels = data['type'].value_counts().index,\n",
    "        colors = colors)\n",
    "plt.title('Transaction types')"
   ]
  },
  {
   "cell_type": "code",
   "execution_count": 8,
   "id": "532f2205",
   "metadata": {
    "execution": {
     "iopub.execute_input": "2022-03-22T13:23:35.182109Z",
     "iopub.status.busy": "2022-03-22T13:23:35.181438Z",
     "iopub.status.idle": "2022-03-22T13:23:36.625673Z",
     "shell.execute_reply": "2022-03-22T13:23:36.624982Z",
     "shell.execute_reply.started": "2022-03-22T13:00:25.858885Z"
    },
    "papermill": {
     "duration": 1.48442,
     "end_time": "2022-03-22T13:23:36.625848",
     "exception": false,
     "start_time": "2022-03-22T13:23:35.141428",
     "status": "completed"
    },
    "tags": []
   },
   "outputs": [],
   "source": [
    "correlation = data.corr()"
   ]
  },
  {
   "cell_type": "code",
   "execution_count": 9,
   "id": "7740c997",
   "metadata": {
    "execution": {
     "iopub.execute_input": "2022-03-22T13:23:36.693305Z",
     "iopub.status.busy": "2022-03-22T13:23:36.692661Z",
     "iopub.status.idle": "2022-03-22T13:23:38.439822Z",
     "shell.execute_reply": "2022-03-22T13:23:38.440310Z",
     "shell.execute_reply.started": "2022-03-22T13:00:02.987979Z"
    },
    "papermill": {
     "duration": 1.783486,
     "end_time": "2022-03-22T13:23:38.440484",
     "exception": false,
     "start_time": "2022-03-22T13:23:36.656998",
     "status": "completed"
    },
    "tags": []
   },
   "outputs": [
    {
     "data": {
      "text/plain": [
       "<AxesSubplot:>"
      ]
     },
     "execution_count": 9,
     "metadata": {},
     "output_type": "execute_result"
    },
    {
     "data": {
      "image/png": "[encoded data removed]",
      "text/plain": [
       "<Figure size 432x288 with 2 Axes>"
      ]
     },
     "metadata": {
      "needs_background": "light"
     },
     "output_type": "display_data"
    }
   ],
   "source": [
    "sns.heatmap(data.corr())"
   ]
  },
  {
   "cell_type": "code",
   "execution_count": 10,
   "id": "5d5ad3d8",
   "metadata": {
    "execution": {
     "iopub.execute_input": "2022-03-22T13:23:38.512214Z",
     "iopub.status.busy": "2022-03-22T13:23:38.511585Z",
     "iopub.status.idle": "2022-03-22T13:23:38.525048Z",
     "shell.execute_reply": "2022-03-22T13:23:38.524541Z",
     "shell.execute_reply.started": "2022-03-22T13:06:13.703216Z"
    },
    "papermill": {
     "duration": 0.049755,
     "end_time": "2022-03-22T13:23:38.525187",
     "exception": false,
     "start_time": "2022-03-22T13:23:38.475432",
     "status": "completed"
    },
    "tags": []
   },
   "outputs": [
    {
     "data": {
      "text/html": [
       "<div>\n",
       "<style scoped>\n",
       "    .dataframe tbody tr th:only-of-type {\n",
       "        vertical-align: middle;\n",
       "    }\n",
       "\n",
       "    .dataframe tbody tr th {\n",
       "        vertical-align: top;\n",
       "    }\n",
       "\n",
       "    .dataframe thead th {\n",
       "        text-align: right;\n",
       "    }\n",
       "</style>\n",
       "<table border=\"1\" class=\"dataframe\">\n",
       "  <thead>\n",
       "    <tr style=\"text-align: right;\">\n",
       "      <th></th>\n",
       "      <th>index</th>\n",
       "      <th>isFraud</th>\n",
       "    </tr>\n",
       "  </thead>\n",
       "  <tbody>\n",
       "    <tr>\n",
       "      <th>6</th>\n",
       "      <td>isFraud</td>\n",
       "      <td>1.000000</td>\n",
       "    </tr>\n",
       "    <tr>\n",
       "      <th>1</th>\n",
       "      <td>amount</td>\n",
       "      <td>0.076688</td>\n",
       "    </tr>\n",
       "    <tr>\n",
       "      <th>7</th>\n",
       "      <td>isFlaggedFraud</td>\n",
       "      <td>0.044109</td>\n",
       "    </tr>\n",
       "    <tr>\n",
       "      <th>0</th>\n",
       "      <td>step</td>\n",
       "      <td>0.031578</td>\n",
       "    </tr>\n",
       "    <tr>\n",
       "      <th>2</th>\n",
       "      <td>oldbalanceOrg</td>\n",
       "      <td>0.010154</td>\n",
       "    </tr>\n",
       "    <tr>\n",
       "      <th>5</th>\n",
       "      <td>newbalanceDest</td>\n",
       "      <td>0.000535</td>\n",
       "    </tr>\n",
       "    <tr>\n",
       "      <th>4</th>\n",
       "      <td>oldbalanceDest</td>\n",
       "      <td>-0.005885</td>\n",
       "    </tr>\n",
       "    <tr>\n",
       "      <th>3</th>\n",
       "      <td>newbalanceOrig</td>\n",
       "      <td>-0.008148</td>\n",
       "    </tr>\n",
       "  </tbody>\n",
       "</table>\n",
       "</div>"
      ],
      "text/plain": [
       "            index   isFraud\n",
       "6         isFraud  1.000000\n",
       "1          amount  0.076688\n",
       "7  isFlaggedFraud  0.044109\n",
       "0            step  0.031578\n",
       "2   oldbalanceOrg  0.010154\n",
       "5  newbalanceDest  0.000535\n",
       "4  oldbalanceDest -0.005885\n",
       "3  newbalanceOrig -0.008148"
      ]
     },
     "execution_count": 10,
     "metadata": {},
     "output_type": "execute_result"
    }
   ],
   "source": [
    "correlation['isFraud'].reset_index().sort_values('isFraud',ascending = False)"
   ]
  },
  {
   "cell_type": "code",
   "execution_count": 11,
   "id": "ee6e687f",
   "metadata": {
    "execution": {
     "iopub.execute_input": "2022-03-22T13:23:38.596927Z",
     "iopub.status.busy": "2022-03-22T13:23:38.595879Z",
     "iopub.status.idle": "2022-03-22T13:23:38.633500Z",
     "shell.execute_reply": "2022-03-22T13:23:38.634149Z",
     "shell.execute_reply.started": "2022-03-22T13:06:50.384058Z"
    },
    "papermill": {
     "duration": 0.075269,
     "end_time": "2022-03-22T13:23:38.634329",
     "exception": false,
     "start_time": "2022-03-22T13:23:38.559060",
     "status": "completed"
    },
    "tags": []
   },
   "outputs": [
    {
     "data": {
      "text/plain": [
       "0    6354407\n",
       "1       8213\n",
       "Name: isFraud, dtype: int64"
      ]
     },
     "execution_count": 11,
     "metadata": {},
     "output_type": "execute_result"
    }
   ],
   "source": [
    "data['isFraud'].value_counts()"
   ]
  },
  {
   "cell_type": "code",
   "execution_count": 12,
   "id": "37330e43",
   "metadata": {
    "execution": {
     "iopub.execute_input": "2022-03-22T13:23:38.706452Z",
     "iopub.status.busy": "2022-03-22T13:23:38.705831Z",
     "iopub.status.idle": "2022-03-22T13:23:39.685914Z",
     "shell.execute_reply": "2022-03-22T13:23:39.686461Z",
     "shell.execute_reply.started": "2022-03-22T13:07:35.425252Z"
    },
    "papermill": {
     "duration": 1.018116,
     "end_time": "2022-03-22T13:23:39.686640",
     "exception": false,
     "start_time": "2022-03-22T13:23:38.668524",
     "status": "completed"
    },
    "tags": []
   },
   "outputs": [
    {
     "data": {
      "text/plain": [
       "CASH_OUT    2237500\n",
       "PAYMENT     2151495\n",
       "CASH_IN     1399284\n",
       "TRANSFER     532909\n",
       "DEBIT         41432\n",
       "Name: type, dtype: int64"
      ]
     },
     "execution_count": 12,
     "metadata": {},
     "output_type": "execute_result"
    }
   ],
   "source": [
    "data['type'].value_counts()"
   ]
  },
  {
   "cell_type": "code",
   "execution_count": 13,
   "id": "e652c0c9",
   "metadata": {
    "execution": {
     "iopub.execute_input": "2022-03-22T13:23:39.758873Z",
     "iopub.status.busy": "2022-03-22T13:23:39.758206Z",
     "iopub.status.idle": "2022-03-22T13:23:40.575427Z",
     "shell.execute_reply": "2022-03-22T13:23:40.574820Z",
     "shell.execute_reply.started": "2022-03-22T13:10:00.477695Z"
    },
    "papermill": {
     "duration": 0.854169,
     "end_time": "2022-03-22T13:23:40.575592",
     "exception": false,
     "start_time": "2022-03-22T13:23:39.721423",
     "status": "completed"
    },
    "tags": []
   },
   "outputs": [],
   "source": [
    "data['type'] = data['type'].map({'CASH_OUT':1,'PAYMENT':2,'CASH_IN':3,'TRANSFER':4,'DEBIT':5})"
   ]
  },
  {
   "cell_type": "code",
   "execution_count": 14,
   "id": "aa2fa79d",
   "metadata": {
    "execution": {
     "iopub.execute_input": "2022-03-22T13:23:40.651649Z",
     "iopub.status.busy": "2022-03-22T13:23:40.650981Z",
     "iopub.status.idle": "2022-03-22T13:23:40.879639Z",
     "shell.execute_reply": "2022-03-22T13:23:40.880241Z",
     "shell.execute_reply.started": "2022-03-22T13:12:22.626585Z"
    },
    "papermill": {
     "duration": 0.269598,
     "end_time": "2022-03-22T13:23:40.880432",
     "exception": false,
     "start_time": "2022-03-22T13:23:40.610834",
     "status": "completed"
    },
    "tags": []
   },
   "outputs": [
    {
     "data": {
      "text/html": [
       "<div>\n",
       "<style scoped>\n",
       "    .dataframe tbody tr th:only-of-type {\n",
       "        vertical-align: middle;\n",
       "    }\n",
       "\n",
       "    .dataframe tbody tr th {\n",
       "        vertical-align: top;\n",
       "    }\n",
       "\n",
       "    .dataframe thead th {\n",
       "        text-align: right;\n",
       "    }\n",
       "</style>\n",
       "<table border=\"1\" class=\"dataframe\">\n",
       "  <thead>\n",
       "    <tr style=\"text-align: right;\">\n",
       "      <th></th>\n",
       "      <th>type</th>\n",
       "      <th>amount</th>\n",
       "      <th>oldbalanceOrg</th>\n",
       "      <th>newbalanceOrig</th>\n",
       "    </tr>\n",
       "  </thead>\n",
       "  <tbody>\n",
       "    <tr>\n",
       "      <th>0</th>\n",
       "      <td>2</td>\n",
       "      <td>9839.64</td>\n",
       "      <td>170136.00</td>\n",
       "      <td>160296.36</td>\n",
       "    </tr>\n",
       "    <tr>\n",
       "      <th>1</th>\n",
       "      <td>2</td>\n",
       "      <td>1864.28</td>\n",
       "      <td>21249.00</td>\n",
       "      <td>19384.72</td>\n",
       "    </tr>\n",
       "    <tr>\n",
       "      <th>2</th>\n",
       "      <td>4</td>\n",
       "      <td>181.00</td>\n",
       "      <td>181.00</td>\n",
       "      <td>0.00</td>\n",
       "    </tr>\n",
       "    <tr>\n",
       "      <th>3</th>\n",
       "      <td>1</td>\n",
       "      <td>181.00</td>\n",
       "      <td>181.00</td>\n",
       "      <td>0.00</td>\n",
       "    </tr>\n",
       "    <tr>\n",
       "      <th>4</th>\n",
       "      <td>2</td>\n",
       "      <td>11668.14</td>\n",
       "      <td>41554.00</td>\n",
       "      <td>29885.86</td>\n",
       "    </tr>\n",
       "    <tr>\n",
       "      <th>...</th>\n",
       "      <td>...</td>\n",
       "      <td>...</td>\n",
       "      <td>...</td>\n",
       "      <td>...</td>\n",
       "    </tr>\n",
       "    <tr>\n",
       "      <th>6362615</th>\n",
       "      <td>1</td>\n",
       "      <td>339682.13</td>\n",
       "      <td>339682.13</td>\n",
       "      <td>0.00</td>\n",
       "    </tr>\n",
       "    <tr>\n",
       "      <th>6362616</th>\n",
       "      <td>4</td>\n",
       "      <td>6311409.28</td>\n",
       "      <td>6311409.28</td>\n",
       "      <td>0.00</td>\n",
       "    </tr>\n",
       "    <tr>\n",
       "      <th>6362617</th>\n",
       "      <td>1</td>\n",
       "      <td>6311409.28</td>\n",
       "      <td>6311409.28</td>\n",
       "      <td>0.00</td>\n",
       "    </tr>\n",
       "    <tr>\n",
       "      <th>6362618</th>\n",
       "      <td>4</td>\n",
       "      <td>850002.52</td>\n",
       "      <td>850002.52</td>\n",
       "      <td>0.00</td>\n",
       "    </tr>\n",
       "    <tr>\n",
       "      <th>6362619</th>\n",
       "      <td>1</td>\n",
       "      <td>850002.52</td>\n",
       "      <td>850002.52</td>\n",
       "      <td>0.00</td>\n",
       "    </tr>\n",
       "  </tbody>\n",
       "</table>\n",
       "<p>6362620 rows × 4 columns</p>\n",
       "</div>"
      ],
      "text/plain": [
       "         type      amount  oldbalanceOrg  newbalanceOrig\n",
       "0           2     9839.64      170136.00       160296.36\n",
       "1           2     1864.28       21249.00        19384.72\n",
       "2           4      181.00         181.00            0.00\n",
       "3           1      181.00         181.00            0.00\n",
       "4           2    11668.14       41554.00        29885.86\n",
       "...       ...         ...            ...             ...\n",
       "6362615     1   339682.13      339682.13            0.00\n",
       "6362616     4  6311409.28     6311409.28            0.00\n",
       "6362617     1  6311409.28     6311409.28            0.00\n",
       "6362618     4   850002.52      850002.52            0.00\n",
       "6362619     1   850002.52      850002.52            0.00\n",
       "\n",
       "[6362620 rows x 4 columns]"
      ]
     },
     "execution_count": 14,
     "metadata": {},
     "output_type": "execute_result"
    }
   ],
   "source": [
    "x = data[['type','amount','oldbalanceOrg','newbalanceOrig']]\n",
    "x"
   ]
  },
  {
   "cell_type": "code",
   "execution_count": 15,
   "id": "28a37ad9",
   "metadata": {
    "execution": {
     "iopub.execute_input": "2022-03-22T13:23:40.955588Z",
     "iopub.status.busy": "2022-03-22T13:23:40.954899Z",
     "iopub.status.idle": "2022-03-22T13:23:40.961955Z",
     "shell.execute_reply": "2022-03-22T13:23:40.962515Z",
     "shell.execute_reply.started": "2022-03-22T13:13:00.533189Z"
    },
    "papermill": {
     "duration": 0.04647,
     "end_time": "2022-03-22T13:23:40.962681",
     "exception": false,
     "start_time": "2022-03-22T13:23:40.916211",
     "status": "completed"
    },
    "tags": []
   },
   "outputs": [
    {
     "data": {
      "text/plain": [
       "0          0\n",
       "1          0\n",
       "2          1\n",
       "3          1\n",
       "4          0\n",
       "          ..\n",
       "6362615    1\n",
       "6362616    1\n",
       "6362617    1\n",
       "6362618    1\n",
       "6362619    1\n",
       "Name: isFraud, Length: 6362620, dtype: int64"
      ]
     },
     "execution_count": 15,
     "metadata": {},
     "output_type": "execute_result"
    }
   ],
   "source": [
    "y = data['isFraud']\n",
    "y"
   ]
  },
  {
   "cell_type": "code",
   "execution_count": 16,
   "id": "9406cdcf",
   "metadata": {
    "execution": {
     "iopub.execute_input": "2022-03-22T13:23:41.038774Z",
     "iopub.status.busy": "2022-03-22T13:23:41.037764Z",
     "iopub.status.idle": "2022-03-22T13:23:41.209961Z",
     "shell.execute_reply": "2022-03-22T13:23:41.208796Z",
     "shell.execute_reply.started": "2022-03-22T13:13:31.101402Z"
    },
    "papermill": {
     "duration": 0.211116,
     "end_time": "2022-03-22T13:23:41.210112",
     "exception": false,
     "start_time": "2022-03-22T13:23:40.998996",
     "status": "completed"
    },
    "tags": []
   },
   "outputs": [],
   "source": [
    "from sklearn.model_selection import train_test_split"
   ]
  },
  {
   "cell_type": "code",
   "execution_count": 17,
   "id": "0a137f1c",
   "metadata": {
    "execution": {
     "iopub.execute_input": "2022-03-22T13:23:41.290202Z",
     "iopub.status.busy": "2022-03-22T13:23:41.289157Z",
     "iopub.status.idle": "2022-03-22T13:23:42.700334Z",
     "shell.execute_reply": "2022-03-22T13:23:42.699802Z",
     "shell.execute_reply.started": "2022-03-22T13:14:09.902921Z"
    },
    "papermill": {
     "duration": 1.454621,
     "end_time": "2022-03-22T13:23:42.700495",
     "exception": false,
     "start_time": "2022-03-22T13:23:41.245874",
     "status": "completed"
    },
    "tags": []
   },
   "outputs": [],
   "source": [
    "xtrain,xtest,ytrain,ytest=train_test_split(x,y,test_size=0.20)"
   ]
  },
  {
   "cell_type": "code",
   "execution_count": 18,
   "id": "8fe7e16c",
   "metadata": {
    "execution": {
     "iopub.execute_input": "2022-03-22T13:23:42.774161Z",
     "iopub.status.busy": "2022-03-22T13:23:42.773564Z",
     "iopub.status.idle": "2022-03-22T13:23:42.778291Z",
     "shell.execute_reply": "2022-03-22T13:23:42.778916Z",
     "shell.execute_reply.started": "2022-03-22T13:14:31.564968Z"
    },
    "papermill": {
     "duration": 0.043466,
     "end_time": "2022-03-22T13:23:42.779095",
     "exception": false,
     "start_time": "2022-03-22T13:23:42.735629",
     "status": "completed"
    },
    "tags": []
   },
   "outputs": [
    {
     "data": {
      "text/plain": [
       "(5090096, 4)"
      ]
     },
     "execution_count": 18,
     "metadata": {},
     "output_type": "execute_result"
    }
   ],
   "source": [
    "xtrain.shape"
   ]
  },
  {
   "cell_type": "code",
   "execution_count": 19,
   "id": "8a4cd5f7",
   "metadata": {
    "execution": {
     "iopub.execute_input": "2022-03-22T13:23:42.856028Z",
     "iopub.status.busy": "2022-03-22T13:23:42.855333Z",
     "iopub.status.idle": "2022-03-22T13:23:42.858829Z",
     "shell.execute_reply": "2022-03-22T13:23:42.858213Z",
     "shell.execute_reply.started": "2022-03-22T13:14:39.783919Z"
    },
    "papermill": {
     "duration": 0.044091,
     "end_time": "2022-03-22T13:23:42.858962",
     "exception": false,
     "start_time": "2022-03-22T13:23:42.814871",
     "status": "completed"
    },
    "tags": []
   },
   "outputs": [
    {
     "data": {
      "text/plain": [
       "(1272524, 4)"
      ]
     },
     "execution_count": 19,
     "metadata": {},
     "output_type": "execute_result"
    }
   ],
   "source": [
    "xtest.shape"
   ]
  },
  {
   "cell_type": "code",
   "execution_count": 20,
   "id": "b760053a",
   "metadata": {
    "execution": {
     "iopub.execute_input": "2022-03-22T13:23:42.936135Z",
     "iopub.status.busy": "2022-03-22T13:23:42.935507Z",
     "iopub.status.idle": "2022-03-22T13:23:43.072038Z",
     "shell.execute_reply": "2022-03-22T13:23:43.072641Z",
     "shell.execute_reply.started": "2022-03-22T13:16:54.011590Z"
    },
    "papermill": {
     "duration": 0.177924,
     "end_time": "2022-03-22T13:23:43.072861",
     "exception": false,
     "start_time": "2022-03-22T13:23:42.894937",
     "status": "completed"
    },
    "tags": []
   },
   "outputs": [],
   "source": [
    "from sklearn.tree import DecisionTreeClassifier"
   ]
  },
  {
   "cell_type": "code",
   "execution_count": 21,
   "id": "b07c4b6b",
   "metadata": {
    "execution": {
     "iopub.execute_input": "2022-03-22T13:23:43.160713Z",
     "iopub.status.busy": "2022-03-22T13:23:43.160073Z",
     "iopub.status.idle": "2022-03-22T13:23:43.161763Z",
     "shell.execute_reply": "2022-03-22T13:23:43.162307Z",
     "shell.execute_reply.started": "2022-03-22T13:17:13.973536Z"
    },
    "papermill": {
     "duration": 0.043462,
     "end_time": "2022-03-22T13:23:43.162482",
     "exception": false,
     "start_time": "2022-03-22T13:23:43.119020",
     "status": "completed"
    },
    "tags": []
   },
   "outputs": [],
   "source": [
    "tree = DecisionTreeClassifier()"
   ]
  },
  {
   "cell_type": "code",
   "execution_count": 22,
   "id": "a6d7ee0c",
   "metadata": {
    "execution": {
     "iopub.execute_input": "2022-03-22T13:23:43.237506Z",
     "iopub.status.busy": "2022-03-22T13:23:43.236873Z",
     "iopub.status.idle": "2022-03-22T13:24:08.445616Z",
     "shell.execute_reply": "2022-03-22T13:24:08.444910Z",
     "shell.execute_reply.started": "2022-03-22T13:17:40.151573Z"
    },
    "papermill": {
     "duration": 25.247705,
     "end_time": "2022-03-22T13:24:08.445793",
     "exception": false,
     "start_time": "2022-03-22T13:23:43.198088",
     "status": "completed"
    },
    "tags": []
   },
   "outputs": [],
   "source": [
    "model = tree.fit(xtrain,ytrain)"
   ]
  },
  {
   "cell_type": "code",
   "execution_count": 23,
   "id": "4f36c08e",
   "metadata": {
    "execution": {
     "iopub.execute_input": "2022-03-22T13:24:08.523281Z",
     "iopub.status.busy": "2022-03-22T13:24:08.522353Z",
     "iopub.status.idle": "2022-03-22T13:24:08.711624Z",
     "shell.execute_reply": "2022-03-22T13:24:08.712055Z",
     "shell.execute_reply.started": "2022-03-22T13:18:35.645884Z"
    },
    "papermill": {
     "duration": 0.228868,
     "end_time": "2022-03-22T13:24:08.712217",
     "exception": false,
     "start_time": "2022-03-22T13:24:08.483349",
     "status": "completed"
    },
    "tags": []
   },
   "outputs": [
    {
     "data": {
      "text/plain": [
       "0.9996880216011643"
      ]
     },
     "execution_count": 23,
     "metadata": {},
     "output_type": "execute_result"
    }
   ],
   "source": [
    "model.score(xtest,ytest)"
   ]
  },
  {
   "cell_type": "code",
   "execution_count": 24,
   "id": "147e355e",
   "metadata": {
    "execution": {
     "iopub.execute_input": "2022-03-22T13:24:08.787951Z",
     "iopub.status.busy": "2022-03-22T13:24:08.787013Z",
     "iopub.status.idle": "2022-03-22T13:24:08.797344Z",
     "shell.execute_reply": "2022-03-22T13:24:08.797883Z",
     "shell.execute_reply.started": "2022-03-22T13:19:34.524280Z"
    },
    "papermill": {
     "duration": 0.050033,
     "end_time": "2022-03-22T13:24:08.798036",
     "exception": false,
     "start_time": "2022-03-22T13:24:08.748003",
     "status": "completed"
    },
    "tags": []
   },
   "outputs": [
    {
     "data": {
      "text/html": [
       "<div>\n",
       "<style scoped>\n",
       "    .dataframe tbody tr th:only-of-type {\n",
       "        vertical-align: middle;\n",
       "    }\n",
       "\n",
       "    .dataframe tbody tr th {\n",
       "        vertical-align: top;\n",
       "    }\n",
       "\n",
       "    .dataframe thead th {\n",
       "        text-align: right;\n",
       "    }\n",
       "</style>\n",
       "<table border=\"1\" class=\"dataframe\">\n",
       "  <thead>\n",
       "    <tr style=\"text-align: right;\">\n",
       "      <th></th>\n",
       "      <th>type</th>\n",
       "      <th>amount</th>\n",
       "      <th>oldbalanceOrg</th>\n",
       "      <th>newbalanceOrig</th>\n",
       "    </tr>\n",
       "  </thead>\n",
       "  <tbody>\n",
       "    <tr>\n",
       "      <th>889080</th>\n",
       "      <td>1</td>\n",
       "      <td>200686.13</td>\n",
       "      <td>12474.0</td>\n",
       "      <td>0.0</td>\n",
       "    </tr>\n",
       "  </tbody>\n",
       "</table>\n",
       "</div>"
      ],
      "text/plain": [
       "        type     amount  oldbalanceOrg  newbalanceOrig\n",
       "889080     1  200686.13        12474.0             0.0"
      ]
     },
     "execution_count": 24,
     "metadata": {},
     "output_type": "execute_result"
    }
   ],
   "source": [
    "xtest.head(1)"
   ]
  },
  {
   "cell_type": "code",
   "execution_count": 25,
   "id": "34d4150b",
   "metadata": {
    "execution": {
     "iopub.execute_input": "2022-03-22T13:24:08.879089Z",
     "iopub.status.busy": "2022-03-22T13:24:08.878249Z",
     "iopub.status.idle": "2022-03-22T13:24:08.881554Z",
     "shell.execute_reply": "2022-03-22T13:24:08.882023Z",
     "shell.execute_reply.started": "2022-03-22T13:19:56.076193Z"
    },
    "papermill": {
     "duration": 0.04759,
     "end_time": "2022-03-22T13:24:08.882182",
     "exception": false,
     "start_time": "2022-03-22T13:24:08.834592",
     "status": "completed"
    },
    "tags": []
   },
   "outputs": [
    {
     "data": {
      "text/plain": [
       "889080    0\n",
       "Name: isFraud, dtype: int64"
      ]
     },
     "execution_count": 25,
     "metadata": {},
     "output_type": "execute_result"
    }
   ],
   "source": [
    "ytest.head(1)"
   ]
  },
  {
   "cell_type": "code",
   "execution_count": 26,
   "id": "3c538e94",
   "metadata": {
    "execution": {
     "iopub.execute_input": "2022-03-22T13:24:08.961444Z",
     "iopub.status.busy": "2022-03-22T13:24:08.960430Z",
     "iopub.status.idle": "2022-03-22T13:24:08.969311Z",
     "shell.execute_reply": "2022-03-22T13:24:08.969828Z",
     "shell.execute_reply.started": "2022-03-22T13:20:54.724196Z"
    },
    "papermill": {
     "duration": 0.050352,
     "end_time": "2022-03-22T13:24:08.970010",
     "exception": false,
     "start_time": "2022-03-22T13:24:08.919658",
     "status": "completed"
    },
    "tags": []
   },
   "outputs": [
    {
     "name": "stderr",
     "output_type": "stream",
     "text": [
      "/opt/conda/lib/python3.7/site-packages/sklearn/base.py:446: UserWarning: X does not have valid feature names, but DecisionTreeClassifier was fitted with feature names\n",
      "  \"X does not have valid feature names, but\"\n"
     ]
    },
    {
     "data": {
      "text/plain": [
       "array([0])"
      ]
     },
     "execution_count": 26,
     "metadata": {},
     "output_type": "execute_result"
    }
   ],
   "source": [
    "model.predict([[3,251111.82,2679291.55,2930403.37]])"
   ]
  },
  {
   "cell_type": "code",
   "execution_count": null,
   "id": "1e6037a6",
   "metadata": {
    "papermill": {
     "duration": 0.039065,
     "end_time": "2022-03-22T13:24:09.047689",
     "exception": false,
     "start_time": "2022-03-22T13:24:09.008624",
     "status": "completed"
    },
    "tags": []
   },
   "outputs": [],
   "source": []
  },
  {
   "cell_type": "code",
   "execution_count": null,
   "id": "114731a4",
   "metadata": {
    "papermill": {
     "duration": 0.038506,
     "end_time": "2022-03-22T13:24:09.124619",
     "exception": false,
     "start_time": "2022-03-22T13:24:09.086113",
     "status": "completed"
    },
    "tags": []
   },
   "outputs": [],
   "source": []
  }
 ],
 "metadata": {
  "kernelspec": {
   "display_name": "Python 3",
   "language": "python",
   "name": "python3"
  },
  "language_info": {
   "codemirror_mode": {
    "name": "ipython",
    "version": 3
   },
   "file_extension": ".py",
   "mimetype": "text/x-python",
   "name": "python",
   "nbconvert_exporter": "python",
   "pygments_lexer": "ipython3",
   "version": "3.7.12"
  },
  "papermill": {
   "default_parameters": {},
   "duration": 69.885227,
   "end_time": "2022-03-22T13:24:10.375104",
   "environment_variables": {},
   "exception": null,
   "input_path": "__notebook__.ipynb",
   "output_path": "__notebook__.ipynb",
   "parameters": {},
   "start_time": "2022-03-22T13:23:00.489877",
   "version": "2.3.3"
  }
 },
 "nbformat": 4,
 "nbformat_minor": 5
}
