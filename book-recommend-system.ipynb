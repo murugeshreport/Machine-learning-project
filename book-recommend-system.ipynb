{
 "cells": [
  {
   "cell_type": "markdown",
   "id": "40a7afef",
   "metadata": {
    "papermill": {
     "duration": 0.039729,
     "end_time": "2022-03-21T11:30:56.569227",
     "exception": false,
     "start_time": "2022-03-21T11:30:56.529498",
     "status": "completed"
    },
    "tags": []
   },
   "source": [
    "# # Book Recommend system"
   ]
  },
  {
   "cell_type": "code",
   "execution_count": null,
   "id": "393d4c0c",
   "metadata": {
    "papermill": {
     "duration": 0.037252,
     "end_time": "2022-03-21T11:30:56.646060",
     "exception": false,
     "start_time": "2022-03-21T11:30:56.608808",
     "status": "completed"
    },
    "tags": []
   },
   "outputs": [],
   "source": []
  },
  {
   "cell_type": "code",
   "execution_count": 1,
   "id": "6d5d18a4",
   "metadata": {
    "execution": {
     "iopub.execute_input": "2022-03-21T11:30:56.732272Z",
     "iopub.status.busy": "2022-03-21T11:30:56.731348Z",
     "iopub.status.idle": "2022-03-21T11:30:57.697941Z",
     "shell.execute_reply": "2022-03-21T11:30:57.698496Z",
     "shell.execute_reply.started": "2022-03-21T11:06:10.438234Z"
    },
    "papermill": {
     "duration": 1.014586,
     "end_time": "2022-03-21T11:30:57.698779",
     "exception": false,
     "start_time": "2022-03-21T11:30:56.684193",
     "status": "completed"
    },
    "tags": []
   },
   "outputs": [],
   "source": [
    "import pandas as pd\n",
    "import numpy as np\n",
    "import matplotlib.pyplot as plt\n",
    "import seaborn as sns"
   ]
  },
  {
   "cell_type": "code",
   "execution_count": 2,
   "id": "a0239923",
   "metadata": {
    "execution": {
     "iopub.execute_input": "2022-03-21T11:30:57.782721Z",
     "iopub.status.busy": "2022-03-21T11:30:57.782111Z",
     "iopub.status.idle": "2022-03-21T11:30:57.815358Z",
     "shell.execute_reply": "2022-03-21T11:30:57.815882Z",
     "shell.execute_reply.started": "2022-03-21T11:06:11.458341Z"
    },
    "papermill": {
     "duration": 0.077533,
     "end_time": "2022-03-21T11:30:57.816064",
     "exception": false,
     "start_time": "2022-03-21T11:30:57.738531",
     "status": "completed"
    },
    "tags": []
   },
   "outputs": [],
   "source": [
    "data = pd.read_csv('../input/chalchitra-talks-book-recommendations/books.csv')"
   ]
  },
  {
   "cell_type": "code",
   "execution_count": 3,
   "id": "c7f888b3",
   "metadata": {
    "execution": {
     "iopub.execute_input": "2022-03-21T11:30:57.900635Z",
     "iopub.status.busy": "2022-03-21T11:30:57.899649Z",
     "iopub.status.idle": "2022-03-21T11:30:57.925304Z",
     "shell.execute_reply": "2022-03-21T11:30:57.925772Z",
     "shell.execute_reply.started": "2022-03-21T11:06:11.515144Z"
    },
    "papermill": {
     "duration": 0.06892,
     "end_time": "2022-03-21T11:30:57.925952",
     "exception": false,
     "start_time": "2022-03-21T11:30:57.857032",
     "status": "completed"
    },
    "tags": []
   },
   "outputs": [
    {
     "data": {
      "text/html": [
       "<div>\n",
       "<style scoped>\n",
       "    .dataframe tbody tr th:only-of-type {\n",
       "        vertical-align: middle;\n",
       "    }\n",
       "\n",
       "    .dataframe tbody tr th {\n",
       "        vertical-align: top;\n",
       "    }\n",
       "\n",
       "    .dataframe thead th {\n",
       "        text-align: right;\n",
       "    }\n",
       "</style>\n",
       "<table border=\"1\" class=\"dataframe\">\n",
       "  <thead>\n",
       "    <tr style=\"text-align: right;\">\n",
       "      <th></th>\n",
       "      <th>book_id</th>\n",
       "      <th>book_name</th>\n",
       "      <th>book_description_from_chalchitra</th>\n",
       "      <th>authors</th>\n",
       "      <th>publisher</th>\n",
       "      <th>publishedDate</th>\n",
       "      <th>pageCount</th>\n",
       "      <th>categories</th>\n",
       "      <th>averageRating</th>\n",
       "      <th>ratingsCount</th>\n",
       "      <th>language</th>\n",
       "      <th>description</th>\n",
       "      <th>synopsis</th>\n",
       "    </tr>\n",
       "  </thead>\n",
       "  <tbody>\n",
       "    <tr>\n",
       "      <th>0</th>\n",
       "      <td>0</td>\n",
       "      <td>Charles Laughton: A Difficult Actor</td>\n",
       "      <td>This is the fullest biography yet on the actor...</td>\n",
       "      <td>['Simon Callow']</td>\n",
       "      <td>Fromm International</td>\n",
       "      <td>1997</td>\n",
       "      <td>318.0</td>\n",
       "      <td>['Biography &amp; Autobiography']</td>\n",
       "      <td>NaN</td>\n",
       "      <td>NaN</td>\n",
       "      <td>en</td>\n",
       "      <td>NaN</td>\n",
       "      <td>NaN</td>\n",
       "    </tr>\n",
       "    <tr>\n",
       "      <th>1</th>\n",
       "      <td>1</td>\n",
       "      <td>Gone with the Wind</td>\n",
       "      <td>A historical novel by Margaret Mitchell.</td>\n",
       "      <td>['Margaret Mitchell']</td>\n",
       "      <td>Random House</td>\n",
       "      <td>2020-01-02</td>\n",
       "      <td>1072.0</td>\n",
       "      <td>['Fiction']</td>\n",
       "      <td>4.5</td>\n",
       "      <td>5.0</td>\n",
       "      <td>en</td>\n",
       "      <td>'My dear, I don't give a damn.' Margaret Mitch...</td>\n",
       "      <td>'My dear, I don't give a damn.'\\n\\nMargaret Mi...</td>\n",
       "    </tr>\n",
       "    <tr>\n",
       "      <th>2</th>\n",
       "      <td>2</td>\n",
       "      <td>Hayvadan</td>\n",
       "      <td>It is based on Kathasaritsagara and Thomas Man...</td>\n",
       "      <td>['Girish Karnad']</td>\n",
       "      <td>Radhakrishna Prakashan</td>\n",
       "      <td>2021-07-29</td>\n",
       "      <td>132.0</td>\n",
       "      <td>NaN</td>\n",
       "      <td>NaN</td>\n",
       "      <td>NaN</td>\n",
       "      <td>hi</td>\n",
       "      <td>NaN</td>\n",
       "      <td>NaN</td>\n",
       "    </tr>\n",
       "    <tr>\n",
       "      <th>3</th>\n",
       "      <td>3</td>\n",
       "      <td>The London Jungle Book</td>\n",
       "      <td>A visual travelogue by Bhajju Shyam</td>\n",
       "      <td>['Bhajju Shyam', 'Sirish Rao', 'Gita Wolf-Samp...</td>\n",
       "      <td>Tara Publishing</td>\n",
       "      <td>2004</td>\n",
       "      <td>48.0</td>\n",
       "      <td>['Art']</td>\n",
       "      <td>5.0</td>\n",
       "      <td>1.0</td>\n",
       "      <td>en</td>\n",
       "      <td>Bhajju Shyam, of the Gond tribe of central Ind...</td>\n",
       "      <td>“A beautiful book. I would like to give it to ...</td>\n",
       "    </tr>\n",
       "    <tr>\n",
       "      <th>4</th>\n",
       "      <td>4</td>\n",
       "      <td>The Private Life of Plants</td>\n",
       "      <td>This book reveals hidden events and phenomena ...</td>\n",
       "      <td>['David Attenborough']</td>\n",
       "      <td>NaN</td>\n",
       "      <td>1995</td>\n",
       "      <td>320.0</td>\n",
       "      <td>['Botany']</td>\n",
       "      <td>4.0</td>\n",
       "      <td>3.0</td>\n",
       "      <td>en</td>\n",
       "      <td>Without plants, there would be no food, no ani...</td>\n",
       "      <td>Without plants, there would be no food, no ani...</td>\n",
       "    </tr>\n",
       "  </tbody>\n",
       "</table>\n",
       "</div>"
      ],
      "text/plain": [
       "   book_id                            book_name  \\\n",
       "0        0  Charles Laughton: A Difficult Actor   \n",
       "1        1                   Gone with the Wind   \n",
       "2        2                             Hayvadan   \n",
       "3        3               The London Jungle Book   \n",
       "4        4           The Private Life of Plants   \n",
       "\n",
       "                    book_description_from_chalchitra  \\\n",
       "0  This is the fullest biography yet on the actor...   \n",
       "1           A historical novel by Margaret Mitchell.   \n",
       "2  It is based on Kathasaritsagara and Thomas Man...   \n",
       "3                A visual travelogue by Bhajju Shyam   \n",
       "4  This book reveals hidden events and phenomena ...   \n",
       "\n",
       "                                             authors               publisher  \\\n",
       "0                                   ['Simon Callow']     Fromm International   \n",
       "1                              ['Margaret Mitchell']            Random House   \n",
       "2                                  ['Girish Karnad']  Radhakrishna Prakashan   \n",
       "3  ['Bhajju Shyam', 'Sirish Rao', 'Gita Wolf-Samp...         Tara Publishing   \n",
       "4                             ['David Attenborough']                     NaN   \n",
       "\n",
       "  publishedDate  pageCount                     categories  averageRating  \\\n",
       "0          1997      318.0  ['Biography & Autobiography']            NaN   \n",
       "1    2020-01-02     1072.0                    ['Fiction']            4.5   \n",
       "2    2021-07-29      132.0                            NaN            NaN   \n",
       "3          2004       48.0                        ['Art']            5.0   \n",
       "4          1995      320.0                     ['Botany']            4.0   \n",
       "\n",
       "   ratingsCount language                                        description  \\\n",
       "0           NaN       en                                                NaN   \n",
       "1           5.0       en  'My dear, I don't give a damn.' Margaret Mitch...   \n",
       "2           NaN       hi                                                NaN   \n",
       "3           1.0       en  Bhajju Shyam, of the Gond tribe of central Ind...   \n",
       "4           3.0       en  Without plants, there would be no food, no ani...   \n",
       "\n",
       "                                            synopsis  \n",
       "0                                                NaN  \n",
       "1  'My dear, I don't give a damn.'\\n\\nMargaret Mi...  \n",
       "2                                                NaN  \n",
       "3  “A beautiful book. I would like to give it to ...  \n",
       "4  Without plants, there would be no food, no ani...  "
      ]
     },
     "execution_count": 3,
     "metadata": {},
     "output_type": "execute_result"
    }
   ],
   "source": [
    "data.head()"
   ]
  },
  {
   "cell_type": "code",
   "execution_count": 4,
   "id": "475b47bd",
   "metadata": {
    "execution": {
     "iopub.execute_input": "2022-03-21T11:30:58.011068Z",
     "iopub.status.busy": "2022-03-21T11:30:58.010117Z",
     "iopub.status.idle": "2022-03-21T11:30:58.016311Z",
     "shell.execute_reply": "2022-03-21T11:30:58.015770Z",
     "shell.execute_reply.started": "2022-03-21T11:06:11.543755Z"
    },
    "papermill": {
     "duration": 0.049228,
     "end_time": "2022-03-21T11:30:58.016448",
     "exception": false,
     "start_time": "2022-03-21T11:30:57.967220",
     "status": "completed"
    },
    "tags": []
   },
   "outputs": [
    {
     "data": {
      "text/plain": [
       "Index(['book_id', 'book_name', 'book_description_from_chalchitra', 'authors',\n",
       "       'publisher', 'publishedDate', 'pageCount', 'categories',\n",
       "       'averageRating', 'ratingsCount', 'language', 'description', 'synopsis'],\n",
       "      dtype='object')"
      ]
     },
     "execution_count": 4,
     "metadata": {},
     "output_type": "execute_result"
    }
   ],
   "source": [
    "data.columns"
   ]
  },
  {
   "cell_type": "code",
   "execution_count": 5,
   "id": "584d3e53",
   "metadata": {
    "execution": {
     "iopub.execute_input": "2022-03-21T11:30:58.106064Z",
     "iopub.status.busy": "2022-03-21T11:30:58.105402Z",
     "iopub.status.idle": "2022-03-21T11:30:58.107943Z",
     "shell.execute_reply": "2022-03-21T11:30:58.108427Z",
     "shell.execute_reply.started": "2022-03-21T11:06:11.550202Z"
    },
    "papermill": {
     "duration": 0.052081,
     "end_time": "2022-03-21T11:30:58.108591",
     "exception": false,
     "start_time": "2022-03-21T11:30:58.056510",
     "status": "completed"
    },
    "tags": []
   },
   "outputs": [
    {
     "data": {
      "text/plain": [
       "book_id                               0\n",
       "book_name                             0\n",
       "book_description_from_chalchitra      0\n",
       "authors                              11\n",
       "publisher                            41\n",
       "publishedDate                         8\n",
       "pageCount                            29\n",
       "categories                           25\n",
       "averageRating                       107\n",
       "ratingsCount                        107\n",
       "language                              6\n",
       "description                          38\n",
       "synopsis                             32\n",
       "dtype: int64"
      ]
     },
     "execution_count": 5,
     "metadata": {},
     "output_type": "execute_result"
    }
   ],
   "source": [
    "data.isnull().sum()"
   ]
  },
  {
   "cell_type": "code",
   "execution_count": 6,
   "id": "2b96ca2c",
   "metadata": {
    "execution": {
     "iopub.execute_input": "2022-03-21T11:30:58.193211Z",
     "iopub.status.busy": "2022-03-21T11:30:58.191317Z",
     "iopub.status.idle": "2022-03-21T11:30:58.221697Z",
     "shell.execute_reply": "2022-03-21T11:30:58.222155Z",
     "shell.execute_reply.started": "2022-03-21T11:06:11.568408Z"
    },
    "papermill": {
     "duration": 0.073756,
     "end_time": "2022-03-21T11:30:58.222324",
     "exception": false,
     "start_time": "2022-03-21T11:30:58.148568",
     "status": "completed"
    },
    "tags": []
   },
   "outputs": [
    {
     "data": {
      "text/html": [
       "<div>\n",
       "<style scoped>\n",
       "    .dataframe tbody tr th:only-of-type {\n",
       "        vertical-align: middle;\n",
       "    }\n",
       "\n",
       "    .dataframe tbody tr th {\n",
       "        vertical-align: top;\n",
       "    }\n",
       "\n",
       "    .dataframe thead th {\n",
       "        text-align: right;\n",
       "    }\n",
       "</style>\n",
       "<table border=\"1\" class=\"dataframe\">\n",
       "  <thead>\n",
       "    <tr style=\"text-align: right;\">\n",
       "      <th></th>\n",
       "      <th>book_id</th>\n",
       "      <th>pageCount</th>\n",
       "      <th>averageRating</th>\n",
       "      <th>ratingsCount</th>\n",
       "    </tr>\n",
       "  </thead>\n",
       "  <tbody>\n",
       "    <tr>\n",
       "      <th>count</th>\n",
       "      <td>319.000000</td>\n",
       "      <td>290.000000</td>\n",
       "      <td>212.000000</td>\n",
       "      <td>212.000000</td>\n",
       "    </tr>\n",
       "    <tr>\n",
       "      <th>mean</th>\n",
       "      <td>159.000000</td>\n",
       "      <td>349.417241</td>\n",
       "      <td>3.849057</td>\n",
       "      <td>353.820755</td>\n",
       "    </tr>\n",
       "    <tr>\n",
       "      <th>std</th>\n",
       "      <td>92.231593</td>\n",
       "      <td>205.388808</td>\n",
       "      <td>0.705999</td>\n",
       "      <td>885.116136</td>\n",
       "    </tr>\n",
       "    <tr>\n",
       "      <th>min</th>\n",
       "      <td>0.000000</td>\n",
       "      <td>24.000000</td>\n",
       "      <td>1.000000</td>\n",
       "      <td>1.000000</td>\n",
       "    </tr>\n",
       "    <tr>\n",
       "      <th>25%</th>\n",
       "      <td>79.500000</td>\n",
       "      <td>220.250000</td>\n",
       "      <td>3.500000</td>\n",
       "      <td>4.000000</td>\n",
       "    </tr>\n",
       "    <tr>\n",
       "      <th>50%</th>\n",
       "      <td>159.000000</td>\n",
       "      <td>320.000000</td>\n",
       "      <td>4.000000</td>\n",
       "      <td>22.500000</td>\n",
       "    </tr>\n",
       "    <tr>\n",
       "      <th>75%</th>\n",
       "      <td>238.500000</td>\n",
       "      <td>432.000000</td>\n",
       "      <td>4.000000</td>\n",
       "      <td>116.000000</td>\n",
       "    </tr>\n",
       "    <tr>\n",
       "      <th>max</th>\n",
       "      <td>318.000000</td>\n",
       "      <td>1368.000000</td>\n",
       "      <td>5.000000</td>\n",
       "      <td>3972.000000</td>\n",
       "    </tr>\n",
       "  </tbody>\n",
       "</table>\n",
       "</div>"
      ],
      "text/plain": [
       "          book_id    pageCount  averageRating  ratingsCount\n",
       "count  319.000000   290.000000     212.000000    212.000000\n",
       "mean   159.000000   349.417241       3.849057    353.820755\n",
       "std     92.231593   205.388808       0.705999    885.116136\n",
       "min      0.000000    24.000000       1.000000      1.000000\n",
       "25%     79.500000   220.250000       3.500000      4.000000\n",
       "50%    159.000000   320.000000       4.000000     22.500000\n",
       "75%    238.500000   432.000000       4.000000    116.000000\n",
       "max    318.000000  1368.000000       5.000000   3972.000000"
      ]
     },
     "execution_count": 6,
     "metadata": {},
     "output_type": "execute_result"
    }
   ],
   "source": [
    "data.describe()"
   ]
  },
  {
   "cell_type": "code",
   "execution_count": 7,
   "id": "c7b1b27e",
   "metadata": {
    "execution": {
     "iopub.execute_input": "2022-03-21T11:30:58.308485Z",
     "iopub.status.busy": "2022-03-21T11:30:58.307553Z",
     "iopub.status.idle": "2022-03-21T11:30:58.313323Z",
     "shell.execute_reply": "2022-03-21T11:30:58.313784Z",
     "shell.execute_reply.started": "2022-03-21T11:06:11.600861Z"
    },
    "papermill": {
     "duration": 0.050718,
     "end_time": "2022-03-21T11:30:58.313986",
     "exception": false,
     "start_time": "2022-03-21T11:30:58.263268",
     "status": "completed"
    },
    "tags": []
   },
   "outputs": [
    {
     "data": {
      "text/plain": [
       "107"
      ]
     },
     "execution_count": 7,
     "metadata": {},
     "output_type": "execute_result"
    }
   ],
   "source": [
    "data['averageRating'].isnull().sum()"
   ]
  },
  {
   "cell_type": "code",
   "execution_count": 8,
   "id": "2881f438",
   "metadata": {
    "execution": {
     "iopub.execute_input": "2022-03-21T11:30:58.402636Z",
     "iopub.status.busy": "2022-03-21T11:30:58.402036Z",
     "iopub.status.idle": "2022-03-21T11:30:58.404099Z",
     "shell.execute_reply": "2022-03-21T11:30:58.403468Z",
     "shell.execute_reply.started": "2022-03-21T11:06:11.608212Z"
    },
    "papermill": {
     "duration": 0.049098,
     "end_time": "2022-03-21T11:30:58.404227",
     "exception": false,
     "start_time": "2022-03-21T11:30:58.355129",
     "status": "completed"
    },
    "tags": []
   },
   "outputs": [],
   "source": [
    "data['averageRating'] = data['averageRating'].fillna(0)"
   ]
  },
  {
   "cell_type": "code",
   "execution_count": 9,
   "id": "5eda215d",
   "metadata": {
    "execution": {
     "iopub.execute_input": "2022-03-21T11:30:58.491534Z",
     "iopub.status.busy": "2022-03-21T11:30:58.490921Z",
     "iopub.status.idle": "2022-03-21T11:30:58.494597Z",
     "shell.execute_reply": "2022-03-21T11:30:58.495206Z",
     "shell.execute_reply.started": "2022-03-21T11:06:11.621077Z"
    },
    "papermill": {
     "duration": 0.049191,
     "end_time": "2022-03-21T11:30:58.495364",
     "exception": false,
     "start_time": "2022-03-21T11:30:58.446173",
     "status": "completed"
    },
    "tags": []
   },
   "outputs": [],
   "source": [
    "data['ratingsCount'] = data['ratingsCount'].fillna(0)"
   ]
  },
  {
   "cell_type": "code",
   "execution_count": 10,
   "id": "b8565046",
   "metadata": {
    "execution": {
     "iopub.execute_input": "2022-03-21T11:30:58.586482Z",
     "iopub.status.busy": "2022-03-21T11:30:58.585751Z",
     "iopub.status.idle": "2022-03-21T11:30:58.589198Z",
     "shell.execute_reply": "2022-03-21T11:30:58.589645Z",
     "shell.execute_reply.started": "2022-03-21T11:06:11.630248Z"
    },
    "papermill": {
     "duration": 0.053044,
     "end_time": "2022-03-21T11:30:58.589793",
     "exception": false,
     "start_time": "2022-03-21T11:30:58.536749",
     "status": "completed"
    },
    "tags": []
   },
   "outputs": [
    {
     "data": {
      "text/plain": [
       "book_id                              0\n",
       "book_name                            0\n",
       "book_description_from_chalchitra     0\n",
       "authors                             11\n",
       "publisher                           41\n",
       "publishedDate                        8\n",
       "pageCount                           29\n",
       "categories                          25\n",
       "averageRating                        0\n",
       "ratingsCount                         0\n",
       "language                             6\n",
       "description                         38\n",
       "synopsis                            32\n",
       "dtype: int64"
      ]
     },
     "execution_count": 10,
     "metadata": {},
     "output_type": "execute_result"
    }
   ],
   "source": [
    "data.isnull().sum()"
   ]
  },
  {
   "cell_type": "code",
   "execution_count": 11,
   "id": "9028766b",
   "metadata": {
    "execution": {
     "iopub.execute_input": "2022-03-21T11:30:58.681975Z",
     "iopub.status.busy": "2022-03-21T11:30:58.679537Z",
     "iopub.status.idle": "2022-03-21T11:30:58.696942Z",
     "shell.execute_reply": "2022-03-21T11:30:58.697541Z",
     "shell.execute_reply.started": "2022-03-21T11:06:11.644100Z"
    },
    "papermill": {
     "duration": 0.066077,
     "end_time": "2022-03-21T11:30:58.697722",
     "exception": false,
     "start_time": "2022-03-21T11:30:58.631645",
     "status": "completed"
    },
    "tags": []
   },
   "outputs": [
    {
     "data": {
      "text/html": [
       "<div>\n",
       "<style scoped>\n",
       "    .dataframe tbody tr th:only-of-type {\n",
       "        vertical-align: middle;\n",
       "    }\n",
       "\n",
       "    .dataframe tbody tr th {\n",
       "        vertical-align: top;\n",
       "    }\n",
       "\n",
       "    .dataframe thead th {\n",
       "        text-align: right;\n",
       "    }\n",
       "</style>\n",
       "<table border=\"1\" class=\"dataframe\">\n",
       "  <thead>\n",
       "    <tr style=\"text-align: right;\">\n",
       "      <th></th>\n",
       "      <th>book_id</th>\n",
       "      <th>pageCount</th>\n",
       "      <th>averageRating</th>\n",
       "      <th>ratingsCount</th>\n",
       "    </tr>\n",
       "  </thead>\n",
       "  <tbody>\n",
       "    <tr>\n",
       "      <th>count</th>\n",
       "      <td>319.000000</td>\n",
       "      <td>290.000000</td>\n",
       "      <td>319.000000</td>\n",
       "      <td>319.000000</td>\n",
       "    </tr>\n",
       "    <tr>\n",
       "      <th>mean</th>\n",
       "      <td>159.000000</td>\n",
       "      <td>349.417241</td>\n",
       "      <td>2.557994</td>\n",
       "      <td>235.141066</td>\n",
       "    </tr>\n",
       "    <tr>\n",
       "      <th>std</th>\n",
       "      <td>92.231593</td>\n",
       "      <td>205.388808</td>\n",
       "      <td>1.908832</td>\n",
       "      <td>740.147050</td>\n",
       "    </tr>\n",
       "    <tr>\n",
       "      <th>min</th>\n",
       "      <td>0.000000</td>\n",
       "      <td>24.000000</td>\n",
       "      <td>0.000000</td>\n",
       "      <td>0.000000</td>\n",
       "    </tr>\n",
       "    <tr>\n",
       "      <th>25%</th>\n",
       "      <td>79.500000</td>\n",
       "      <td>220.250000</td>\n",
       "      <td>0.000000</td>\n",
       "      <td>0.000000</td>\n",
       "    </tr>\n",
       "    <tr>\n",
       "      <th>50%</th>\n",
       "      <td>159.000000</td>\n",
       "      <td>320.000000</td>\n",
       "      <td>3.500000</td>\n",
       "      <td>4.000000</td>\n",
       "    </tr>\n",
       "    <tr>\n",
       "      <th>75%</th>\n",
       "      <td>238.500000</td>\n",
       "      <td>432.000000</td>\n",
       "      <td>4.000000</td>\n",
       "      <td>48.500000</td>\n",
       "    </tr>\n",
       "    <tr>\n",
       "      <th>max</th>\n",
       "      <td>318.000000</td>\n",
       "      <td>1368.000000</td>\n",
       "      <td>5.000000</td>\n",
       "      <td>3972.000000</td>\n",
       "    </tr>\n",
       "  </tbody>\n",
       "</table>\n",
       "</div>"
      ],
      "text/plain": [
       "          book_id    pageCount  averageRating  ratingsCount\n",
       "count  319.000000   290.000000     319.000000    319.000000\n",
       "mean   159.000000   349.417241       2.557994    235.141066\n",
       "std     92.231593   205.388808       1.908832    740.147050\n",
       "min      0.000000    24.000000       0.000000      0.000000\n",
       "25%     79.500000   220.250000       0.000000      0.000000\n",
       "50%    159.000000   320.000000       3.500000      4.000000\n",
       "75%    238.500000   432.000000       4.000000     48.500000\n",
       "max    318.000000  1368.000000       5.000000   3972.000000"
      ]
     },
     "execution_count": 11,
     "metadata": {},
     "output_type": "execute_result"
    }
   ],
   "source": [
    "data.describe()"
   ]
  },
  {
   "cell_type": "code",
   "execution_count": 12,
   "id": "9f85fd73",
   "metadata": {
    "execution": {
     "iopub.execute_input": "2022-03-21T11:30:58.785950Z",
     "iopub.status.busy": "2022-03-21T11:30:58.785347Z",
     "iopub.status.idle": "2022-03-21T11:30:58.790670Z",
     "shell.execute_reply": "2022-03-21T11:30:58.790172Z",
     "shell.execute_reply.started": "2022-03-21T11:06:11.671762Z"
    },
    "papermill": {
     "duration": 0.050207,
     "end_time": "2022-03-21T11:30:58.790793",
     "exception": false,
     "start_time": "2022-03-21T11:30:58.740586",
     "status": "completed"
    },
    "tags": []
   },
   "outputs": [],
   "source": [
    "data['ratingsCount'] = data['ratingsCount'].astype(int)"
   ]
  },
  {
   "cell_type": "code",
   "execution_count": 13,
   "id": "7a7e1a1e",
   "metadata": {
    "execution": {
     "iopub.execute_input": "2022-03-21T11:30:58.882626Z",
     "iopub.status.busy": "2022-03-21T11:30:58.881954Z",
     "iopub.status.idle": "2022-03-21T11:30:58.884440Z",
     "shell.execute_reply": "2022-03-21T11:30:58.884973Z",
     "shell.execute_reply.started": "2022-03-21T11:06:11.676830Z"
    },
    "papermill": {
     "duration": 0.052321,
     "end_time": "2022-03-21T11:30:58.885150",
     "exception": false,
     "start_time": "2022-03-21T11:30:58.832829",
     "status": "completed"
    },
    "tags": []
   },
   "outputs": [
    {
     "data": {
      "text/plain": [
       "array([   0,    5,    1,    3,   48,  440,   31,   47,  330,   27, 1588,\n",
       "       1140,   67,  105,    8, 1006,   69,   26,   18,  196,   29,    2,\n",
       "         13, 2795,   78,   72,   10,   54,   49,   12, 3539,  262,    4,\n",
       "        114, 1831,   24,   14,   37,  171,   23, 3591,  520,    9,   21,\n",
       "       3211, 2230, 2838,   56,  950,   16,  122,  190,  227,   70,   80,\n",
       "         91,  238, 3317,  124,  133,   35, 3307,   89,   33,    7,  104,\n",
       "         17,  528,    6,   81, 3039,  151,  145,   36,   76, 3972,   15,\n",
       "         34,   39,   79,  134,   46,  228,  221,   32,   61,   28, 2650,\n",
       "       3476,  191, 2391,  319,  618,   45,   22,  590, 3388, 1484,  283,\n",
       "         50, 3458,   41,  359, 1665,  102,  175,  508, 3898,   93])"
      ]
     },
     "execution_count": 13,
     "metadata": {},
     "output_type": "execute_result"
    }
   ],
   "source": [
    "data['ratingsCount'].unique()"
   ]
  },
  {
   "cell_type": "code",
   "execution_count": 14,
   "id": "d6b5d740",
   "metadata": {
    "execution": {
     "iopub.execute_input": "2022-03-21T11:30:58.976512Z",
     "iopub.status.busy": "2022-03-21T11:30:58.975914Z",
     "iopub.status.idle": "2022-03-21T11:30:58.978804Z",
     "shell.execute_reply": "2022-03-21T11:30:58.978332Z",
     "shell.execute_reply.started": "2022-03-21T11:06:11.690703Z"
    },
    "papermill": {
     "duration": 0.050962,
     "end_time": "2022-03-21T11:30:58.978987",
     "exception": false,
     "start_time": "2022-03-21T11:30:58.928025",
     "status": "completed"
    },
    "tags": []
   },
   "outputs": [],
   "source": [
    "top100 = data[data['ratingsCount'] > 100]"
   ]
  },
  {
   "cell_type": "code",
   "execution_count": 15,
   "id": "6762c8e4",
   "metadata": {
    "execution": {
     "iopub.execute_input": "2022-03-21T11:30:59.072217Z",
     "iopub.status.busy": "2022-03-21T11:30:59.071220Z",
     "iopub.status.idle": "2022-03-21T11:30:59.073190Z",
     "shell.execute_reply": "2022-03-21T11:30:59.073767Z",
     "shell.execute_reply.started": "2022-03-21T11:06:11.701916Z"
    },
    "papermill": {
     "duration": 0.052405,
     "end_time": "2022-03-21T11:30:59.073974",
     "exception": false,
     "start_time": "2022-03-21T11:30:59.021569",
     "status": "completed"
    },
    "tags": []
   },
   "outputs": [],
   "source": [
    "top = top100.sort_values(by='averageRating',ascending = False).head(10)"
   ]
  },
  {
   "cell_type": "code",
   "execution_count": 16,
   "id": "bca66c96",
   "metadata": {
    "execution": {
     "iopub.execute_input": "2022-03-21T11:30:59.164174Z",
     "iopub.status.busy": "2022-03-21T11:30:59.163207Z",
     "iopub.status.idle": "2022-03-21T11:30:59.397464Z",
     "shell.execute_reply": "2022-03-21T11:30:59.398014Z",
     "shell.execute_reply.started": "2022-03-21T11:06:11.712793Z"
    },
    "papermill": {
     "duration": 0.280876,
     "end_time": "2022-03-21T11:30:59.398180",
     "exception": false,
     "start_time": "2022-03-21T11:30:59.117304",
     "status": "completed"
    },
    "tags": []
   },
   "outputs": [
    {
     "data": {
      "text/plain": [
       "<AxesSubplot:xlabel='averageRating', ylabel='book_name'>"
      ]
     },
     "execution_count": 16,
     "metadata": {},
     "output_type": "execute_result"
    },
    {
     "data": {
      "image/png": "[encoded data removed]",
      "text/plain": [
       "<Figure size 432x288 with 1 Axes>"
      ]
     },
     "metadata": {
      "needs_background": "light"
     },
     "output_type": "display_data"
    }
   ],
   "source": [
    "fig = plt.Figure(figsize=(15,9))\n",
    "sns.barplot(x ='averageRating',y='book_name',data=top,palette = 'inferno')"
   ]
  },
  {
   "cell_type": "code",
   "execution_count": 17,
   "id": "61049c3a",
   "metadata": {
    "execution": {
     "iopub.execute_input": "2022-03-21T11:30:59.496816Z",
     "iopub.status.busy": "2022-03-21T11:30:59.496179Z",
     "iopub.status.idle": "2022-03-21T11:30:59.497984Z",
     "shell.execute_reply": "2022-03-21T11:30:59.498457Z",
     "shell.execute_reply.started": "2022-03-21T11:06:11.998190Z"
    },
    "papermill": {
     "duration": 0.055368,
     "end_time": "2022-03-21T11:30:59.498611",
     "exception": false,
     "start_time": "2022-03-21T11:30:59.443243",
     "status": "completed"
    },
    "tags": []
   },
   "outputs": [],
   "source": [
    "topauthor = data.groupby('authors')['book_name'].count().reset_index().sort_values('book_name',ascending = False).head(10)"
   ]
  },
  {
   "cell_type": "code",
   "execution_count": 18,
   "id": "1b2ff219",
   "metadata": {
    "execution": {
     "iopub.execute_input": "2022-03-21T11:30:59.590266Z",
     "iopub.status.busy": "2022-03-21T11:30:59.589688Z",
     "iopub.status.idle": "2022-03-21T11:30:59.786125Z",
     "shell.execute_reply": "2022-03-21T11:30:59.785596Z",
     "shell.execute_reply.started": "2022-03-21T11:06:12.008410Z"
    },
    "papermill": {
     "duration": 0.243104,
     "end_time": "2022-03-21T11:30:59.786255",
     "exception": false,
     "start_time": "2022-03-21T11:30:59.543151",
     "status": "completed"
    },
    "tags": []
   },
   "outputs": [
    {
     "data": {
      "text/plain": [
       "<AxesSubplot:xlabel='book_name', ylabel='authors'>"
      ]
     },
     "execution_count": 18,
     "metadata": {},
     "output_type": "execute_result"
    },
    {
     "data": {
      "image/png": "[encoded data removed]",
      "text/plain": [
       "<Figure size 432x288 with 1 Axes>"
      ]
     },
     "metadata": {
      "needs_background": "light"
     },
     "output_type": "display_data"
    }
   ],
   "source": [
    "fig = plt.Figure(figsize=(16,8))\n",
    "sns.barplot(x='book_name',y='authors',data=topauthor,palette = 'inferno')"
   ]
  },
  {
   "cell_type": "code",
   "execution_count": 19,
   "id": "e5d8e023",
   "metadata": {
    "execution": {
     "iopub.execute_input": "2022-03-21T11:30:59.883452Z",
     "iopub.status.busy": "2022-03-21T11:30:59.882872Z",
     "iopub.status.idle": "2022-03-21T11:30:59.886683Z",
     "shell.execute_reply": "2022-03-21T11:30:59.887312Z",
     "shell.execute_reply.started": "2022-03-21T11:06:12.259287Z"
    },
    "papermill": {
     "duration": 0.054875,
     "end_time": "2022-03-21T11:30:59.887478",
     "exception": false,
     "start_time": "2022-03-21T11:30:59.832603",
     "status": "completed"
    },
    "tags": []
   },
   "outputs": [],
   "source": [
    "data.averageRating = data.averageRating.astype(float)"
   ]
  },
  {
   "cell_type": "code",
   "execution_count": 20,
   "id": "275c8302",
   "metadata": {
    "execution": {
     "iopub.execute_input": "2022-03-21T11:30:59.981900Z",
     "iopub.status.busy": "2022-03-21T11:30:59.980728Z",
     "iopub.status.idle": "2022-03-21T11:31:00.209217Z",
     "shell.execute_reply": "2022-03-21T11:31:00.208648Z",
     "shell.execute_reply.started": "2022-03-21T11:06:12.265842Z"
    },
    "papermill": {
     "duration": 0.276653,
     "end_time": "2022-03-21T11:31:00.209377",
     "exception": false,
     "start_time": "2022-03-21T11:30:59.932724",
     "status": "completed"
    },
    "tags": []
   },
   "outputs": [
    {
     "name": "stderr",
     "output_type": "stream",
     "text": [
      "/opt/conda/lib/python3.7/site-packages/seaborn/distributions.py:2619: FutureWarning: `distplot` is a deprecated function and will be removed in a future version. Please adapt your code to use either `displot` (a figure-level function with similar flexibility) or `histplot` (an axes-level function for histograms).\n",
      "  warnings.warn(msg, FutureWarning)\n"
     ]
    },
    {
     "data": {
      "text/plain": [
       "Text(0.5, 1.0, 'Average Rating distription for all books')"
      ]
     },
     "execution_count": 20,
     "metadata": {},
     "output_type": "execute_result"
    },
    {
     "data": {
      "image/png": "[encoded data removed]",
      "text/plain": [
       "<Figure size 1080x720 with 1 Axes>"
      ]
     },
     "metadata": {
      "needs_background": "light"
     },
     "output_type": "display_data"
    }
   ],
   "source": [
    "fig,ax = plt.subplots(figsize=(15,10))\n",
    "sns.distplot(data['averageRating'],ax=ax)\n",
    "ax.set_title('Average Rating distription for all books',fontsize=20)"
   ]
  },
  {
   "cell_type": "code",
   "execution_count": 21,
   "id": "f892eada",
   "metadata": {
    "execution": {
     "iopub.execute_input": "2022-03-21T11:31:00.348163Z",
     "iopub.status.busy": "2022-03-21T11:31:00.333211Z",
     "iopub.status.idle": "2022-03-21T11:31:00.606209Z",
     "shell.execute_reply": "2022-03-21T11:31:00.606660Z",
     "shell.execute_reply.started": "2022-03-21T11:06:12.540899Z"
    },
    "papermill": {
     "duration": 0.349539,
     "end_time": "2022-03-21T11:31:00.606859",
     "exception": false,
     "start_time": "2022-03-21T11:31:00.257320",
     "status": "completed"
    },
    "tags": []
   },
   "outputs": [
    {
     "data": {
      "text/plain": [
       "Text(0.5, 1.0, 'Reletion between rating counts and avarage rating')"
      ]
     },
     "execution_count": 21,
     "metadata": {},
     "output_type": "execute_result"
    },
    {
     "data": {
      "image/png": "[encoded data removed]",
      "text/plain": [
       "<Figure size 360x360 with 1 Axes>"
      ]
     },
     "metadata": {
      "needs_background": "light"
     },
     "output_type": "display_data"
    }
   ],
   "source": [
    "ax = sns.relplot(data=data,x = 'averageRating',y='ratingsCount',color ='red',marker = 'o')\n",
    "plt.title('Reletion between rating counts and avarage rating',fontsize=20)"
   ]
  },
  {
   "cell_type": "code",
   "execution_count": 22,
   "id": "10752567",
   "metadata": {
    "execution": {
     "iopub.execute_input": "2022-03-21T11:31:00.708818Z",
     "iopub.status.busy": "2022-03-21T11:31:00.708248Z",
     "iopub.status.idle": "2022-03-21T11:31:01.012417Z",
     "shell.execute_reply": "2022-03-21T11:31:01.011810Z",
     "shell.execute_reply.started": "2022-03-21T11:06:12.870665Z"
    },
    "papermill": {
     "duration": 0.356265,
     "end_time": "2022-03-21T11:31:01.012550",
     "exception": false,
     "start_time": "2022-03-21T11:31:00.656285",
     "status": "completed"
    },
    "tags": []
   },
   "outputs": [
    {
     "data": {
      "text/plain": [
       "Text(0.5, 1.0, 'Reletion between avaragerating and pagecount')"
      ]
     },
     "execution_count": 22,
     "metadata": {},
     "output_type": "execute_result"
    },
    {
     "data": {
      "image/png": "[encoded data removed]",
      "text/plain": [
       "<Figure size 360x360 with 1 Axes>"
      ]
     },
     "metadata": {
      "needs_background": "light"
     },
     "output_type": "display_data"
    }
   ],
   "source": [
    "ax = sns.relplot(x = 'averageRating',y='pageCount',data=data,color='red',marker = '*')\n",
    "plt.title('Reletion between avaragerating and pagecount',fontsize=20)"
   ]
  },
  {
   "cell_type": "code",
   "execution_count": 23,
   "id": "cf79e94d",
   "metadata": {
    "execution": {
     "iopub.execute_input": "2022-03-21T11:31:01.122109Z",
     "iopub.status.busy": "2022-03-21T11:31:01.121445Z",
     "iopub.status.idle": "2022-03-21T11:31:01.123988Z",
     "shell.execute_reply": "2022-03-21T11:31:01.123467Z",
     "shell.execute_reply.started": "2022-03-21T11:06:13.180675Z"
    },
    "papermill": {
     "duration": 0.059254,
     "end_time": "2022-03-21T11:31:01.124196",
     "exception": false,
     "start_time": "2022-03-21T11:31:01.064942",
     "status": "completed"
    },
    "tags": []
   },
   "outputs": [],
   "source": [
    "df = data.copy()"
   ]
  },
  {
   "cell_type": "code",
   "execution_count": 24,
   "id": "be47251c",
   "metadata": {
    "execution": {
     "iopub.execute_input": "2022-03-21T11:31:01.254320Z",
     "iopub.status.busy": "2022-03-21T11:31:01.253286Z",
     "iopub.status.idle": "2022-03-21T11:31:01.257190Z",
     "shell.execute_reply": "2022-03-21T11:31:01.257665Z",
     "shell.execute_reply.started": "2022-03-21T11:06:13.187286Z"
    },
    "papermill": {
     "duration": 0.081816,
     "end_time": "2022-03-21T11:31:01.257823",
     "exception": false,
     "start_time": "2022-03-21T11:31:01.176007",
     "status": "completed"
    },
    "tags": []
   },
   "outputs": [
    {
     "data": {
      "text/html": [
       "<div>\n",
       "<style scoped>\n",
       "    .dataframe tbody tr th:only-of-type {\n",
       "        vertical-align: middle;\n",
       "    }\n",
       "\n",
       "    .dataframe tbody tr th {\n",
       "        vertical-align: top;\n",
       "    }\n",
       "\n",
       "    .dataframe thead th {\n",
       "        text-align: right;\n",
       "    }\n",
       "</style>\n",
       "<table border=\"1\" class=\"dataframe\">\n",
       "  <thead>\n",
       "    <tr style=\"text-align: right;\">\n",
       "      <th></th>\n",
       "      <th>book_id</th>\n",
       "      <th>book_name</th>\n",
       "      <th>book_description_from_chalchitra</th>\n",
       "      <th>authors</th>\n",
       "      <th>publisher</th>\n",
       "      <th>publishedDate</th>\n",
       "      <th>pageCount</th>\n",
       "      <th>categories</th>\n",
       "      <th>averageRating</th>\n",
       "      <th>ratingsCount</th>\n",
       "      <th>language</th>\n",
       "      <th>description</th>\n",
       "      <th>synopsis</th>\n",
       "    </tr>\n",
       "  </thead>\n",
       "  <tbody>\n",
       "    <tr>\n",
       "      <th>0</th>\n",
       "      <td>0</td>\n",
       "      <td>Charles Laughton: A Difficult Actor</td>\n",
       "      <td>This is the fullest biography yet on the actor...</td>\n",
       "      <td>['Simon Callow']</td>\n",
       "      <td>Fromm International</td>\n",
       "      <td>1997</td>\n",
       "      <td>318.0</td>\n",
       "      <td>['Biography &amp; Autobiography']</td>\n",
       "      <td>0.0</td>\n",
       "      <td>0</td>\n",
       "      <td>en</td>\n",
       "      <td>NaN</td>\n",
       "      <td>NaN</td>\n",
       "    </tr>\n",
       "    <tr>\n",
       "      <th>1</th>\n",
       "      <td>1</td>\n",
       "      <td>Gone with the Wind</td>\n",
       "      <td>A historical novel by Margaret Mitchell.</td>\n",
       "      <td>['Margaret Mitchell']</td>\n",
       "      <td>Random House</td>\n",
       "      <td>2020-01-02</td>\n",
       "      <td>1072.0</td>\n",
       "      <td>['Fiction']</td>\n",
       "      <td>4.5</td>\n",
       "      <td>5</td>\n",
       "      <td>en</td>\n",
       "      <td>'My dear, I don't give a damn.' Margaret Mitch...</td>\n",
       "      <td>'My dear, I don't give a damn.'\\n\\nMargaret Mi...</td>\n",
       "    </tr>\n",
       "    <tr>\n",
       "      <th>2</th>\n",
       "      <td>2</td>\n",
       "      <td>Hayvadan</td>\n",
       "      <td>It is based on Kathasaritsagara and Thomas Man...</td>\n",
       "      <td>['Girish Karnad']</td>\n",
       "      <td>Radhakrishna Prakashan</td>\n",
       "      <td>2021-07-29</td>\n",
       "      <td>132.0</td>\n",
       "      <td>NaN</td>\n",
       "      <td>0.0</td>\n",
       "      <td>0</td>\n",
       "      <td>hi</td>\n",
       "      <td>NaN</td>\n",
       "      <td>NaN</td>\n",
       "    </tr>\n",
       "    <tr>\n",
       "      <th>3</th>\n",
       "      <td>3</td>\n",
       "      <td>The London Jungle Book</td>\n",
       "      <td>A visual travelogue by Bhajju Shyam</td>\n",
       "      <td>['Bhajju Shyam', 'Sirish Rao', 'Gita Wolf-Samp...</td>\n",
       "      <td>Tara Publishing</td>\n",
       "      <td>2004</td>\n",
       "      <td>48.0</td>\n",
       "      <td>['Art']</td>\n",
       "      <td>5.0</td>\n",
       "      <td>1</td>\n",
       "      <td>en</td>\n",
       "      <td>Bhajju Shyam, of the Gond tribe of central Ind...</td>\n",
       "      <td>“A beautiful book. I would like to give it to ...</td>\n",
       "    </tr>\n",
       "    <tr>\n",
       "      <th>4</th>\n",
       "      <td>4</td>\n",
       "      <td>The Private Life of Plants</td>\n",
       "      <td>This book reveals hidden events and phenomena ...</td>\n",
       "      <td>['David Attenborough']</td>\n",
       "      <td>NaN</td>\n",
       "      <td>1995</td>\n",
       "      <td>320.0</td>\n",
       "      <td>['Botany']</td>\n",
       "      <td>4.0</td>\n",
       "      <td>3</td>\n",
       "      <td>en</td>\n",
       "      <td>Without plants, there would be no food, no ani...</td>\n",
       "      <td>Without plants, there would be no food, no ani...</td>\n",
       "    </tr>\n",
       "    <tr>\n",
       "      <th>...</th>\n",
       "      <td>...</td>\n",
       "      <td>...</td>\n",
       "      <td>...</td>\n",
       "      <td>...</td>\n",
       "      <td>...</td>\n",
       "      <td>...</td>\n",
       "      <td>...</td>\n",
       "      <td>...</td>\n",
       "      <td>...</td>\n",
       "      <td>...</td>\n",
       "      <td>...</td>\n",
       "      <td>...</td>\n",
       "      <td>...</td>\n",
       "    </tr>\n",
       "    <tr>\n",
       "      <th>314</th>\n",
       "      <td>314</td>\n",
       "      <td>Anathem</td>\n",
       "      <td>It is a science fiction novel by American writ...</td>\n",
       "      <td>['Neal Stephenson']</td>\n",
       "      <td>Harper Collins</td>\n",
       "      <td>2009-08-25</td>\n",
       "      <td>1008.0</td>\n",
       "      <td>['Fiction']</td>\n",
       "      <td>4.0</td>\n",
       "      <td>175</td>\n",
       "      <td>en</td>\n",
       "      <td>For ten years Fraa Erasmas, a young avout, has...</td>\n",
       "      <td>For ten years Fraa Erasmas, a young avout, ha...</td>\n",
       "    </tr>\n",
       "    <tr>\n",
       "      <th>315</th>\n",
       "      <td>315</td>\n",
       "      <td>Cloud Atlas</td>\n",
       "      <td>It is a work combining metafiction, historical...</td>\n",
       "      <td>['David Mitchell']</td>\n",
       "      <td>Vintage Canada</td>\n",
       "      <td>2010-07-16</td>\n",
       "      <td>528.0</td>\n",
       "      <td>['Fiction']</td>\n",
       "      <td>4.0</td>\n",
       "      <td>508</td>\n",
       "      <td>en</td>\n",
       "      <td>By the New York Times bestselling author of Th...</td>\n",
       "      <td>By the New York Times bestselling author of Th...</td>\n",
       "    </tr>\n",
       "    <tr>\n",
       "      <th>316</th>\n",
       "      <td>316</td>\n",
       "      <td>Watchmen</td>\n",
       "      <td>It is an American comic book maxiseries by Ala...</td>\n",
       "      <td>['Alan Moore', 'Dave Gibbons', 'John Higgins']</td>\n",
       "      <td>Dc Comics</td>\n",
       "      <td>1987</td>\n",
       "      <td>413.0</td>\n",
       "      <td>['Comics &amp; Graphic Novels']</td>\n",
       "      <td>4.0</td>\n",
       "      <td>3898</td>\n",
       "      <td>en</td>\n",
       "      <td>As former members of a disbanded group of supe...</td>\n",
       "      <td>\"Following two generations of masked superhero...</td>\n",
       "    </tr>\n",
       "    <tr>\n",
       "      <th>317</th>\n",
       "      <td>317</td>\n",
       "      <td>Matterhorn</td>\n",
       "      <td>An incredible publishing story written over th...</td>\n",
       "      <td>['Karl Marlantes']</td>\n",
       "      <td>Grove/Atlantic, Inc.</td>\n",
       "      <td>2010-04-01</td>\n",
       "      <td>592.0</td>\n",
       "      <td>['Fiction']</td>\n",
       "      <td>4.5</td>\n",
       "      <td>93</td>\n",
       "      <td>en</td>\n",
       "      <td>Intense, powerful, and compelling, Matterhorn ...</td>\n",
       "      <td>Intense, powerful, and compelling, Matterhorn ...</td>\n",
       "    </tr>\n",
       "    <tr>\n",
       "      <th>318</th>\n",
       "      <td>318</td>\n",
       "      <td>The Ascent of Money</td>\n",
       "      <td>It takes us on a historical adventure through ...</td>\n",
       "      <td>['Niall Ferguson']</td>\n",
       "      <td>Penguin</td>\n",
       "      <td>2008-11-13</td>\n",
       "      <td>496.0</td>\n",
       "      <td>['History']</td>\n",
       "      <td>4.5</td>\n",
       "      <td>5</td>\n",
       "      <td>en</td>\n",
       "      <td>The 10th anniversary edition, with new chapter...</td>\n",
       "      <td>The 10th anniversary edition, with new chapter...</td>\n",
       "    </tr>\n",
       "  </tbody>\n",
       "</table>\n",
       "<p>319 rows × 13 columns</p>\n",
       "</div>"
      ],
      "text/plain": [
       "     book_id                            book_name  \\\n",
       "0          0  Charles Laughton: A Difficult Actor   \n",
       "1          1                   Gone with the Wind   \n",
       "2          2                             Hayvadan   \n",
       "3          3               The London Jungle Book   \n",
       "4          4           The Private Life of Plants   \n",
       "..       ...                                  ...   \n",
       "314      314                              Anathem   \n",
       "315      315                          Cloud Atlas   \n",
       "316      316                             Watchmen   \n",
       "317      317                           Matterhorn   \n",
       "318      318                  The Ascent of Money   \n",
       "\n",
       "                      book_description_from_chalchitra  \\\n",
       "0    This is the fullest biography yet on the actor...   \n",
       "1             A historical novel by Margaret Mitchell.   \n",
       "2    It is based on Kathasaritsagara and Thomas Man...   \n",
       "3                  A visual travelogue by Bhajju Shyam   \n",
       "4    This book reveals hidden events and phenomena ...   \n",
       "..                                                 ...   \n",
       "314  It is a science fiction novel by American writ...   \n",
       "315  It is a work combining metafiction, historical...   \n",
       "316  It is an American comic book maxiseries by Ala...   \n",
       "317  An incredible publishing story written over th...   \n",
       "318  It takes us on a historical adventure through ...   \n",
       "\n",
       "                                               authors  \\\n",
       "0                                     ['Simon Callow']   \n",
       "1                                ['Margaret Mitchell']   \n",
       "2                                    ['Girish Karnad']   \n",
       "3    ['Bhajju Shyam', 'Sirish Rao', 'Gita Wolf-Samp...   \n",
       "4                               ['David Attenborough']   \n",
       "..                                                 ...   \n",
       "314                                ['Neal Stephenson']   \n",
       "315                                 ['David Mitchell']   \n",
       "316     ['Alan Moore', 'Dave Gibbons', 'John Higgins']   \n",
       "317                                 ['Karl Marlantes']   \n",
       "318                                 ['Niall Ferguson']   \n",
       "\n",
       "                  publisher publishedDate  pageCount  \\\n",
       "0       Fromm International          1997      318.0   \n",
       "1              Random House    2020-01-02     1072.0   \n",
       "2    Radhakrishna Prakashan    2021-07-29      132.0   \n",
       "3           Tara Publishing          2004       48.0   \n",
       "4                       NaN          1995      320.0   \n",
       "..                      ...           ...        ...   \n",
       "314          Harper Collins    2009-08-25     1008.0   \n",
       "315          Vintage Canada    2010-07-16      528.0   \n",
       "316               Dc Comics          1987      413.0   \n",
       "317    Grove/Atlantic, Inc.    2010-04-01      592.0   \n",
       "318                 Penguin    2008-11-13      496.0   \n",
       "\n",
       "                        categories  averageRating  ratingsCount language  \\\n",
       "0    ['Biography & Autobiography']            0.0             0       en   \n",
       "1                      ['Fiction']            4.5             5       en   \n",
       "2                              NaN            0.0             0       hi   \n",
       "3                          ['Art']            5.0             1       en   \n",
       "4                       ['Botany']            4.0             3       en   \n",
       "..                             ...            ...           ...      ...   \n",
       "314                    ['Fiction']            4.0           175       en   \n",
       "315                    ['Fiction']            4.0           508       en   \n",
       "316    ['Comics & Graphic Novels']            4.0          3898       en   \n",
       "317                    ['Fiction']            4.5            93       en   \n",
       "318                    ['History']            4.5             5       en   \n",
       "\n",
       "                                           description  \\\n",
       "0                                                  NaN   \n",
       "1    'My dear, I don't give a damn.' Margaret Mitch...   \n",
       "2                                                  NaN   \n",
       "3    Bhajju Shyam, of the Gond tribe of central Ind...   \n",
       "4    Without plants, there would be no food, no ani...   \n",
       "..                                                 ...   \n",
       "314  For ten years Fraa Erasmas, a young avout, has...   \n",
       "315  By the New York Times bestselling author of Th...   \n",
       "316  As former members of a disbanded group of supe...   \n",
       "317  Intense, powerful, and compelling, Matterhorn ...   \n",
       "318  The 10th anniversary edition, with new chapter...   \n",
       "\n",
       "                                              synopsis  \n",
       "0                                                  NaN  \n",
       "1    'My dear, I don't give a damn.'\\n\\nMargaret Mi...  \n",
       "2                                                  NaN  \n",
       "3    “A beautiful book. I would like to give it to ...  \n",
       "4    Without plants, there would be no food, no ani...  \n",
       "..                                                 ...  \n",
       "314   For ten years Fraa Erasmas, a young avout, ha...  \n",
       "315  By the New York Times bestselling author of Th...  \n",
       "316  \"Following two generations of masked superhero...  \n",
       "317  Intense, powerful, and compelling, Matterhorn ...  \n",
       "318  The 10th anniversary edition, with new chapter...  \n",
       "\n",
       "[319 rows x 13 columns]"
      ]
     },
     "execution_count": 24,
     "metadata": {},
     "output_type": "execute_result"
    }
   ],
   "source": [
    "df"
   ]
  },
  {
   "cell_type": "code",
   "execution_count": 25,
   "id": "78ad069d",
   "metadata": {
    "execution": {
     "iopub.execute_input": "2022-03-21T11:31:01.376588Z",
     "iopub.status.busy": "2022-03-21T11:31:01.366188Z",
     "iopub.status.idle": "2022-03-21T11:31:01.378815Z",
     "shell.execute_reply": "2022-03-21T11:31:01.379302Z",
     "shell.execute_reply.started": "2022-03-21T11:06:13.219842Z"
    },
    "papermill": {
     "duration": 0.067979,
     "end_time": "2022-03-21T11:31:01.379476",
     "exception": false,
     "start_time": "2022-03-21T11:31:01.311497",
     "status": "completed"
    },
    "tags": []
   },
   "outputs": [],
   "source": [
    "df.loc[(df['averageRating'] >=0) & (df['averageRating'] >= 1),'rating between'] = 'between 0 and 1'\n",
    "df.loc[(df['averageRating'] >=1) & (df['averageRating'] >= 2),'rating between'] = 'between 1 and 2'\n",
    "df.loc[(df['averageRating'] >=2) & (df['averageRating'] >= 3),'rating between'] = 'between 2 and 3'\n",
    "df.loc[(df['averageRating'] >=3) & (df['averageRating'] >= 4),'rating between'] = 'between 3 and 4'\n",
    "df.loc[(df['averageRating'] >=4) & (df['averageRating'] >= 5),'rating between'] = 'between 4 and 5'"
   ]
  },
  {
   "cell_type": "code",
   "execution_count": 26,
   "id": "12397fc7",
   "metadata": {
    "execution": {
     "iopub.execute_input": "2022-03-21T11:31:01.489415Z",
     "iopub.status.busy": "2022-03-21T11:31:01.488476Z",
     "iopub.status.idle": "2022-03-21T11:31:01.499942Z",
     "shell.execute_reply": "2022-03-21T11:31:01.499268Z",
     "shell.execute_reply.started": "2022-03-21T11:06:13.233059Z"
    },
    "papermill": {
     "duration": 0.068597,
     "end_time": "2022-03-21T11:31:01.500073",
     "exception": false,
     "start_time": "2022-03-21T11:31:01.431476",
     "status": "completed"
    },
    "tags": []
   },
   "outputs": [
    {
     "data": {
      "text/html": [
       "<div>\n",
       "<style scoped>\n",
       "    .dataframe tbody tr th:only-of-type {\n",
       "        vertical-align: middle;\n",
       "    }\n",
       "\n",
       "    .dataframe tbody tr th {\n",
       "        vertical-align: top;\n",
       "    }\n",
       "\n",
       "    .dataframe thead th {\n",
       "        text-align: right;\n",
       "    }\n",
       "</style>\n",
       "<table border=\"1\" class=\"dataframe\">\n",
       "  <thead>\n",
       "    <tr style=\"text-align: right;\">\n",
       "      <th></th>\n",
       "      <th>between 0 and 1</th>\n",
       "      <th>between 1 and 2</th>\n",
       "      <th>between 2 and 3</th>\n",
       "      <th>between 3 and 4</th>\n",
       "      <th>between 4 and 5</th>\n",
       "    </tr>\n",
       "  </thead>\n",
       "  <tbody>\n",
       "    <tr>\n",
       "      <th>0</th>\n",
       "      <td>0</td>\n",
       "      <td>0</td>\n",
       "      <td>0</td>\n",
       "      <td>0</td>\n",
       "      <td>0</td>\n",
       "    </tr>\n",
       "    <tr>\n",
       "      <th>1</th>\n",
       "      <td>0</td>\n",
       "      <td>0</td>\n",
       "      <td>0</td>\n",
       "      <td>1</td>\n",
       "      <td>0</td>\n",
       "    </tr>\n",
       "    <tr>\n",
       "      <th>2</th>\n",
       "      <td>0</td>\n",
       "      <td>0</td>\n",
       "      <td>0</td>\n",
       "      <td>0</td>\n",
       "      <td>0</td>\n",
       "    </tr>\n",
       "    <tr>\n",
       "      <th>3</th>\n",
       "      <td>0</td>\n",
       "      <td>0</td>\n",
       "      <td>0</td>\n",
       "      <td>0</td>\n",
       "      <td>1</td>\n",
       "    </tr>\n",
       "    <tr>\n",
       "      <th>4</th>\n",
       "      <td>0</td>\n",
       "      <td>0</td>\n",
       "      <td>0</td>\n",
       "      <td>1</td>\n",
       "      <td>0</td>\n",
       "    </tr>\n",
       "    <tr>\n",
       "      <th>...</th>\n",
       "      <td>...</td>\n",
       "      <td>...</td>\n",
       "      <td>...</td>\n",
       "      <td>...</td>\n",
       "      <td>...</td>\n",
       "    </tr>\n",
       "    <tr>\n",
       "      <th>314</th>\n",
       "      <td>0</td>\n",
       "      <td>0</td>\n",
       "      <td>0</td>\n",
       "      <td>1</td>\n",
       "      <td>0</td>\n",
       "    </tr>\n",
       "    <tr>\n",
       "      <th>315</th>\n",
       "      <td>0</td>\n",
       "      <td>0</td>\n",
       "      <td>0</td>\n",
       "      <td>1</td>\n",
       "      <td>0</td>\n",
       "    </tr>\n",
       "    <tr>\n",
       "      <th>316</th>\n",
       "      <td>0</td>\n",
       "      <td>0</td>\n",
       "      <td>0</td>\n",
       "      <td>1</td>\n",
       "      <td>0</td>\n",
       "    </tr>\n",
       "    <tr>\n",
       "      <th>317</th>\n",
       "      <td>0</td>\n",
       "      <td>0</td>\n",
       "      <td>0</td>\n",
       "      <td>1</td>\n",
       "      <td>0</td>\n",
       "    </tr>\n",
       "    <tr>\n",
       "      <th>318</th>\n",
       "      <td>0</td>\n",
       "      <td>0</td>\n",
       "      <td>0</td>\n",
       "      <td>1</td>\n",
       "      <td>0</td>\n",
       "    </tr>\n",
       "  </tbody>\n",
       "</table>\n",
       "<p>319 rows × 5 columns</p>\n",
       "</div>"
      ],
      "text/plain": [
       "     between 0 and 1  between 1 and 2  between 2 and 3  between 3 and 4  \\\n",
       "0                  0                0                0                0   \n",
       "1                  0                0                0                1   \n",
       "2                  0                0                0                0   \n",
       "3                  0                0                0                0   \n",
       "4                  0                0                0                1   \n",
       "..               ...              ...              ...              ...   \n",
       "314                0                0                0                1   \n",
       "315                0                0                0                1   \n",
       "316                0                0                0                1   \n",
       "317                0                0                0                1   \n",
       "318                0                0                0                1   \n",
       "\n",
       "     between 4 and 5  \n",
       "0                  0  \n",
       "1                  0  \n",
       "2                  0  \n",
       "3                  1  \n",
       "4                  0  \n",
       "..               ...  \n",
       "314                0  \n",
       "315                0  \n",
       "316                0  \n",
       "317                0  \n",
       "318                0  \n",
       "\n",
       "[319 rows x 5 columns]"
      ]
     },
     "execution_count": 26,
     "metadata": {},
     "output_type": "execute_result"
    }
   ],
   "source": [
    "rating_df = pd.get_dummies(df['rating between'])\n",
    "rating_df"
   ]
  },
  {
   "cell_type": "code",
   "execution_count": 27,
   "id": "1f919bbe",
   "metadata": {
    "execution": {
     "iopub.execute_input": "2022-03-21T11:31:01.616774Z",
     "iopub.status.busy": "2022-03-21T11:31:01.610534Z",
     "iopub.status.idle": "2022-03-21T11:31:01.620198Z",
     "shell.execute_reply": "2022-03-21T11:31:01.620720Z",
     "shell.execute_reply.started": "2022-03-21T11:06:13.252128Z"
    },
    "papermill": {
     "duration": 0.068338,
     "end_time": "2022-03-21T11:31:01.620922",
     "exception": false,
     "start_time": "2022-03-21T11:31:01.552584",
     "status": "completed"
    },
    "tags": []
   },
   "outputs": [
    {
     "data": {
      "text/html": [
       "<div>\n",
       "<style scoped>\n",
       "    .dataframe tbody tr th:only-of-type {\n",
       "        vertical-align: middle;\n",
       "    }\n",
       "\n",
       "    .dataframe tbody tr th {\n",
       "        vertical-align: top;\n",
       "    }\n",
       "\n",
       "    .dataframe thead th {\n",
       "        text-align: right;\n",
       "    }\n",
       "</style>\n",
       "<table border=\"1\" class=\"dataframe\">\n",
       "  <thead>\n",
       "    <tr style=\"text-align: right;\">\n",
       "      <th></th>\n",
       "      <th>en</th>\n",
       "      <th>hi</th>\n",
       "      <th>sv</th>\n",
       "    </tr>\n",
       "  </thead>\n",
       "  <tbody>\n",
       "    <tr>\n",
       "      <th>0</th>\n",
       "      <td>1</td>\n",
       "      <td>0</td>\n",
       "      <td>0</td>\n",
       "    </tr>\n",
       "    <tr>\n",
       "      <th>1</th>\n",
       "      <td>1</td>\n",
       "      <td>0</td>\n",
       "      <td>0</td>\n",
       "    </tr>\n",
       "    <tr>\n",
       "      <th>2</th>\n",
       "      <td>0</td>\n",
       "      <td>1</td>\n",
       "      <td>0</td>\n",
       "    </tr>\n",
       "    <tr>\n",
       "      <th>3</th>\n",
       "      <td>1</td>\n",
       "      <td>0</td>\n",
       "      <td>0</td>\n",
       "    </tr>\n",
       "    <tr>\n",
       "      <th>4</th>\n",
       "      <td>1</td>\n",
       "      <td>0</td>\n",
       "      <td>0</td>\n",
       "    </tr>\n",
       "    <tr>\n",
       "      <th>...</th>\n",
       "      <td>...</td>\n",
       "      <td>...</td>\n",
       "      <td>...</td>\n",
       "    </tr>\n",
       "    <tr>\n",
       "      <th>314</th>\n",
       "      <td>1</td>\n",
       "      <td>0</td>\n",
       "      <td>0</td>\n",
       "    </tr>\n",
       "    <tr>\n",
       "      <th>315</th>\n",
       "      <td>1</td>\n",
       "      <td>0</td>\n",
       "      <td>0</td>\n",
       "    </tr>\n",
       "    <tr>\n",
       "      <th>316</th>\n",
       "      <td>1</td>\n",
       "      <td>0</td>\n",
       "      <td>0</td>\n",
       "    </tr>\n",
       "    <tr>\n",
       "      <th>317</th>\n",
       "      <td>1</td>\n",
       "      <td>0</td>\n",
       "      <td>0</td>\n",
       "    </tr>\n",
       "    <tr>\n",
       "      <th>318</th>\n",
       "      <td>1</td>\n",
       "      <td>0</td>\n",
       "      <td>0</td>\n",
       "    </tr>\n",
       "  </tbody>\n",
       "</table>\n",
       "<p>319 rows × 3 columns</p>\n",
       "</div>"
      ],
      "text/plain": [
       "     en  hi  sv\n",
       "0     1   0   0\n",
       "1     1   0   0\n",
       "2     0   1   0\n",
       "3     1   0   0\n",
       "4     1   0   0\n",
       "..   ..  ..  ..\n",
       "314   1   0   0\n",
       "315   1   0   0\n",
       "316   1   0   0\n",
       "317   1   0   0\n",
       "318   1   0   0\n",
       "\n",
       "[319 rows x 3 columns]"
      ]
     },
     "execution_count": 27,
     "metadata": {},
     "output_type": "execute_result"
    }
   ],
   "source": [
    "language_df = pd.get_dummies(df['language'])\n",
    "language_df"
   ]
  },
  {
   "cell_type": "code",
   "execution_count": 28,
   "id": "e61d4547",
   "metadata": {
    "execution": {
     "iopub.execute_input": "2022-03-21T11:31:01.734766Z",
     "iopub.status.busy": "2022-03-21T11:31:01.733751Z",
     "iopub.status.idle": "2022-03-21T11:31:01.736482Z",
     "shell.execute_reply": "2022-03-21T11:31:01.735873Z",
     "shell.execute_reply.started": "2022-03-21T11:06:13.269626Z"
    },
    "papermill": {
     "duration": 0.062003,
     "end_time": "2022-03-21T11:31:01.736610",
     "exception": false,
     "start_time": "2022-03-21T11:31:01.674607",
     "status": "completed"
    },
    "tags": []
   },
   "outputs": [],
   "source": [
    "features = pd.concat([rating_df,language_df,df['averageRating'],df['ratingsCount']],axis=1)"
   ]
  },
  {
   "cell_type": "code",
   "execution_count": 29,
   "id": "3afddb8c",
   "metadata": {
    "execution": {
     "iopub.execute_input": "2022-03-21T11:31:01.859065Z",
     "iopub.status.busy": "2022-03-21T11:31:01.857926Z",
     "iopub.status.idle": "2022-03-21T11:31:01.861935Z",
     "shell.execute_reply": "2022-03-21T11:31:01.862440Z",
     "shell.execute_reply.started": "2022-03-21T11:06:13.276983Z"
    },
    "papermill": {
     "duration": 0.072615,
     "end_time": "2022-03-21T11:31:01.862620",
     "exception": false,
     "start_time": "2022-03-21T11:31:01.790005",
     "status": "completed"
    },
    "tags": []
   },
   "outputs": [
    {
     "data": {
      "text/html": [
       "<div>\n",
       "<style scoped>\n",
       "    .dataframe tbody tr th:only-of-type {\n",
       "        vertical-align: middle;\n",
       "    }\n",
       "\n",
       "    .dataframe tbody tr th {\n",
       "        vertical-align: top;\n",
       "    }\n",
       "\n",
       "    .dataframe thead th {\n",
       "        text-align: right;\n",
       "    }\n",
       "</style>\n",
       "<table border=\"1\" class=\"dataframe\">\n",
       "  <thead>\n",
       "    <tr style=\"text-align: right;\">\n",
       "      <th></th>\n",
       "      <th>between 0 and 1</th>\n",
       "      <th>between 1 and 2</th>\n",
       "      <th>between 2 and 3</th>\n",
       "      <th>between 3 and 4</th>\n",
       "      <th>between 4 and 5</th>\n",
       "      <th>en</th>\n",
       "      <th>hi</th>\n",
       "      <th>sv</th>\n",
       "      <th>averageRating</th>\n",
       "      <th>ratingsCount</th>\n",
       "    </tr>\n",
       "  </thead>\n",
       "  <tbody>\n",
       "    <tr>\n",
       "      <th>0</th>\n",
       "      <td>0</td>\n",
       "      <td>0</td>\n",
       "      <td>0</td>\n",
       "      <td>0</td>\n",
       "      <td>0</td>\n",
       "      <td>1</td>\n",
       "      <td>0</td>\n",
       "      <td>0</td>\n",
       "      <td>0.0</td>\n",
       "      <td>0</td>\n",
       "    </tr>\n",
       "    <tr>\n",
       "      <th>1</th>\n",
       "      <td>0</td>\n",
       "      <td>0</td>\n",
       "      <td>0</td>\n",
       "      <td>1</td>\n",
       "      <td>0</td>\n",
       "      <td>1</td>\n",
       "      <td>0</td>\n",
       "      <td>0</td>\n",
       "      <td>4.5</td>\n",
       "      <td>5</td>\n",
       "    </tr>\n",
       "    <tr>\n",
       "      <th>2</th>\n",
       "      <td>0</td>\n",
       "      <td>0</td>\n",
       "      <td>0</td>\n",
       "      <td>0</td>\n",
       "      <td>0</td>\n",
       "      <td>0</td>\n",
       "      <td>1</td>\n",
       "      <td>0</td>\n",
       "      <td>0.0</td>\n",
       "      <td>0</td>\n",
       "    </tr>\n",
       "    <tr>\n",
       "      <th>3</th>\n",
       "      <td>0</td>\n",
       "      <td>0</td>\n",
       "      <td>0</td>\n",
       "      <td>0</td>\n",
       "      <td>1</td>\n",
       "      <td>1</td>\n",
       "      <td>0</td>\n",
       "      <td>0</td>\n",
       "      <td>5.0</td>\n",
       "      <td>1</td>\n",
       "    </tr>\n",
       "    <tr>\n",
       "      <th>4</th>\n",
       "      <td>0</td>\n",
       "      <td>0</td>\n",
       "      <td>0</td>\n",
       "      <td>1</td>\n",
       "      <td>0</td>\n",
       "      <td>1</td>\n",
       "      <td>0</td>\n",
       "      <td>0</td>\n",
       "      <td>4.0</td>\n",
       "      <td>3</td>\n",
       "    </tr>\n",
       "    <tr>\n",
       "      <th>...</th>\n",
       "      <td>...</td>\n",
       "      <td>...</td>\n",
       "      <td>...</td>\n",
       "      <td>...</td>\n",
       "      <td>...</td>\n",
       "      <td>...</td>\n",
       "      <td>...</td>\n",
       "      <td>...</td>\n",
       "      <td>...</td>\n",
       "      <td>...</td>\n",
       "    </tr>\n",
       "    <tr>\n",
       "      <th>314</th>\n",
       "      <td>0</td>\n",
       "      <td>0</td>\n",
       "      <td>0</td>\n",
       "      <td>1</td>\n",
       "      <td>0</td>\n",
       "      <td>1</td>\n",
       "      <td>0</td>\n",
       "      <td>0</td>\n",
       "      <td>4.0</td>\n",
       "      <td>175</td>\n",
       "    </tr>\n",
       "    <tr>\n",
       "      <th>315</th>\n",
       "      <td>0</td>\n",
       "      <td>0</td>\n",
       "      <td>0</td>\n",
       "      <td>1</td>\n",
       "      <td>0</td>\n",
       "      <td>1</td>\n",
       "      <td>0</td>\n",
       "      <td>0</td>\n",
       "      <td>4.0</td>\n",
       "      <td>508</td>\n",
       "    </tr>\n",
       "    <tr>\n",
       "      <th>316</th>\n",
       "      <td>0</td>\n",
       "      <td>0</td>\n",
       "      <td>0</td>\n",
       "      <td>1</td>\n",
       "      <td>0</td>\n",
       "      <td>1</td>\n",
       "      <td>0</td>\n",
       "      <td>0</td>\n",
       "      <td>4.0</td>\n",
       "      <td>3898</td>\n",
       "    </tr>\n",
       "    <tr>\n",
       "      <th>317</th>\n",
       "      <td>0</td>\n",
       "      <td>0</td>\n",
       "      <td>0</td>\n",
       "      <td>1</td>\n",
       "      <td>0</td>\n",
       "      <td>1</td>\n",
       "      <td>0</td>\n",
       "      <td>0</td>\n",
       "      <td>4.5</td>\n",
       "      <td>93</td>\n",
       "    </tr>\n",
       "    <tr>\n",
       "      <th>318</th>\n",
       "      <td>0</td>\n",
       "      <td>0</td>\n",
       "      <td>0</td>\n",
       "      <td>1</td>\n",
       "      <td>0</td>\n",
       "      <td>1</td>\n",
       "      <td>0</td>\n",
       "      <td>0</td>\n",
       "      <td>4.5</td>\n",
       "      <td>5</td>\n",
       "    </tr>\n",
       "  </tbody>\n",
       "</table>\n",
       "<p>319 rows × 10 columns</p>\n",
       "</div>"
      ],
      "text/plain": [
       "     between 0 and 1  between 1 and 2  between 2 and 3  between 3 and 4  \\\n",
       "0                  0                0                0                0   \n",
       "1                  0                0                0                1   \n",
       "2                  0                0                0                0   \n",
       "3                  0                0                0                0   \n",
       "4                  0                0                0                1   \n",
       "..               ...              ...              ...              ...   \n",
       "314                0                0                0                1   \n",
       "315                0                0                0                1   \n",
       "316                0                0                0                1   \n",
       "317                0                0                0                1   \n",
       "318                0                0                0                1   \n",
       "\n",
       "     between 4 and 5  en  hi  sv  averageRating  ratingsCount  \n",
       "0                  0   1   0   0            0.0             0  \n",
       "1                  0   1   0   0            4.5             5  \n",
       "2                  0   0   1   0            0.0             0  \n",
       "3                  1   1   0   0            5.0             1  \n",
       "4                  0   1   0   0            4.0             3  \n",
       "..               ...  ..  ..  ..            ...           ...  \n",
       "314                0   1   0   0            4.0           175  \n",
       "315                0   1   0   0            4.0           508  \n",
       "316                0   1   0   0            4.0          3898  \n",
       "317                0   1   0   0            4.5            93  \n",
       "318                0   1   0   0            4.5             5  \n",
       "\n",
       "[319 rows x 10 columns]"
      ]
     },
     "execution_count": 29,
     "metadata": {},
     "output_type": "execute_result"
    }
   ],
   "source": [
    "features"
   ]
  },
  {
   "cell_type": "code",
   "execution_count": 30,
   "id": "ff410477",
   "metadata": {
    "execution": {
     "iopub.execute_input": "2022-03-21T11:31:01.977410Z",
     "iopub.status.busy": "2022-03-21T11:31:01.976746Z",
     "iopub.status.idle": "2022-03-21T11:31:02.099688Z",
     "shell.execute_reply": "2022-03-21T11:31:02.100189Z",
     "shell.execute_reply.started": "2022-03-21T11:06:13.303770Z"
    },
    "papermill": {
     "duration": 0.182427,
     "end_time": "2022-03-21T11:31:02.100364",
     "exception": false,
     "start_time": "2022-03-21T11:31:01.917937",
     "status": "completed"
    },
    "tags": []
   },
   "outputs": [],
   "source": [
    "from sklearn.preprocessing import MinMaxScaler"
   ]
  },
  {
   "cell_type": "code",
   "execution_count": 31,
   "id": "0705124e",
   "metadata": {
    "execution": {
     "iopub.execute_input": "2022-03-21T11:31:02.213100Z",
     "iopub.status.busy": "2022-03-21T11:31:02.212378Z",
     "iopub.status.idle": "2022-03-21T11:31:02.214973Z",
     "shell.execute_reply": "2022-03-21T11:31:02.214488Z",
     "shell.execute_reply.started": "2022-03-21T11:06:13.457936Z"
    },
    "papermill": {
     "duration": 0.060513,
     "end_time": "2022-03-21T11:31:02.215100",
     "exception": false,
     "start_time": "2022-03-21T11:31:02.154587",
     "status": "completed"
    },
    "tags": []
   },
   "outputs": [],
   "source": [
    "minmax = MinMaxScaler()"
   ]
  },
  {
   "cell_type": "code",
   "execution_count": 32,
   "id": "1fa338a0",
   "metadata": {
    "execution": {
     "iopub.execute_input": "2022-03-21T11:31:02.331105Z",
     "iopub.status.busy": "2022-03-21T11:31:02.328969Z",
     "iopub.status.idle": "2022-03-21T11:31:02.333929Z",
     "shell.execute_reply": "2022-03-21T11:31:02.333289Z",
     "shell.execute_reply.started": "2022-03-21T11:06:13.463403Z"
    },
    "papermill": {
     "duration": 0.065069,
     "end_time": "2022-03-21T11:31:02.334062",
     "exception": false,
     "start_time": "2022-03-21T11:31:02.268993",
     "status": "completed"
    },
    "tags": []
   },
   "outputs": [],
   "source": [
    "features = minmax.fit_transform(features)"
   ]
  },
  {
   "cell_type": "code",
   "execution_count": 33,
   "id": "5cdd75b6",
   "metadata": {
    "execution": {
     "iopub.execute_input": "2022-03-21T11:31:02.447530Z",
     "iopub.status.busy": "2022-03-21T11:31:02.446642Z",
     "iopub.status.idle": "2022-03-21T11:31:02.450111Z",
     "shell.execute_reply": "2022-03-21T11:31:02.450617Z",
     "shell.execute_reply.started": "2022-03-21T11:06:13.480413Z"
    },
    "papermill": {
     "duration": 0.062987,
     "end_time": "2022-03-21T11:31:02.450773",
     "exception": false,
     "start_time": "2022-03-21T11:31:02.387786",
     "status": "completed"
    },
    "tags": []
   },
   "outputs": [
    {
     "data": {
      "text/plain": [
       "array([[0.        , 0.        , 0.        , ..., 0.        , 0.        ,\n",
       "        0.        ],\n",
       "       [0.        , 0.        , 0.        , ..., 0.        , 0.9       ,\n",
       "        0.00125881],\n",
       "       [0.        , 0.        , 0.        , ..., 0.        , 0.        ,\n",
       "        0.        ],\n",
       "       ...,\n",
       "       [0.        , 0.        , 0.        , ..., 0.        , 0.8       ,\n",
       "        0.98136959],\n",
       "       [0.        , 0.        , 0.        , ..., 0.        , 0.9       ,\n",
       "        0.0234139 ],\n",
       "       [0.        , 0.        , 0.        , ..., 0.        , 0.9       ,\n",
       "        0.00125881]])"
      ]
     },
     "execution_count": 33,
     "metadata": {},
     "output_type": "execute_result"
    }
   ],
   "source": [
    "features"
   ]
  },
  {
   "cell_type": "code",
   "execution_count": 34,
   "id": "393ba9c8",
   "metadata": {
    "execution": {
     "iopub.execute_input": "2022-03-21T11:31:02.563522Z",
     "iopub.status.busy": "2022-03-21T11:31:02.562929Z",
     "iopub.status.idle": "2022-03-21T11:31:02.711155Z",
     "shell.execute_reply": "2022-03-21T11:31:02.711650Z",
     "shell.execute_reply.started": "2022-03-21T11:06:52.368193Z"
    },
    "papermill": {
     "duration": 0.20656,
     "end_time": "2022-03-21T11:31:02.711847",
     "exception": false,
     "start_time": "2022-03-21T11:31:02.505287",
     "status": "completed"
    },
    "tags": []
   },
   "outputs": [],
   "source": [
    "from sklearn import neighbors"
   ]
  },
  {
   "cell_type": "code",
   "execution_count": 35,
   "id": "1b984c61",
   "metadata": {
    "execution": {
     "iopub.execute_input": "2022-03-21T11:31:02.828170Z",
     "iopub.status.busy": "2022-03-21T11:31:02.827513Z",
     "iopub.status.idle": "2022-03-21T11:31:02.831325Z",
     "shell.execute_reply": "2022-03-21T11:31:02.831766Z",
     "shell.execute_reply.started": "2022-03-21T11:09:03.659892Z"
    },
    "papermill": {
     "duration": 0.064982,
     "end_time": "2022-03-21T11:31:02.831972",
     "exception": false,
     "start_time": "2022-03-21T11:31:02.766990",
     "status": "completed"
    },
    "tags": []
   },
   "outputs": [],
   "source": [
    "model = neighbors.NearestNeighbors( n_neighbors=5,algorithm = 'ball_tree')\n",
    "model.fit(features)\n",
    "dist,idlist = model.kneighbors(features)"
   ]
  },
  {
   "cell_type": "code",
   "execution_count": 36,
   "id": "625fb3dd",
   "metadata": {
    "execution": {
     "iopub.execute_input": "2022-03-21T11:31:02.948477Z",
     "iopub.status.busy": "2022-03-21T11:31:02.947819Z",
     "iopub.status.idle": "2022-03-21T11:31:02.950743Z",
     "shell.execute_reply": "2022-03-21T11:31:02.950134Z",
     "shell.execute_reply.started": "2022-03-21T11:28:47.529531Z"
    },
    "papermill": {
     "duration": 0.064425,
     "end_time": "2022-03-21T11:31:02.950895",
     "exception": false,
     "start_time": "2022-03-21T11:31:02.886470",
     "status": "completed"
    },
    "tags": []
   },
   "outputs": [],
   "source": [
    "def bookrecommender(book_name):\n",
    "    book_list_name=[]\n",
    "    book_id = df[df['book_name'] == book_name].index\n",
    "    book_id = book_id[0]\n",
    "    \n",
    "    for newid in idlist[book_id]:\n",
    "        book_list_name.append(df.loc[newid].book_name)\n",
    "    return book_list_name\n",
    "    "
   ]
  },
  {
   "cell_type": "markdown",
   "id": "dbef9d32",
   "metadata": {
    "papermill": {
     "duration": 0.053977,
     "end_time": "2022-03-21T11:31:03.060081",
     "exception": false,
     "start_time": "2022-03-21T11:31:03.006104",
     "status": "completed"
    },
    "tags": []
   },
   "source": [
    "# prediction"
   ]
  },
  {
   "cell_type": "code",
   "execution_count": 37,
   "id": "7b554ca1",
   "metadata": {
    "execution": {
     "iopub.execute_input": "2022-03-21T11:31:03.176934Z",
     "iopub.status.busy": "2022-03-21T11:31:03.176269Z",
     "iopub.status.idle": "2022-03-21T11:31:03.179277Z",
     "shell.execute_reply": "2022-03-21T11:31:03.178745Z",
     "shell.execute_reply.started": "2022-03-21T11:28:53.907155Z"
    },
    "papermill": {
     "duration": 0.064543,
     "end_time": "2022-03-21T11:31:03.179408",
     "exception": false,
     "start_time": "2022-03-21T11:31:03.114865",
     "status": "completed"
    },
    "tags": []
   },
   "outputs": [
    {
     "data": {
      "text/plain": [
       "['Tarkash',\n",
       " 'Teen Ekant',\n",
       " 'Hayvadan',\n",
       " 'Tumhare Baarien Mein',\n",
       " 'Lava by Suresh Vashishth']"
      ]
     },
     "execution_count": 37,
     "metadata": {},
     "output_type": "execute_result"
    }
   ],
   "source": [
    "bookrecommender('Hayvadan')"
   ]
  },
  {
   "cell_type": "code",
   "execution_count": null,
   "id": "c8f25995",
   "metadata": {
    "papermill": {
     "duration": 0.053561,
     "end_time": "2022-03-21T11:31:03.287817",
     "exception": false,
     "start_time": "2022-03-21T11:31:03.234256",
     "status": "completed"
    },
    "tags": []
   },
   "outputs": [],
   "source": []
  }
 ],
 "metadata": {
  "kernelspec": {
   "display_name": "Python 3",
   "language": "python",
   "name": "python3"
  },
  "language_info": {
   "codemirror_mode": {
    "name": "ipython",
    "version": 3
   },
   "file_extension": ".py",
   "mimetype": "text/x-python",
   "name": "python",
   "nbconvert_exporter": "python",
   "pygments_lexer": "ipython3",
   "version": "3.7.12"
  },
  "papermill": {
   "default_parameters": {},
   "duration": 19.563856,
   "end_time": "2022-03-21T11:31:06.914286",
   "environment_variables": {},
   "exception": null,
   "input_path": "__notebook__.ipynb",
   "output_path": "__notebook__.ipynb",
   "parameters": {},
   "start_time": "2022-03-21T11:30:47.350430",
   "version": "2.3.3"
  }
 },
 "nbformat": 4,
 "nbformat_minor": 5
}
