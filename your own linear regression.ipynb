{
 "cells": [
  {
   "cell_type": "code",
   "execution_count": 1,
   "id": "765a5d64",
   "metadata": {},
   "outputs": [],
   "source": [
    "import pandas as pd\n",
    "import numpy as np\n",
    "import matplotlib.pyplot as plt\n",
    "import seaborn as sns"
   ]
  },
  {
   "cell_type": "code",
   "execution_count": 3,
   "id": "1c84c1ff",
   "metadata": {},
   "outputs": [],
   "source": [
    "df = pd.read_csv(r'diabetes.csv')"
   ]
  },
  {
   "cell_type": "code",
   "execution_count": 4,
   "id": "106c7517",
   "metadata": {},
   "outputs": [
    {
     "data": {
      "text/html": [
       "<div>\n",
       "<style scoped>\n",
       "    .dataframe tbody tr th:only-of-type {\n",
       "        vertical-align: middle;\n",
       "    }\n",
       "\n",
       "    .dataframe tbody tr th {\n",
       "        vertical-align: top;\n",
       "    }\n",
       "\n",
       "    .dataframe thead th {\n",
       "        text-align: right;\n",
       "    }\n",
       "</style>\n",
       "<table border=\"1\" class=\"dataframe\">\n",
       "  <thead>\n",
       "    <tr style=\"text-align: right;\">\n",
       "      <th></th>\n",
       "      <th>patient_number</th>\n",
       "      <th>cholesterol</th>\n",
       "      <th>glucose</th>\n",
       "      <th>hdl_chol</th>\n",
       "      <th>chol_hdl_ratio</th>\n",
       "      <th>age</th>\n",
       "      <th>gender</th>\n",
       "      <th>height</th>\n",
       "      <th>weight</th>\n",
       "      <th>bmi</th>\n",
       "      <th>systolic_bp</th>\n",
       "      <th>diastolic_bp</th>\n",
       "      <th>waist</th>\n",
       "      <th>hip</th>\n",
       "      <th>waist_hip_ratio</th>\n",
       "      <th>diabetes</th>\n",
       "    </tr>\n",
       "  </thead>\n",
       "  <tbody>\n",
       "    <tr>\n",
       "      <th>0</th>\n",
       "      <td>1</td>\n",
       "      <td>193</td>\n",
       "      <td>77</td>\n",
       "      <td>49</td>\n",
       "      <td>3,9</td>\n",
       "      <td>19</td>\n",
       "      <td>female</td>\n",
       "      <td>61</td>\n",
       "      <td>119</td>\n",
       "      <td>22,5</td>\n",
       "      <td>118</td>\n",
       "      <td>70</td>\n",
       "      <td>32</td>\n",
       "      <td>38</td>\n",
       "      <td>0,84</td>\n",
       "      <td>No diabetes</td>\n",
       "    </tr>\n",
       "    <tr>\n",
       "      <th>1</th>\n",
       "      <td>2</td>\n",
       "      <td>146</td>\n",
       "      <td>79</td>\n",
       "      <td>41</td>\n",
       "      <td>3,6</td>\n",
       "      <td>19</td>\n",
       "      <td>female</td>\n",
       "      <td>60</td>\n",
       "      <td>135</td>\n",
       "      <td>26,4</td>\n",
       "      <td>108</td>\n",
       "      <td>58</td>\n",
       "      <td>33</td>\n",
       "      <td>40</td>\n",
       "      <td>0,83</td>\n",
       "      <td>No diabetes</td>\n",
       "    </tr>\n",
       "    <tr>\n",
       "      <th>2</th>\n",
       "      <td>3</td>\n",
       "      <td>217</td>\n",
       "      <td>75</td>\n",
       "      <td>54</td>\n",
       "      <td>4</td>\n",
       "      <td>20</td>\n",
       "      <td>female</td>\n",
       "      <td>67</td>\n",
       "      <td>187</td>\n",
       "      <td>29,3</td>\n",
       "      <td>110</td>\n",
       "      <td>72</td>\n",
       "      <td>40</td>\n",
       "      <td>45</td>\n",
       "      <td>0,89</td>\n",
       "      <td>No diabetes</td>\n",
       "    </tr>\n",
       "    <tr>\n",
       "      <th>3</th>\n",
       "      <td>4</td>\n",
       "      <td>226</td>\n",
       "      <td>97</td>\n",
       "      <td>70</td>\n",
       "      <td>3,2</td>\n",
       "      <td>20</td>\n",
       "      <td>female</td>\n",
       "      <td>64</td>\n",
       "      <td>114</td>\n",
       "      <td>19,6</td>\n",
       "      <td>122</td>\n",
       "      <td>64</td>\n",
       "      <td>31</td>\n",
       "      <td>39</td>\n",
       "      <td>0,79</td>\n",
       "      <td>No diabetes</td>\n",
       "    </tr>\n",
       "    <tr>\n",
       "      <th>4</th>\n",
       "      <td>5</td>\n",
       "      <td>164</td>\n",
       "      <td>91</td>\n",
       "      <td>67</td>\n",
       "      <td>2,4</td>\n",
       "      <td>20</td>\n",
       "      <td>female</td>\n",
       "      <td>70</td>\n",
       "      <td>141</td>\n",
       "      <td>20,2</td>\n",
       "      <td>122</td>\n",
       "      <td>86</td>\n",
       "      <td>32</td>\n",
       "      <td>39</td>\n",
       "      <td>0,82</td>\n",
       "      <td>No diabetes</td>\n",
       "    </tr>\n",
       "    <tr>\n",
       "      <th>...</th>\n",
       "      <td>...</td>\n",
       "      <td>...</td>\n",
       "      <td>...</td>\n",
       "      <td>...</td>\n",
       "      <td>...</td>\n",
       "      <td>...</td>\n",
       "      <td>...</td>\n",
       "      <td>...</td>\n",
       "      <td>...</td>\n",
       "      <td>...</td>\n",
       "      <td>...</td>\n",
       "      <td>...</td>\n",
       "      <td>...</td>\n",
       "      <td>...</td>\n",
       "      <td>...</td>\n",
       "      <td>...</td>\n",
       "    </tr>\n",
       "    <tr>\n",
       "      <th>385</th>\n",
       "      <td>386</td>\n",
       "      <td>227</td>\n",
       "      <td>105</td>\n",
       "      <td>44</td>\n",
       "      <td>5,2</td>\n",
       "      <td>83</td>\n",
       "      <td>female</td>\n",
       "      <td>59</td>\n",
       "      <td>125</td>\n",
       "      <td>25,2</td>\n",
       "      <td>150</td>\n",
       "      <td>90</td>\n",
       "      <td>35</td>\n",
       "      <td>40</td>\n",
       "      <td>0,88</td>\n",
       "      <td>No diabetes</td>\n",
       "    </tr>\n",
       "    <tr>\n",
       "      <th>386</th>\n",
       "      <td>387</td>\n",
       "      <td>226</td>\n",
       "      <td>279</td>\n",
       "      <td>52</td>\n",
       "      <td>4,3</td>\n",
       "      <td>84</td>\n",
       "      <td>female</td>\n",
       "      <td>60</td>\n",
       "      <td>192</td>\n",
       "      <td>37,5</td>\n",
       "      <td>144</td>\n",
       "      <td>88</td>\n",
       "      <td>41</td>\n",
       "      <td>48</td>\n",
       "      <td>0,85</td>\n",
       "      <td>Diabetes</td>\n",
       "    </tr>\n",
       "    <tr>\n",
       "      <th>387</th>\n",
       "      <td>388</td>\n",
       "      <td>301</td>\n",
       "      <td>90</td>\n",
       "      <td>118</td>\n",
       "      <td>2,6</td>\n",
       "      <td>89</td>\n",
       "      <td>female</td>\n",
       "      <td>61</td>\n",
       "      <td>115</td>\n",
       "      <td>21,7</td>\n",
       "      <td>218</td>\n",
       "      <td>90</td>\n",
       "      <td>31</td>\n",
       "      <td>41</td>\n",
       "      <td>0,76</td>\n",
       "      <td>No diabetes</td>\n",
       "    </tr>\n",
       "    <tr>\n",
       "      <th>388</th>\n",
       "      <td>389</td>\n",
       "      <td>232</td>\n",
       "      <td>184</td>\n",
       "      <td>114</td>\n",
       "      <td>2</td>\n",
       "      <td>91</td>\n",
       "      <td>female</td>\n",
       "      <td>61</td>\n",
       "      <td>127</td>\n",
       "      <td>24</td>\n",
       "      <td>170</td>\n",
       "      <td>82</td>\n",
       "      <td>35</td>\n",
       "      <td>38</td>\n",
       "      <td>0,92</td>\n",
       "      <td>Diabetes</td>\n",
       "    </tr>\n",
       "    <tr>\n",
       "      <th>389</th>\n",
       "      <td>390</td>\n",
       "      <td>165</td>\n",
       "      <td>94</td>\n",
       "      <td>69</td>\n",
       "      <td>2,4</td>\n",
       "      <td>92</td>\n",
       "      <td>female</td>\n",
       "      <td>62</td>\n",
       "      <td>217</td>\n",
       "      <td>39,7</td>\n",
       "      <td>160</td>\n",
       "      <td>82</td>\n",
       "      <td>51</td>\n",
       "      <td>51</td>\n",
       "      <td>1</td>\n",
       "      <td>No diabetes</td>\n",
       "    </tr>\n",
       "  </tbody>\n",
       "</table>\n",
       "<p>390 rows × 16 columns</p>\n",
       "</div>"
      ],
      "text/plain": [
       "     patient_number  cholesterol  glucose  hdl_chol chol_hdl_ratio  age  \\\n",
       "0                 1          193       77        49            3,9   19   \n",
       "1                 2          146       79        41            3,6   19   \n",
       "2                 3          217       75        54              4   20   \n",
       "3                 4          226       97        70            3,2   20   \n",
       "4                 5          164       91        67            2,4   20   \n",
       "..              ...          ...      ...       ...            ...  ...   \n",
       "385             386          227      105        44            5,2   83   \n",
       "386             387          226      279        52            4,3   84   \n",
       "387             388          301       90       118            2,6   89   \n",
       "388             389          232      184       114              2   91   \n",
       "389             390          165       94        69            2,4   92   \n",
       "\n",
       "     gender  height  weight   bmi  systolic_bp  diastolic_bp  waist  hip  \\\n",
       "0    female      61     119  22,5          118            70     32   38   \n",
       "1    female      60     135  26,4          108            58     33   40   \n",
       "2    female      67     187  29,3          110            72     40   45   \n",
       "3    female      64     114  19,6          122            64     31   39   \n",
       "4    female      70     141  20,2          122            86     32   39   \n",
       "..      ...     ...     ...   ...          ...           ...    ...  ...   \n",
       "385  female      59     125  25,2          150            90     35   40   \n",
       "386  female      60     192  37,5          144            88     41   48   \n",
       "387  female      61     115  21,7          218            90     31   41   \n",
       "388  female      61     127    24          170            82     35   38   \n",
       "389  female      62     217  39,7          160            82     51   51   \n",
       "\n",
       "    waist_hip_ratio     diabetes  \n",
       "0              0,84  No diabetes  \n",
       "1              0,83  No diabetes  \n",
       "2              0,89  No diabetes  \n",
       "3              0,79  No diabetes  \n",
       "4              0,82  No diabetes  \n",
       "..              ...          ...  \n",
       "385            0,88  No diabetes  \n",
       "386            0,85     Diabetes  \n",
       "387            0,76  No diabetes  \n",
       "388            0,92     Diabetes  \n",
       "389               1  No diabetes  \n",
       "\n",
       "[390 rows x 16 columns]"
      ]
     },
     "execution_count": 4,
     "metadata": {},
     "output_type": "execute_result"
    }
   ],
   "source": [
    "df"
   ]
  },
  {
   "cell_type": "code",
   "execution_count": 6,
   "id": "444e68c8",
   "metadata": {},
   "outputs": [],
   "source": [
    "from sklearn.model_selection import train_test_split\n",
    "from sklearn.linear_model import LinearRegression"
   ]
  },
  {
   "cell_type": "code",
   "execution_count": 9,
   "id": "b37a8f74",
   "metadata": {},
   "outputs": [],
   "source": [
    "x = df['weight'].values.reshape(-1,1)\n",
    "y = df['hip'].values.reshape(-1,1)"
   ]
  },
  {
   "cell_type": "code",
   "execution_count": 11,
   "id": "e16148e1",
   "metadata": {},
   "outputs": [],
   "source": [
    "xtrain,xtest,ytrain,ytest = train_test_split(x,y,test_size = 0.20)"
   ]
  },
  {
   "cell_type": "code",
   "execution_count": 85,
   "id": "bcfd25a1",
   "metadata": {},
   "outputs": [],
   "source": [
    "lr = LinearRegression()\n"
   ]
  },
  {
   "cell_type": "code",
   "execution_count": 86,
   "id": "2553a192",
   "metadata": {},
   "outputs": [
    {
     "data": {
      "text/plain": [
       "LinearRegression()"
      ]
     },
     "execution_count": 86,
     "metadata": {},
     "output_type": "execute_result"
    }
   ],
   "source": [
    "lr.fit(xtrain,ytrain)"
   ]
  },
  {
   "cell_type": "code",
   "execution_count": 87,
   "id": "9713ed36",
   "metadata": {},
   "outputs": [
    {
     "data": {
      "text/plain": [
       "array([22.92706485])"
      ]
     },
     "execution_count": 87,
     "metadata": {},
     "output_type": "execute_result"
    }
   ],
   "source": [
    "lr.intercept_"
   ]
  },
  {
   "cell_type": "code",
   "execution_count": 91,
   "id": "3b0fad72",
   "metadata": {},
   "outputs": [
    {
     "data": {
      "text/plain": [
       "array([[0.11211215]])"
      ]
     },
     "execution_count": 91,
     "metadata": {},
     "output_type": "execute_result"
    }
   ],
   "source": [
    "lr.coef_"
   ]
  },
  {
   "cell_type": "code",
   "execution_count": 100,
   "id": "adf60176",
   "metadata": {},
   "outputs": [
    {
     "data": {
      "text/plain": [
       "array([[51.51566277]])"
      ]
     },
     "execution_count": 100,
     "metadata": {},
     "output_type": "execute_result"
    }
   ],
   "source": [
    "lr.predict([[255]])"
   ]
  },
  {
   "cell_type": "code",
   "execution_count": null,
   "id": "d216413f",
   "metadata": {},
   "outputs": [],
   "source": []
  },
  {
   "cell_type": "code",
   "execution_count": 105,
   "id": "dc3f47bd",
   "metadata": {},
   "outputs": [],
   "source": [
    "class yourregression:\n",
    "    \n",
    "    def __init__(self):\n",
    "        self.m = None\n",
    "        self.b = None\n",
    "        \n",
    "    def fit(self,xtrain,ytrain):\n",
    "        num =0\n",
    "        den = 0\n",
    "        \n",
    "        for i in range(xtrain.shape[0]):\n",
    "            #now calculate m value formula = (xi - xmean) (yi - ymean)\n",
    "                                                    #-------------------------\n",
    "                                                     # (xi - xmean)2\n",
    "                    #first (xi - xmean) - (yi - y mean)\n",
    "                    \n",
    "                num = num + ((xtrain[i] - xtrain.mean()) * (ytrain[i] - ytrain.mean()))\n",
    "                 #first (xi - xmean) - (yi - y mean)\n",
    "                    \n",
    "           \n",
    "                    # send (xi - xmean)2\n",
    "                    \n",
    "                den =  den + ((xtrain[i] - xtrain.mean()) * (xtrain[i] - xtrain.mean()))\n",
    "            \n",
    "        self.m = num/den\n",
    "        #now calculate  b\n",
    "        # b =  y(mean)- m xmean\n",
    "        \n",
    "        self.b = ytrain.mean() - (self.m * xtrain.mean())\n",
    "        \n",
    "        print(\"coef\",self.m)\n",
    "        print(\"intercept\",self.b)\n",
    "            \n",
    "    def predict(self,xtest):\n",
    "          # y = mx + b \n",
    "        print(xtest)\n",
    "        return self.m * xtest +self.b\n",
    "            \n",
    "        \n",
    "    \n",
    "    "
   ]
  },
  {
   "cell_type": "code",
   "execution_count": null,
   "id": "6758c7c8",
   "metadata": {},
   "outputs": [],
   "source": []
  },
  {
   "cell_type": "code",
   "execution_count": 93,
   "id": "daa79670",
   "metadata": {},
   "outputs": [],
   "source": [
    "li = yourregression()"
   ]
  },
  {
   "cell_type": "code",
   "execution_count": 94,
   "id": "27ba76e9",
   "metadata": {},
   "outputs": [
    {
     "name": "stdout",
     "output_type": "stream",
     "text": [
      "coef [0.11211215]\n",
      "intercept [22.92706485]\n"
     ]
    }
   ],
   "source": [
    "li.fit(xtrain,ytrain)"
   ]
  },
  {
   "cell_type": "code",
   "execution_count": 104,
   "id": "4aeac43a",
   "metadata": {},
   "outputs": [
    {
     "name": "stdout",
     "output_type": "stream",
     "text": [
      "255\n"
     ]
    },
    {
     "data": {
      "text/plain": [
       "array([51.51566277])"
      ]
     },
     "execution_count": 104,
     "metadata": {},
     "output_type": "execute_result"
    }
   ],
   "source": [
    "li.predict(255)"
   ]
  },
  {
   "cell_type": "code",
   "execution_count": 68,
   "id": "0fde9b30",
   "metadata": {},
   "outputs": [
    {
     "data": {
      "text/plain": [
       "array([82.86612426])"
      ]
     },
     "execution_count": 68,
     "metadata": {},
     "output_type": "execute_result"
    }
   ],
   "source": [
    "((xtrain[0] - xtrain.mean()) * (ytrain[0] - ytrain.mean()))\n",
    "    "
   ]
  },
  {
   "cell_type": "code",
   "execution_count": 23,
   "id": "6a001606",
   "metadata": {},
   "outputs": [
    {
     "data": {
      "text/plain": [
       "312"
      ]
     },
     "execution_count": 23,
     "metadata": {},
     "output_type": "execute_result"
    }
   ],
   "source": [
    "xtrain.shape[0]"
   ]
  },
  {
   "cell_type": "code",
   "execution_count": 95,
   "id": "e27319fa",
   "metadata": {},
   "outputs": [
    {
     "data": {
      "text/plain": [
       "array([[255],\n",
       "       [174],\n",
       "       [167],\n",
       "       [187],\n",
       "       [210],\n",
       "       [125],\n",
       "       [163],\n",
       "       [172],\n",
       "       [159],\n",
       "       [277],\n",
       "       [190],\n",
       "       [145],\n",
       "       [288],\n",
       "       [222],\n",
       "       [155],\n",
       "       [225],\n",
       "       [145],\n",
       "       [189],\n",
       "       [228],\n",
       "       [165],\n",
       "       [130],\n",
       "       [183],\n",
       "       [205],\n",
       "       [180],\n",
       "       [123],\n",
       "       [185],\n",
       "       [182],\n",
       "       [179],\n",
       "       [134],\n",
       "       [212],\n",
       "       [224],\n",
       "       [189],\n",
       "       [197],\n",
       "       [114],\n",
       "       [119],\n",
       "       [160],\n",
       "       [200],\n",
       "       [170],\n",
       "       [179],\n",
       "       [181],\n",
       "       [170],\n",
       "       [219],\n",
       "       [244],\n",
       "       [115],\n",
       "       [237],\n",
       "       [173],\n",
       "       [165],\n",
       "       [152],\n",
       "       [160],\n",
       "       [179],\n",
       "       [205],\n",
       "       [159],\n",
       "       [239],\n",
       "       [181],\n",
       "       [120],\n",
       "       [118],\n",
       "       [169],\n",
       "       [201],\n",
       "       [145],\n",
       "       [179],\n",
       "       [178],\n",
       "       [142],\n",
       "       [290],\n",
       "       [169],\n",
       "       [157],\n",
       "       [179],\n",
       "       [145],\n",
       "       [219],\n",
       "       [163],\n",
       "       [166],\n",
       "       [154],\n",
       "       [151],\n",
       "       [220],\n",
       "       [223],\n",
       "       [126],\n",
       "       [223],\n",
       "       [190],\n",
       "       [245]], dtype=int64)"
      ]
     },
     "execution_count": 95,
     "metadata": {},
     "output_type": "execute_result"
    }
   ],
   "source": [
    "xtest"
   ]
  },
  {
   "cell_type": "code",
   "execution_count": 96,
   "id": "1a59c8f5",
   "metadata": {},
   "outputs": [
    {
     "data": {
      "text/plain": [
       "array([[52],\n",
       "       [44],\n",
       "       [39],\n",
       "       [37],\n",
       "       [53],\n",
       "       [40],\n",
       "       [43],\n",
       "       [43],\n",
       "       [35],\n",
       "       [49],\n",
       "       [42],\n",
       "       [37],\n",
       "       [55],\n",
       "       [51],\n",
       "       [41],\n",
       "       [52],\n",
       "       [35],\n",
       "       [39],\n",
       "       [54],\n",
       "       [45],\n",
       "       [35],\n",
       "       [43],\n",
       "       [49],\n",
       "       [44],\n",
       "       [41],\n",
       "       [47],\n",
       "       [39],\n",
       "       [45],\n",
       "       [40],\n",
       "       [44],\n",
       "       [50],\n",
       "       [46],\n",
       "       [48],\n",
       "       [39],\n",
       "       [38],\n",
       "       [45],\n",
       "       [45],\n",
       "       [46],\n",
       "       [47],\n",
       "       [46],\n",
       "       [40],\n",
       "       [42],\n",
       "       [51],\n",
       "       [37],\n",
       "       [56],\n",
       "       [40],\n",
       "       [42],\n",
       "       [38],\n",
       "       [45],\n",
       "       [44],\n",
       "       [41],\n",
       "       [41],\n",
       "       [53],\n",
       "       [49],\n",
       "       [40],\n",
       "       [34],\n",
       "       [44],\n",
       "       [49],\n",
       "       [42],\n",
       "       [48],\n",
       "       [41],\n",
       "       [35],\n",
       "       [62],\n",
       "       [41],\n",
       "       [41],\n",
       "       [42],\n",
       "       [42],\n",
       "       [52],\n",
       "       [38],\n",
       "       [40],\n",
       "       [41],\n",
       "       [38],\n",
       "       [54],\n",
       "       [50],\n",
       "       [32],\n",
       "       [54],\n",
       "       [44],\n",
       "       [58]], dtype=int64)"
      ]
     },
     "execution_count": 96,
     "metadata": {},
     "output_type": "execute_result"
    }
   ],
   "source": [
    "ytest"
   ]
  },
  {
   "cell_type": "code",
   "execution_count": null,
   "id": "c7dde5a3",
   "metadata": {},
   "outputs": [],
   "source": []
  }
 ],
 "metadata": {
  "kernelspec": {
   "display_name": "Python 3 (ipykernel)",
   "language": "python",
   "name": "python3"
  },
  "language_info": {
   "codemirror_mode": {
    "name": "ipython",
    "version": 3
   },
   "file_extension": ".py",
   "mimetype": "text/x-python",
   "name": "python",
   "nbconvert_exporter": "python",
   "pygments_lexer": "ipython3",
   "version": "3.8.11"
  }
 },
 "nbformat": 4,
 "nbformat_minor": 5
}
