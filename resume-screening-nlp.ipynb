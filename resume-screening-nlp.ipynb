{
 "cells": [
  {
   "cell_type": "code",
   "execution_count": 1,
   "id": "78b0372c",
   "metadata": {
    "execution": {
     "iopub.execute_input": "2022-03-25T08:06:05.106443Z",
     "iopub.status.busy": "2022-03-25T08:06:05.105555Z",
     "iopub.status.idle": "2022-03-25T08:06:06.162123Z",
     "shell.execute_reply": "2022-03-25T08:06:06.161087Z",
     "shell.execute_reply.started": "2022-03-25T07:12:13.367663Z"
    },
    "papermill": {
     "duration": 1.095972,
     "end_time": "2022-03-25T08:06:06.162289",
     "exception": false,
     "start_time": "2022-03-25T08:06:05.066317",
     "status": "completed"
    },
    "tags": []
   },
   "outputs": [],
   "source": [
    "import pandas as pd\n",
    "import numpy as np\n",
    "import matplotlib.pyplot as plt\n",
    "import seaborn as sns"
   ]
  },
  {
   "cell_type": "code",
   "execution_count": 2,
   "id": "7db42324",
   "metadata": {
    "execution": {
     "iopub.execute_input": "2022-03-25T08:06:06.211488Z",
     "iopub.status.busy": "2022-03-25T08:06:06.210599Z",
     "iopub.status.idle": "2022-03-25T08:06:07.675519Z",
     "shell.execute_reply": "2022-03-25T08:06:07.676133Z",
     "shell.execute_reply.started": "2022-03-25T07:12:14.416644Z"
    },
    "papermill": {
     "duration": 1.491555,
     "end_time": "2022-03-25T08:06:07.676309",
     "exception": false,
     "start_time": "2022-03-25T08:06:06.184754",
     "status": "completed"
    },
    "tags": []
   },
   "outputs": [],
   "source": [
    "df = pd.read_csv(\"../input/resume-dataset/Resume/Resume.csv\")"
   ]
  },
  {
   "cell_type": "code",
   "execution_count": 3,
   "id": "fdbff78b",
   "metadata": {
    "execution": {
     "iopub.execute_input": "2022-03-25T08:06:07.730881Z",
     "iopub.status.busy": "2022-03-25T08:06:07.730248Z",
     "iopub.status.idle": "2022-03-25T08:06:07.744597Z",
     "shell.execute_reply": "2022-03-25T08:06:07.745053Z",
     "shell.execute_reply.started": "2022-03-25T07:12:15.844140Z"
    },
    "papermill": {
     "duration": 0.046588,
     "end_time": "2022-03-25T08:06:07.745211",
     "exception": false,
     "start_time": "2022-03-25T08:06:07.698623",
     "status": "completed"
    },
    "tags": []
   },
   "outputs": [
    {
     "data": {
      "text/html": [
       "<div>\n",
       "<style scoped>\n",
       "    .dataframe tbody tr th:only-of-type {\n",
       "        vertical-align: middle;\n",
       "    }\n",
       "\n",
       "    .dataframe tbody tr th {\n",
       "        vertical-align: top;\n",
       "    }\n",
       "\n",
       "    .dataframe thead th {\n",
       "        text-align: right;\n",
       "    }\n",
       "</style>\n",
       "<table border=\"1\" class=\"dataframe\">\n",
       "  <thead>\n",
       "    <tr style=\"text-align: right;\">\n",
       "      <th></th>\n",
       "      <th>ID</th>\n",
       "      <th>Resume_str</th>\n",
       "      <th>Resume_html</th>\n",
       "      <th>Category</th>\n",
       "    </tr>\n",
       "  </thead>\n",
       "  <tbody>\n",
       "    <tr>\n",
       "      <th>0</th>\n",
       "      <td>16852973</td>\n",
       "      <td>HR ADMINISTRATOR/MARKETING ASSOCIATE\\...</td>\n",
       "      <td>&lt;div class=\"fontsize fontface vmargins hmargin...</td>\n",
       "      <td>HR</td>\n",
       "    </tr>\n",
       "    <tr>\n",
       "      <th>1</th>\n",
       "      <td>22323967</td>\n",
       "      <td>HR SPECIALIST, US HR OPERATIONS      ...</td>\n",
       "      <td>&lt;div class=\"fontsize fontface vmargins hmargin...</td>\n",
       "      <td>HR</td>\n",
       "    </tr>\n",
       "    <tr>\n",
       "      <th>2</th>\n",
       "      <td>33176873</td>\n",
       "      <td>HR DIRECTOR       Summary      Over 2...</td>\n",
       "      <td>&lt;div class=\"fontsize fontface vmargins hmargin...</td>\n",
       "      <td>HR</td>\n",
       "    </tr>\n",
       "    <tr>\n",
       "      <th>3</th>\n",
       "      <td>27018550</td>\n",
       "      <td>HR SPECIALIST       Summary    Dedica...</td>\n",
       "      <td>&lt;div class=\"fontsize fontface vmargins hmargin...</td>\n",
       "      <td>HR</td>\n",
       "    </tr>\n",
       "    <tr>\n",
       "      <th>4</th>\n",
       "      <td>17812897</td>\n",
       "      <td>HR MANAGER         Skill Highlights  ...</td>\n",
       "      <td>&lt;div class=\"fontsize fontface vmargins hmargin...</td>\n",
       "      <td>HR</td>\n",
       "    </tr>\n",
       "    <tr>\n",
       "      <th>...</th>\n",
       "      <td>...</td>\n",
       "      <td>...</td>\n",
       "      <td>...</td>\n",
       "      <td>...</td>\n",
       "    </tr>\n",
       "    <tr>\n",
       "      <th>2479</th>\n",
       "      <td>99416532</td>\n",
       "      <td>RANK: SGT/E-5 NON- COMMISSIONED OFFIC...</td>\n",
       "      <td>&lt;div class=\"fontsize fontface vmargins hmargin...</td>\n",
       "      <td>AVIATION</td>\n",
       "    </tr>\n",
       "    <tr>\n",
       "      <th>2480</th>\n",
       "      <td>24589765</td>\n",
       "      <td>GOVERNMENT RELATIONS, COMMUNICATIONS ...</td>\n",
       "      <td>&lt;div class=\"fontsize fontface vmargins hmargin...</td>\n",
       "      <td>AVIATION</td>\n",
       "    </tr>\n",
       "    <tr>\n",
       "      <th>2481</th>\n",
       "      <td>31605080</td>\n",
       "      <td>GEEK SQUAD AGENT         Professional...</td>\n",
       "      <td>&lt;div class=\"fontsize fontface vmargins hmargin...</td>\n",
       "      <td>AVIATION</td>\n",
       "    </tr>\n",
       "    <tr>\n",
       "      <th>2482</th>\n",
       "      <td>21190805</td>\n",
       "      <td>PROGRAM DIRECTOR / OFFICE MANAGER    ...</td>\n",
       "      <td>&lt;div class=\"fontsize fontface vmargins hmargin...</td>\n",
       "      <td>AVIATION</td>\n",
       "    </tr>\n",
       "    <tr>\n",
       "      <th>2483</th>\n",
       "      <td>37473139</td>\n",
       "      <td>STOREKEEPER II       Professional Sum...</td>\n",
       "      <td>&lt;div class=\"fontsize fontface vmargins hmargin...</td>\n",
       "      <td>AVIATION</td>\n",
       "    </tr>\n",
       "  </tbody>\n",
       "</table>\n",
       "<p>2484 rows × 4 columns</p>\n",
       "</div>"
      ],
      "text/plain": [
       "            ID                                         Resume_str  \\\n",
       "0     16852973           HR ADMINISTRATOR/MARKETING ASSOCIATE\\...   \n",
       "1     22323967           HR SPECIALIST, US HR OPERATIONS      ...   \n",
       "2     33176873           HR DIRECTOR       Summary      Over 2...   \n",
       "3     27018550           HR SPECIALIST       Summary    Dedica...   \n",
       "4     17812897           HR MANAGER         Skill Highlights  ...   \n",
       "...        ...                                                ...   \n",
       "2479  99416532           RANK: SGT/E-5 NON- COMMISSIONED OFFIC...   \n",
       "2480  24589765           GOVERNMENT RELATIONS, COMMUNICATIONS ...   \n",
       "2481  31605080           GEEK SQUAD AGENT         Professional...   \n",
       "2482  21190805           PROGRAM DIRECTOR / OFFICE MANAGER    ...   \n",
       "2483  37473139           STOREKEEPER II       Professional Sum...   \n",
       "\n",
       "                                            Resume_html  Category  \n",
       "0     <div class=\"fontsize fontface vmargins hmargin...        HR  \n",
       "1     <div class=\"fontsize fontface vmargins hmargin...        HR  \n",
       "2     <div class=\"fontsize fontface vmargins hmargin...        HR  \n",
       "3     <div class=\"fontsize fontface vmargins hmargin...        HR  \n",
       "4     <div class=\"fontsize fontface vmargins hmargin...        HR  \n",
       "...                                                 ...       ...  \n",
       "2479  <div class=\"fontsize fontface vmargins hmargin...  AVIATION  \n",
       "2480  <div class=\"fontsize fontface vmargins hmargin...  AVIATION  \n",
       "2481  <div class=\"fontsize fontface vmargins hmargin...  AVIATION  \n",
       "2482  <div class=\"fontsize fontface vmargins hmargin...  AVIATION  \n",
       "2483  <div class=\"fontsize fontface vmargins hmargin...  AVIATION  \n",
       "\n",
       "[2484 rows x 4 columns]"
      ]
     },
     "execution_count": 3,
     "metadata": {},
     "output_type": "execute_result"
    }
   ],
   "source": [
    "df"
   ]
  },
  {
   "cell_type": "code",
   "execution_count": 4,
   "id": "e32016f8",
   "metadata": {
    "execution": {
     "iopub.execute_input": "2022-03-25T08:06:07.800440Z",
     "iopub.status.busy": "2022-03-25T08:06:07.799580Z",
     "iopub.status.idle": "2022-03-25T08:06:07.803003Z",
     "shell.execute_reply": "2022-03-25T08:06:07.802548Z",
     "shell.execute_reply.started": "2022-03-25T07:12:15.870023Z"
    },
    "papermill": {
     "duration": 0.034386,
     "end_time": "2022-03-25T08:06:07.803136",
     "exception": false,
     "start_time": "2022-03-25T08:06:07.768750",
     "status": "completed"
    },
    "tags": []
   },
   "outputs": [
    {
     "data": {
      "text/plain": [
       "ID             0\n",
       "Resume_str     0\n",
       "Resume_html    0\n",
       "Category       0\n",
       "dtype: int64"
      ]
     },
     "execution_count": 4,
     "metadata": {},
     "output_type": "execute_result"
    }
   ],
   "source": [
    "df.isnull().sum()"
   ]
  },
  {
   "cell_type": "code",
   "execution_count": 5,
   "id": "6387218e",
   "metadata": {
    "execution": {
     "iopub.execute_input": "2022-03-25T08:06:07.858679Z",
     "iopub.status.busy": "2022-03-25T08:06:07.858082Z",
     "iopub.status.idle": "2022-03-25T08:06:07.862404Z",
     "shell.execute_reply": "2022-03-25T08:06:07.862856Z",
     "shell.execute_reply.started": "2022-03-25T07:12:15.881575Z"
    },
    "papermill": {
     "duration": 0.037207,
     "end_time": "2022-03-25T08:06:07.863013",
     "exception": false,
     "start_time": "2022-03-25T08:06:07.825806",
     "status": "completed"
    },
    "tags": []
   },
   "outputs": [
    {
     "data": {
      "text/plain": [
       "INFORMATION-TECHNOLOGY    120\n",
       "BUSINESS-DEVELOPMENT      120\n",
       "FINANCE                   118\n",
       "ADVOCATE                  118\n",
       "ACCOUNTANT                118\n",
       "ENGINEERING               118\n",
       "CHEF                      118\n",
       "AVIATION                  117\n",
       "FITNESS                   117\n",
       "SALES                     116\n",
       "BANKING                   115\n",
       "HEALTHCARE                115\n",
       "CONSULTANT                115\n",
       "CONSTRUCTION              112\n",
       "PUBLIC-RELATIONS          111\n",
       "HR                        110\n",
       "DESIGNER                  107\n",
       "ARTS                      103\n",
       "TEACHER                   102\n",
       "APPAREL                    97\n",
       "DIGITAL-MEDIA              96\n",
       "AGRICULTURE                63\n",
       "AUTOMOBILE                 36\n",
       "BPO                        22\n",
       "Name: Category, dtype: int64"
      ]
     },
     "execution_count": 5,
     "metadata": {},
     "output_type": "execute_result"
    }
   ],
   "source": [
    "df['Category'].value_counts()"
   ]
  },
  {
   "cell_type": "code",
   "execution_count": 6,
   "id": "c5f7fc4d",
   "metadata": {
    "execution": {
     "iopub.execute_input": "2022-03-25T08:06:07.912789Z",
     "iopub.status.busy": "2022-03-25T08:06:07.912184Z",
     "iopub.status.idle": "2022-03-25T08:06:08.279818Z",
     "shell.execute_reply": "2022-03-25T08:06:08.280261Z",
     "shell.execute_reply.started": "2022-03-25T07:12:15.900733Z"
    },
    "papermill": {
     "duration": 0.393545,
     "end_time": "2022-03-25T08:06:08.280443",
     "exception": false,
     "start_time": "2022-03-25T08:06:07.886898",
     "status": "completed"
    },
    "tags": []
   },
   "outputs": [
    {
     "data": {
      "image/png": "[encoded data removed]",
      "text/plain": [
       "<Figure size 1224x576 with 1 Axes>"
      ]
     },
     "metadata": {
      "needs_background": "light"
     },
     "output_type": "display_data"
    }
   ],
   "source": [
    "fig = plt.figure(figsize=(17,8))\n",
    "sns.barplot(x=df['Category'].value_counts().index,\n",
    "           y=df['Category'].value_counts().values)\n",
    "plt.tick_params(axis ='x',rotation = 90)"
   ]
  },
  {
   "cell_type": "code",
   "execution_count": 7,
   "id": "203a4a05",
   "metadata": {
    "execution": {
     "iopub.execute_input": "2022-03-25T08:06:08.332462Z",
     "iopub.status.busy": "2022-03-25T08:06:08.331878Z",
     "iopub.status.idle": "2022-03-25T08:06:08.334554Z",
     "shell.execute_reply": "2022-03-25T08:06:08.335128Z",
     "shell.execute_reply.started": "2022-03-25T07:12:16.317018Z"
    },
    "papermill": {
     "duration": 0.030588,
     "end_time": "2022-03-25T08:06:08.335280",
     "exception": false,
     "start_time": "2022-03-25T08:06:08.304692",
     "status": "completed"
    },
    "tags": []
   },
   "outputs": [],
   "source": [
    "#now label encoder"
   ]
  },
  {
   "cell_type": "code",
   "execution_count": 8,
   "id": "9bb81c17",
   "metadata": {
    "execution": {
     "iopub.execute_input": "2022-03-25T08:06:08.387388Z",
     "iopub.status.busy": "2022-03-25T08:06:08.386812Z",
     "iopub.status.idle": "2022-03-25T08:06:08.521752Z",
     "shell.execute_reply": "2022-03-25T08:06:08.522263Z",
     "shell.execute_reply.started": "2022-03-25T07:12:16.323244Z"
    },
    "papermill": {
     "duration": 0.163243,
     "end_time": "2022-03-25T08:06:08.522491",
     "exception": false,
     "start_time": "2022-03-25T08:06:08.359248",
     "status": "completed"
    },
    "tags": []
   },
   "outputs": [],
   "source": [
    "from sklearn.preprocessing import LabelEncoder"
   ]
  },
  {
   "cell_type": "code",
   "execution_count": 9,
   "id": "99163fcd",
   "metadata": {
    "execution": {
     "iopub.execute_input": "2022-03-25T08:06:08.577127Z",
     "iopub.status.busy": "2022-03-25T08:06:08.576567Z",
     "iopub.status.idle": "2022-03-25T08:06:08.579331Z",
     "shell.execute_reply": "2022-03-25T08:06:08.578856Z",
     "shell.execute_reply.started": "2022-03-25T07:12:16.463675Z"
    },
    "papermill": {
     "duration": 0.031943,
     "end_time": "2022-03-25T08:06:08.579493",
     "exception": false,
     "start_time": "2022-03-25T08:06:08.547550",
     "status": "completed"
    },
    "tags": []
   },
   "outputs": [],
   "source": [
    "l = LabelEncoder()\n",
    "Categoryencoder  = l.fit_transform(df['Category'])"
   ]
  },
  {
   "cell_type": "code",
   "execution_count": 10,
   "id": "a75e0b44",
   "metadata": {
    "execution": {
     "iopub.execute_input": "2022-03-25T08:06:08.633784Z",
     "iopub.status.busy": "2022-03-25T08:06:08.633038Z",
     "iopub.status.idle": "2022-03-25T08:06:08.636691Z",
     "shell.execute_reply": "2022-03-25T08:06:08.636190Z",
     "shell.execute_reply.started": "2022-03-25T07:12:16.471433Z"
    },
    "papermill": {
     "duration": 0.033117,
     "end_time": "2022-03-25T08:06:08.636830",
     "exception": false,
     "start_time": "2022-03-25T08:06:08.603713",
     "status": "completed"
    },
    "tags": []
   },
   "outputs": [
    {
     "data": {
      "text/plain": [
       "(2484,)"
      ]
     },
     "execution_count": 10,
     "metadata": {},
     "output_type": "execute_result"
    }
   ],
   "source": [
    "Categoryencoder.shape"
   ]
  },
  {
   "cell_type": "code",
   "execution_count": 11,
   "id": "cf0d5a36",
   "metadata": {
    "execution": {
     "iopub.execute_input": "2022-03-25T08:06:08.689824Z",
     "iopub.status.busy": "2022-03-25T08:06:08.688982Z",
     "iopub.status.idle": "2022-03-25T08:06:08.691796Z",
     "shell.execute_reply": "2022-03-25T08:06:08.691302Z",
     "shell.execute_reply.started": "2022-03-25T07:12:16.484904Z"
    },
    "papermill": {
     "duration": 0.030745,
     "end_time": "2022-03-25T08:06:08.691922",
     "exception": false,
     "start_time": "2022-03-25T08:06:08.661177",
     "status": "completed"
    },
    "tags": []
   },
   "outputs": [],
   "source": [
    "#now remove special charactors"
   ]
  },
  {
   "cell_type": "code",
   "execution_count": 12,
   "id": "0ad824ba",
   "metadata": {
    "execution": {
     "iopub.execute_input": "2022-03-25T08:06:08.747761Z",
     "iopub.status.busy": "2022-03-25T08:06:08.746833Z",
     "iopub.status.idle": "2022-03-25T08:06:08.749427Z",
     "shell.execute_reply": "2022-03-25T08:06:08.748921Z",
     "shell.execute_reply.started": "2022-03-25T07:28:17.412569Z"
    },
    "papermill": {
     "duration": 0.033146,
     "end_time": "2022-03-25T08:06:08.749564",
     "exception": false,
     "start_time": "2022-03-25T08:06:08.716418",
     "status": "completed"
    },
    "tags": []
   },
   "outputs": [],
   "source": [
    "import re\n",
    "def cleanResume(resumeText):\n",
    "    resumeText = re.sub('http\\S+\\s*', ' ', resumeText)  \n",
    "    resumeText = re.sub('RT|cc', ' ', resumeText)  \n",
    "    resumeText = re.sub('#\\S+', '', resumeText)  \n",
    "    resumeText = re.sub('@\\S+', '  ', resumeText)  \n",
    "    resumeText = re.sub('[%s]' % re.escape(\"\"\"!\"#$%&'()*+,-./:;<=>?@[\\]^_`{|}~\"\"\"), ' ', resumeText) \n",
    "    resumeText = re.sub(r'[^\\x00-\\x7f]',r' ', resumeText) \n",
    "    resumeText = re.sub('\\s+', ' ', resumeText)  \n",
    "    return resumeText"
   ]
  },
  {
   "cell_type": "code",
   "execution_count": 13,
   "id": "1779c18c",
   "metadata": {
    "execution": {
     "iopub.execute_input": "2022-03-25T08:06:08.804438Z",
     "iopub.status.busy": "2022-03-25T08:06:08.803545Z",
     "iopub.status.idle": "2022-03-25T08:06:10.082511Z",
     "shell.execute_reply": "2022-03-25T08:06:10.082942Z",
     "shell.execute_reply.started": "2022-03-25T07:28:40.179167Z"
    },
    "papermill": {
     "duration": 1.309061,
     "end_time": "2022-03-25T08:06:10.083111",
     "exception": false,
     "start_time": "2022-03-25T08:06:08.774050",
     "status": "completed"
    },
    "tags": []
   },
   "outputs": [],
   "source": [
    "df['cleanResume'] = df.Resume_str.apply(lambda x:cleanResume(x))"
   ]
  },
  {
   "cell_type": "code",
   "execution_count": 14,
   "id": "97de6bef",
   "metadata": {
    "execution": {
     "iopub.execute_input": "2022-03-25T08:06:10.137596Z",
     "iopub.status.busy": "2022-03-25T08:06:10.136678Z",
     "iopub.status.idle": "2022-03-25T08:06:10.147204Z",
     "shell.execute_reply": "2022-03-25T08:06:10.147756Z",
     "shell.execute_reply.started": "2022-03-25T07:31:09.517107Z"
    },
    "papermill": {
     "duration": 0.039706,
     "end_time": "2022-03-25T08:06:10.147926",
     "exception": false,
     "start_time": "2022-03-25T08:06:10.108220",
     "status": "completed"
    },
    "tags": []
   },
   "outputs": [
    {
     "data": {
      "text/html": [
       "<div>\n",
       "<style scoped>\n",
       "    .dataframe tbody tr th:only-of-type {\n",
       "        vertical-align: middle;\n",
       "    }\n",
       "\n",
       "    .dataframe tbody tr th {\n",
       "        vertical-align: top;\n",
       "    }\n",
       "\n",
       "    .dataframe thead th {\n",
       "        text-align: right;\n",
       "    }\n",
       "</style>\n",
       "<table border=\"1\" class=\"dataframe\">\n",
       "  <thead>\n",
       "    <tr style=\"text-align: right;\">\n",
       "      <th></th>\n",
       "      <th>ID</th>\n",
       "      <th>Resume_str</th>\n",
       "      <th>Resume_html</th>\n",
       "      <th>Category</th>\n",
       "      <th>cleanResume</th>\n",
       "    </tr>\n",
       "  </thead>\n",
       "  <tbody>\n",
       "    <tr>\n",
       "      <th>0</th>\n",
       "      <td>16852973</td>\n",
       "      <td>HR ADMINISTRATOR/MARKETING ASSOCIATE\\...</td>\n",
       "      <td>&lt;div class=\"fontsize fontface vmargins hmargin...</td>\n",
       "      <td>HR</td>\n",
       "      <td>HR ADMINISTRATOR MARKETING ASSOCIATE HR ADMIN...</td>\n",
       "    </tr>\n",
       "    <tr>\n",
       "      <th>1</th>\n",
       "      <td>22323967</td>\n",
       "      <td>HR SPECIALIST, US HR OPERATIONS      ...</td>\n",
       "      <td>&lt;div class=\"fontsize fontface vmargins hmargin...</td>\n",
       "      <td>HR</td>\n",
       "      <td>HR SPECIALIST US HR OPERATIONS Summary Versat...</td>\n",
       "    </tr>\n",
       "    <tr>\n",
       "      <th>2</th>\n",
       "      <td>33176873</td>\n",
       "      <td>HR DIRECTOR       Summary      Over 2...</td>\n",
       "      <td>&lt;div class=\"fontsize fontface vmargins hmargin...</td>\n",
       "      <td>HR</td>\n",
       "      <td>HR DIRECTOR Summary Over 20 years experience ...</td>\n",
       "    </tr>\n",
       "    <tr>\n",
       "      <th>3</th>\n",
       "      <td>27018550</td>\n",
       "      <td>HR SPECIALIST       Summary    Dedica...</td>\n",
       "      <td>&lt;div class=\"fontsize fontface vmargins hmargin...</td>\n",
       "      <td>HR</td>\n",
       "      <td>HR SPECIALIST Summary Dedicated Driven and Dy...</td>\n",
       "    </tr>\n",
       "    <tr>\n",
       "      <th>4</th>\n",
       "      <td>17812897</td>\n",
       "      <td>HR MANAGER         Skill Highlights  ...</td>\n",
       "      <td>&lt;div class=\"fontsize fontface vmargins hmargin...</td>\n",
       "      <td>HR</td>\n",
       "      <td>HR MANAGER Skill Highlights HR SKILLS HR Depa...</td>\n",
       "    </tr>\n",
       "  </tbody>\n",
       "</table>\n",
       "</div>"
      ],
      "text/plain": [
       "         ID                                         Resume_str  \\\n",
       "0  16852973           HR ADMINISTRATOR/MARKETING ASSOCIATE\\...   \n",
       "1  22323967           HR SPECIALIST, US HR OPERATIONS      ...   \n",
       "2  33176873           HR DIRECTOR       Summary      Over 2...   \n",
       "3  27018550           HR SPECIALIST       Summary    Dedica...   \n",
       "4  17812897           HR MANAGER         Skill Highlights  ...   \n",
       "\n",
       "                                         Resume_html Category  \\\n",
       "0  <div class=\"fontsize fontface vmargins hmargin...       HR   \n",
       "1  <div class=\"fontsize fontface vmargins hmargin...       HR   \n",
       "2  <div class=\"fontsize fontface vmargins hmargin...       HR   \n",
       "3  <div class=\"fontsize fontface vmargins hmargin...       HR   \n",
       "4  <div class=\"fontsize fontface vmargins hmargin...       HR   \n",
       "\n",
       "                                         cleanResume  \n",
       "0   HR ADMINISTRATOR MARKETING ASSOCIATE HR ADMIN...  \n",
       "1   HR SPECIALIST US HR OPERATIONS Summary Versat...  \n",
       "2   HR DIRECTOR Summary Over 20 years experience ...  \n",
       "3   HR SPECIALIST Summary Dedicated Driven and Dy...  \n",
       "4   HR MANAGER Skill Highlights HR SKILLS HR Depa...  "
      ]
     },
     "execution_count": 14,
     "metadata": {},
     "output_type": "execute_result"
    }
   ],
   "source": [
    "df.head()"
   ]
  },
  {
   "cell_type": "code",
   "execution_count": 15,
   "id": "ec49869d",
   "metadata": {
    "execution": {
     "iopub.execute_input": "2022-03-25T08:06:10.201222Z",
     "iopub.status.busy": "2022-03-25T08:06:10.200229Z",
     "iopub.status.idle": "2022-03-25T08:06:10.203250Z",
     "shell.execute_reply": "2022-03-25T08:06:10.203748Z",
     "shell.execute_reply.started": "2022-03-25T07:32:14.602689Z"
    },
    "papermill": {
     "duration": 0.031309,
     "end_time": "2022-03-25T08:06:10.203917",
     "exception": false,
     "start_time": "2022-03-25T08:06:10.172608",
     "status": "completed"
    },
    "tags": []
   },
   "outputs": [],
   "source": [
    "# now convert the vector\n"
   ]
  },
  {
   "cell_type": "code",
   "execution_count": 16,
   "id": "9ac4acf3",
   "metadata": {
    "execution": {
     "iopub.execute_input": "2022-03-25T08:06:10.259726Z",
     "iopub.status.busy": "2022-03-25T08:06:10.259116Z",
     "iopub.status.idle": "2022-03-25T08:06:10.273167Z",
     "shell.execute_reply": "2022-03-25T08:06:10.273631Z",
     "shell.execute_reply.started": "2022-03-25T07:33:21.542997Z"
    },
    "papermill": {
     "duration": 0.043943,
     "end_time": "2022-03-25T08:06:10.273818",
     "exception": false,
     "start_time": "2022-03-25T08:06:10.229875",
     "status": "completed"
    },
    "tags": []
   },
   "outputs": [],
   "source": [
    "from sklearn.feature_extraction.text import TfidfVectorizer"
   ]
  },
  {
   "cell_type": "code",
   "execution_count": 17,
   "id": "4e189933",
   "metadata": {
    "execution": {
     "iopub.execute_input": "2022-03-25T08:06:10.328911Z",
     "iopub.status.busy": "2022-03-25T08:06:10.328066Z",
     "iopub.status.idle": "2022-03-25T08:06:10.330321Z",
     "shell.execute_reply": "2022-03-25T08:06:10.330767Z",
     "shell.execute_reply.started": "2022-03-25T07:34:28.534490Z"
    },
    "papermill": {
     "duration": 0.031852,
     "end_time": "2022-03-25T08:06:10.330941",
     "exception": false,
     "start_time": "2022-03-25T08:06:10.299089",
     "status": "completed"
    },
    "tags": []
   },
   "outputs": [],
   "source": [
    "word = TfidfVectorizer()"
   ]
  },
  {
   "cell_type": "code",
   "execution_count": 18,
   "id": "94361690",
   "metadata": {
    "execution": {
     "iopub.execute_input": "2022-03-25T08:06:10.385830Z",
     "iopub.status.busy": "2022-03-25T08:06:10.384947Z",
     "iopub.status.idle": "2022-03-25T08:06:11.837078Z",
     "shell.execute_reply": "2022-03-25T08:06:11.836595Z",
     "shell.execute_reply.started": "2022-03-25T07:35:15.145652Z"
    },
    "papermill": {
     "duration": 1.481062,
     "end_time": "2022-03-25T08:06:11.837215",
     "exception": false,
     "start_time": "2022-03-25T08:06:10.356153",
     "status": "completed"
    },
    "tags": []
   },
   "outputs": [],
   "source": [
    "clearnResume = word.fit_transform(df['cleanResume'])"
   ]
  },
  {
   "cell_type": "code",
   "execution_count": 19,
   "id": "98d52dc1",
   "metadata": {
    "execution": {
     "iopub.execute_input": "2022-03-25T08:06:11.891670Z",
     "iopub.status.busy": "2022-03-25T08:06:11.889952Z",
     "iopub.status.idle": "2022-03-25T08:06:11.893534Z",
     "shell.execute_reply": "2022-03-25T08:06:11.893920Z",
     "shell.execute_reply.started": "2022-03-25T07:35:32.361955Z"
    },
    "papermill": {
     "duration": 0.031406,
     "end_time": "2022-03-25T08:06:11.894071",
     "exception": false,
     "start_time": "2022-03-25T08:06:11.862665",
     "status": "completed"
    },
    "tags": []
   },
   "outputs": [],
   "source": [
    "#now train model"
   ]
  },
  {
   "cell_type": "code",
   "execution_count": 20,
   "id": "266e68e8",
   "metadata": {
    "execution": {
     "iopub.execute_input": "2022-03-25T08:06:11.949335Z",
     "iopub.status.busy": "2022-03-25T08:06:11.948712Z",
     "iopub.status.idle": "2022-03-25T08:06:11.995263Z",
     "shell.execute_reply": "2022-03-25T08:06:11.995764Z",
     "shell.execute_reply.started": "2022-03-25T07:36:11.708356Z"
    },
    "papermill": {
     "duration": 0.076875,
     "end_time": "2022-03-25T08:06:11.995954",
     "exception": false,
     "start_time": "2022-03-25T08:06:11.919079",
     "status": "completed"
    },
    "tags": []
   },
   "outputs": [],
   "source": [
    "from sklearn.model_selection import train_test_split"
   ]
  },
  {
   "cell_type": "code",
   "execution_count": 21,
   "id": "41c65d69",
   "metadata": {
    "execution": {
     "iopub.execute_input": "2022-03-25T08:06:12.051453Z",
     "iopub.status.busy": "2022-03-25T08:06:12.050789Z",
     "iopub.status.idle": "2022-03-25T08:06:12.056111Z",
     "shell.execute_reply": "2022-03-25T08:06:12.056539Z",
     "shell.execute_reply.started": "2022-03-25T07:37:12.754552Z"
    },
    "papermill": {
     "duration": 0.035679,
     "end_time": "2022-03-25T08:06:12.056703",
     "exception": false,
     "start_time": "2022-03-25T08:06:12.021024",
     "status": "completed"
    },
    "tags": []
   },
   "outputs": [],
   "source": [
    "xtrain,xtest,ytrain,ytest = train_test_split(clearnResume,Categoryencoder,test_size = 0.20)"
   ]
  },
  {
   "cell_type": "code",
   "execution_count": 22,
   "id": "fe65070b",
   "metadata": {
    "execution": {
     "iopub.execute_input": "2022-03-25T08:06:12.112971Z",
     "iopub.status.busy": "2022-03-25T08:06:12.112346Z",
     "iopub.status.idle": "2022-03-25T08:06:12.114727Z",
     "shell.execute_reply": "2022-03-25T08:06:12.115270Z",
     "shell.execute_reply.started": "2022-03-25T07:37:20.148707Z"
    },
    "papermill": {
     "duration": 0.032668,
     "end_time": "2022-03-25T08:06:12.115443",
     "exception": false,
     "start_time": "2022-03-25T08:06:12.082775",
     "status": "completed"
    },
    "tags": []
   },
   "outputs": [
    {
     "data": {
      "text/plain": [
       "(1987, 40284)"
      ]
     },
     "execution_count": 22,
     "metadata": {},
     "output_type": "execute_result"
    }
   ],
   "source": [
    "xtrain.shape"
   ]
  },
  {
   "cell_type": "code",
   "execution_count": 23,
   "id": "adf2e5ef",
   "metadata": {
    "execution": {
     "iopub.execute_input": "2022-03-25T08:06:12.169360Z",
     "iopub.status.busy": "2022-03-25T08:06:12.168780Z",
     "iopub.status.idle": "2022-03-25T08:06:12.173156Z",
     "shell.execute_reply": "2022-03-25T08:06:12.173595Z",
     "shell.execute_reply.started": "2022-03-25T07:37:27.246905Z"
    },
    "papermill": {
     "duration": 0.032947,
     "end_time": "2022-03-25T08:06:12.173750",
     "exception": false,
     "start_time": "2022-03-25T08:06:12.140803",
     "status": "completed"
    },
    "tags": []
   },
   "outputs": [
    {
     "data": {
      "text/plain": [
       "(1987,)"
      ]
     },
     "execution_count": 23,
     "metadata": {},
     "output_type": "execute_result"
    }
   ],
   "source": [
    "ytrain.shape"
   ]
  },
  {
   "cell_type": "code",
   "execution_count": 24,
   "id": "2633e66f",
   "metadata": {
    "execution": {
     "iopub.execute_input": "2022-03-25T08:06:12.227762Z",
     "iopub.status.busy": "2022-03-25T08:06:12.227209Z",
     "iopub.status.idle": "2022-03-25T08:06:12.365228Z",
     "shell.execute_reply": "2022-03-25T08:06:12.365684Z",
     "shell.execute_reply.started": "2022-03-25T07:39:24.981114Z"
    },
    "papermill": {
     "duration": 0.16654,
     "end_time": "2022-03-25T08:06:12.365877",
     "exception": false,
     "start_time": "2022-03-25T08:06:12.199337",
     "status": "completed"
    },
    "tags": []
   },
   "outputs": [],
   "source": [
    "from sklearn.multiclass import OneVsRestClassifier\n",
    "from sklearn.neighbors import KNeighborsClassifier"
   ]
  },
  {
   "cell_type": "code",
   "execution_count": 25,
   "id": "9318b247",
   "metadata": {
    "execution": {
     "iopub.execute_input": "2022-03-25T08:06:12.422509Z",
     "iopub.status.busy": "2022-03-25T08:06:12.421879Z",
     "iopub.status.idle": "2022-03-25T08:06:12.594791Z",
     "shell.execute_reply": "2022-03-25T08:06:12.595222Z",
     "shell.execute_reply.started": "2022-03-25T07:40:46.292874Z"
    },
    "papermill": {
     "duration": 0.203576,
     "end_time": "2022-03-25T08:06:12.595422",
     "exception": false,
     "start_time": "2022-03-25T08:06:12.391846",
     "status": "completed"
    },
    "tags": []
   },
   "outputs": [
    {
     "data": {
      "text/plain": [
       "OneVsRestClassifier(estimator=KNeighborsClassifier())"
      ]
     },
     "execution_count": 25,
     "metadata": {},
     "output_type": "execute_result"
    }
   ],
   "source": [
    "model = OneVsRestClassifier(KNeighborsClassifier())\n",
    "model.fit(xtrain,ytrain)"
   ]
  },
  {
   "cell_type": "code",
   "execution_count": 26,
   "id": "14dd0f67",
   "metadata": {
    "execution": {
     "iopub.execute_input": "2022-03-25T08:06:12.651513Z",
     "iopub.status.busy": "2022-03-25T08:06:12.650945Z",
     "iopub.status.idle": "2022-03-25T08:06:36.800139Z",
     "shell.execute_reply": "2022-03-25T08:06:36.799642Z",
     "shell.execute_reply.started": "2022-03-25T07:41:04.942783Z"
    },
    "papermill": {
     "duration": 24.17892,
     "end_time": "2022-03-25T08:06:36.800268",
     "exception": false,
     "start_time": "2022-03-25T08:06:12.621348",
     "status": "completed"
    },
    "tags": []
   },
   "outputs": [
    {
     "data": {
      "text/plain": [
       "0.6406643180674384"
      ]
     },
     "execution_count": 26,
     "metadata": {},
     "output_type": "execute_result"
    }
   ],
   "source": [
    "model.score(xtrain,ytrain)"
   ]
  },
  {
   "cell_type": "code",
   "execution_count": 27,
   "id": "3418fb28",
   "metadata": {
    "execution": {
     "iopub.execute_input": "2022-03-25T08:06:36.858525Z",
     "iopub.status.busy": "2022-03-25T08:06:36.857850Z",
     "iopub.status.idle": "2022-03-25T08:06:42.863888Z",
     "shell.execute_reply": "2022-03-25T08:06:42.864331Z",
     "shell.execute_reply.started": "2022-03-25T07:41:44.864878Z"
    },
    "papermill": {
     "duration": 6.03744,
     "end_time": "2022-03-25T08:06:42.864507",
     "exception": false,
     "start_time": "2022-03-25T08:06:36.827067",
     "status": "completed"
    },
    "tags": []
   },
   "outputs": [
    {
     "data": {
      "text/plain": [
       "0.4969818913480885"
      ]
     },
     "execution_count": 27,
     "metadata": {},
     "output_type": "execute_result"
    }
   ],
   "source": [
    "model.score(xtest,ytest)"
   ]
  },
  {
   "cell_type": "code",
   "execution_count": 28,
   "id": "d462a53d",
   "metadata": {
    "execution": {
     "iopub.execute_input": "2022-03-25T08:06:42.920778Z",
     "iopub.status.busy": "2022-03-25T08:06:42.919862Z",
     "iopub.status.idle": "2022-03-25T08:06:48.934012Z",
     "shell.execute_reply": "2022-03-25T08:06:48.934471Z",
     "shell.execute_reply.started": "2022-03-25T07:42:15.794672Z"
    },
    "papermill": {
     "duration": 6.043809,
     "end_time": "2022-03-25T08:06:48.934631",
     "exception": false,
     "start_time": "2022-03-25T08:06:42.890822",
     "status": "completed"
    },
    "tags": []
   },
   "outputs": [
    {
     "data": {
      "text/plain": [
       "array([18, 20, 16, 21, 19,  7,  4, 22, 19, 16, 23, 20, 20, 18, 20, 22, 21,\n",
       "       14, 22,  0, 18, 23, 22,  0,  0, 13, 13, 16, 23, 19, 10, 21, 15, 13,\n",
       "       19, 23, 12, 21, 14, 22, 18, 13, 13, 21, 19,  0, 19,  0, 21, 14, 19,\n",
       "       22, 15,  9,  0, 16,  6, 20, 18, 21, 22,  7, 15, 21,  9, 13, 23, 23,\n",
       "       21,  3, 21,  1, 19, 18, 15, 18, 22, 11, 20, 19, 22, 16,  9,  3,  3,\n",
       "       23, 20,  0,  1, 21, 16, 19, 14, 22, 18, 19, 11,  9,  1, 10,  4, 11,\n",
       "       10,  4, 22, 19, 23,  6, 13,  4,  9, 20, 20, 19, 19,  3, 18, 21,  9,\n",
       "       17, 20, 16,  9, 20, 17, 12, 22, 15,  0, 17, 14, 22,  9, 14,  1, 13,\n",
       "       21, 14, 21, 20, 21, 18, 13, 19, 22,  6, 19, 10, 16,  9, 15, 12,  9,\n",
       "       20, 23, 15, 22, 22, 20, 13, 19,  9, 11, 18, 23, 22, 18, 11, 22, 16,\n",
       "        9, 23, 17,  0, 22, 21, 19, 16, 16, 11,  9,  9, 17, 17, 22, 17, 11,\n",
       "        9, 14, 18, 12, 13, 22, 10, 17, 18, 10, 20, 19, 18, 20, 22,  0, 19,\n",
       "        9, 20, 23, 11, 12, 20,  6, 23, 21, 19, 22, 22, 19, 18,  7, 20,  6,\n",
       "       20, 15, 21, 15,  1, 18, 20, 11, 13, 15, 21,  9, 22, 12, 18, 11, 14,\n",
       "       10, 10, 21, 18, 23, 19, 18,  0,  1, 22, 20, 22, 23, 22, 22, 22, 22,\n",
       "       19, 18, 22,  0, 18, 21, 16, 22, 18,  9, 16,  6, 11, 15, 20, 20,  7,\n",
       "       22,  9,  3, 20,  1, 19, 17, 23, 21, 14, 11, 23, 14, 18, 10,  9, 20,\n",
       "       22, 22, 19, 12, 23, 23,  9, 22, 20, 13, 13, 20, 21,  9, 10, 12, 22,\n",
       "       20, 16, 20, 14,  9, 23, 12,  6, 17, 22, 20, 11, 22, 21, 14, 19, 19,\n",
       "       15,  6,  0, 17, 23, 14, 18, 19,  0,  3, 20, 16, 23, 20,  9,  9,  7,\n",
       "       16, 10, 23, 21,  1, 18, 22, 21, 22,  1,  9, 23,  0, 22,  0,  9, 15,\n",
       "       16, 16,  7, 13, 11, 16, 14, 12,  0,  9, 13, 22,  9, 18,  9, 20, 13,\n",
       "       12,  0, 18, 17, 13, 23, 21, 11, 13, 13,  0, 15,  7,  5,  3, 20,  9,\n",
       "       23, 15, 10,  4, 22,  0, 23, 10,  4, 20, 10, 22, 15, 12, 19, 14, 12,\n",
       "       22, 13,  9,  7, 20, 23,  7,  9,  9, 17,  7, 15, 20,  6, 13, 23,  0,\n",
       "        0, 20, 20, 18, 23,  0, 20, 22, 16, 14, 21, 13, 22,  0, 22, 10, 18,\n",
       "       11, 20, 18, 16, 23, 23, 15, 12, 20, 16, 14, 18,  0, 22, 22,  0,  4,\n",
       "        0, 22, 20, 19, 16, 22, 11, 15, 20,  1, 22, 20,  1, 17, 15, 17,  9,\n",
       "       19, 20, 22, 11, 23, 17, 18, 22, 22,  6,  2, 18, 12,  7,  0, 18, 16,\n",
       "       20, 10, 14, 19])"
      ]
     },
     "execution_count": 28,
     "metadata": {},
     "output_type": "execute_result"
    }
   ],
   "source": [
    "model.predict(xtest)"
   ]
  },
  {
   "cell_type": "code",
   "execution_count": 29,
   "id": "5dc9865a",
   "metadata": {
    "execution": {
     "iopub.execute_input": "2022-03-25T08:06:48.995030Z",
     "iopub.status.busy": "2022-03-25T08:06:48.993934Z",
     "iopub.status.idle": "2022-03-25T08:06:49.350962Z",
     "shell.execute_reply": "2022-03-25T08:06:49.351368Z",
     "shell.execute_reply.started": "2022-03-25T07:59:41.112713Z"
    },
    "papermill": {
     "duration": 0.38932,
     "end_time": "2022-03-25T08:06:49.351571",
     "exception": false,
     "start_time": "2022-03-25T08:06:48.962251",
     "status": "completed"
    },
    "tags": []
   },
   "outputs": [
    {
     "data": {
      "text/plain": [
       "array([18])"
      ]
     },
     "execution_count": 29,
     "metadata": {},
     "output_type": "execute_result"
    }
   ],
   "source": [
    "model.predict(xtest[0])"
   ]
  },
  {
   "cell_type": "code",
   "execution_count": null,
   "id": "38c8c92a",
   "metadata": {
    "papermill": {
     "duration": 0.026908,
     "end_time": "2022-03-25T08:06:49.405702",
     "exception": false,
     "start_time": "2022-03-25T08:06:49.378794",
     "status": "completed"
    },
    "tags": []
   },
   "outputs": [],
   "source": []
  }
 ],
 "metadata": {
  "kernelspec": {
   "display_name": "Python 3",
   "language": "python",
   "name": "python3"
  },
  "language_info": {
   "codemirror_mode": {
    "name": "ipython",
    "version": 3
   },
   "file_extension": ".py",
   "mimetype": "text/x-python",
   "name": "python",
   "nbconvert_exporter": "python",
   "pygments_lexer": "ipython3",
   "version": "3.7.12"
  },
  "papermill": {
   "default_parameters": {},
   "duration": 53.463487,
   "end_time": "2022-03-25T08:06:50.143831",
   "environment_variables": {},
   "exception": null,
   "input_path": "__notebook__.ipynb",
   "output_path": "__notebook__.ipynb",
   "parameters": {},
   "start_time": "2022-03-25T08:05:56.680344",
   "version": "2.3.3"
  }
 },
 "nbformat": 4,
 "nbformat_minor": 5
}
